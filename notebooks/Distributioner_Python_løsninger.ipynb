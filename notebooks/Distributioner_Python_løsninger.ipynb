{
  "nbformat": 4,
  "nbformat_minor": 0,
  "metadata": {
    "colab": {
      "provenance": [],
      "authorship_tag": "ABX9TyOfJWHJL4pKYT+FFsjH8GGw",
      "include_colab_link": true
    },
    "kernelspec": {
      "name": "python3",
      "display_name": "Python 3"
    },
    "language_info": {
      "name": "python"
    }
  },
  "cells": [
    {
      "cell_type": "markdown",
      "metadata": {
        "id": "view-in-github",
        "colab_type": "text"
      },
      "source": [
        "<a href=\"https://colab.research.google.com/github/CNielsen94/Random_data_repo/blob/main/notebooks/Distributioner_Python_l%C3%B8sninger.ipynb\" target=\"_parent\"><img src=\"https://colab.research.google.com/assets/colab-badge.svg\" alt=\"Open In Colab\"/></a>"
      ]
    },
    {
      "cell_type": "markdown",
      "source": [
        "#8.1\n",
        "\n"
      ],
      "metadata": {
        "id": "DmB7WMplRhyd"
      }
    },
    {
      "cell_type": "markdown",
      "source": [
        "**a. Hvad er forskellen på sandsynlighedsfunktionen og tæthedsfunktionen (probability density function)?**<br>\n",
        "Sandsynlighedsfunktionen (ofte refereret til som sandsynlighedsmassefunktionen for diskrete variable) giver sandsynligheden for, at en stokastisk variabel antager en specifik værdi. For diskrete tilfælde summer sandsynlighederne for alle mulige udfald til 1.\n",
        "\n",
        "Tæthedsfunktionen (probability density function, PDF) er anvendt for kontinuerlige stokastiske variabler og beskriver, hvordan sandsynlighederne er fordelt over forskellige værdier af den stokastiske variabel. Da kontinuerlige variabler kan antage et uendeligt antal værdier inden for ethvert interval, giver tæthedsfunktionen ikke sandsynligheden for en specifik værdi, men sandsynligheden for at falde inden for et bestemt interval kan findes ved at integrere tæthedsfunktionen over intervallet.\n",
        "\n",
        "**b. Hvordan kan tæthedsfunktionen beskrives grafisk?**<br>\n",
        "Grafisk kan tæthedsfunktionen beskrives som en kurve, hvor hver punkt på kurven repræsenterer tætheden af sandsynligheden ved den givne værdi. Kurvens form kan variere afhængigt af distributionen, men arealet under kurven inden for et interval repræsenterer sandsynligheden for at den stokastiske variabel falder inden for det interval. For at kurven kan repræsentere en gyldig tæthedsfunktion, skal arealet under hele kurven være lig med 1.\n",
        "\n",
        "**c. Hvad beskriver området under tæthedsfunktionen for kontinuerlige, stokastiske variabler?**<br>\n",
        "Området under tæthedsfunktionen for kontinuerlige, stokastiske variabler beskriver sandsynligheden for, at den stokastiske variabel vil falde inden for et specifikt interval. Dette område kan findes ved at integrere tæthedsfunktionen over det ønskede interval. Det er vigtigt at forstå, at for en kontinuerlig variabel, er sandsynligheden for at antage en præcis værdi teknisk set 0, da der er uendeligt mange mulige værdier. Derfor fokuserer vi på sandsynligheden for at falde inden for intervaller, når vi arbejder med kontinuerlige variabler."
      ],
      "metadata": {
        "id": "s6Wd--dGRKAV"
      }
    },
    {
      "cell_type": "markdown",
      "source": [
        "#8.5"
      ],
      "metadata": {
        "id": "OIGmn6p5RrEJ"
      }
    },
    {
      "cell_type": "markdown",
      "source": [
        "Givet en stokastisk variabel $X$, som har en uniform fordeling mellem 100 og 150, kan vi beregne følgende:\n",
        "\n",
        "**a. Lav tæthedsfunktionen**\n",
        "\n",
        "For en uniform fordeling mellem $a = 100$ og $b = 150$, er tæthedsfunktionen (PDF) givet ved:\n",
        "$f(x) = \\frac{1}{b - a} = \\frac{1}{150 - 100} = \\frac{1}{50}$\n",
        "Dette betyder, at sandsynlighedstætheden er konstant og lig $\\frac{1}{50}$ for alle $x$ i intervallet [100, 150].\n",
        "\n",
        "**b. Find $P(X > 110)$**\n",
        "\n",
        "Dette er sandsynligheden for at $X$ er større end 110. Vi beregner denne sandsynlighed som:\n",
        "$P(X > 110) = \\frac{150 - 110}{50} = \\frac{40}{50} = 0.8$\n",
        "\n",
        "**c. Find $P(120 < X < 135)$**\n",
        "\n",
        "Dette er sandsynligheden for at $X$ falder indenfor intervallet [120, 135]. Vi beregner denne sandsynlighed som:\n",
        "$P(120 < X < 135) = \\frac{135 - 120}{50} = \\frac{15}{50} = 0.3$\n",
        "\n",
        "**d. Find $P(X < 122)$**\n",
        "\n",
        "Dette er sandsynligheden for at $X$ er mindre end 122. Vi beregner denne sandsynlighed som:\n",
        "$P(X < 122) = \\frac{122 - 100}{50} = \\frac{22}{50} = 0.44$\n",
        "\n",
        "Disse beregninger udnytter egenskaberne ved den uniforme fordeling, hvor hvert punkt inden for det definerede interval har lige stor sandsynlighed for at blive observeret.\n"
      ],
      "metadata": {
        "id": "8haIBa3gR0PR"
      }
    },
    {
      "cell_type": "code",
      "execution_count": 6,
      "metadata": {
        "colab": {
          "base_uri": "https://localhost:8080/"
        },
        "id": "HhnGIlgsQyw5",
        "outputId": "12086ed9-d9c1-4048-a767-81fc12630669"
      },
      "outputs": [
        {
          "output_type": "execute_result",
          "data": {
            "text/plain": [
              "0.02"
            ]
          },
          "metadata": {},
          "execution_count": 6
        }
      ],
      "source": [
        "# Definerer parametre for uniform fordeling\n",
        "a = 100\n",
        "b = 150\n",
        "\n",
        "# Tæthedsfunktionen for uniform fordeling\n",
        "f_x = 1 / (b - a)\n",
        "f_x"
      ]
    },
    {
      "cell_type": "code",
      "source": [
        "# Beregner sandsynlighederne\n",
        "# b. P(X > 110)\n",
        "P_X_gt_110 = (b - 110) * f_x\n",
        "P_X_gt_110"
      ],
      "metadata": {
        "colab": {
          "base_uri": "https://localhost:8080/"
        },
        "id": "_0YaghpuQ24Q",
        "outputId": "c48ac734-1416-4118-e551-e2c1821c5973"
      },
      "execution_count": 7,
      "outputs": [
        {
          "output_type": "execute_result",
          "data": {
            "text/plain": [
              "0.8"
            ]
          },
          "metadata": {},
          "execution_count": 7
        }
      ]
    },
    {
      "cell_type": "code",
      "source": [
        "# c. P(120 < X < 135)\n",
        "P_120_lt_X_lt_135 = (135 - 120) * f_x\n",
        "P_120_lt_X_lt_135"
      ],
      "metadata": {
        "colab": {
          "base_uri": "https://localhost:8080/"
        },
        "id": "MSeLwx-3Q213",
        "outputId": "69725f96-7ccf-4cf0-869d-17b05c8c8f02"
      },
      "execution_count": 8,
      "outputs": [
        {
          "output_type": "execute_result",
          "data": {
            "text/plain": [
              "0.3"
            ]
          },
          "metadata": {},
          "execution_count": 8
        }
      ]
    },
    {
      "cell_type": "code",
      "source": [
        "# d. P(X < 122)\n",
        "P_X_lt_122 = (122 - a) * f_x\n",
        "P_X_lt_122"
      ],
      "metadata": {
        "colab": {
          "base_uri": "https://localhost:8080/"
        },
        "id": "SRgcK58YQ20F",
        "outputId": "e8cff1c7-e0d7-41e3-9855-27b70426f473"
      },
      "execution_count": 9,
      "outputs": [
        {
          "output_type": "execute_result",
          "data": {
            "text/plain": [
              "0.44"
            ]
          },
          "metadata": {},
          "execution_count": 9
        }
      ]
    },
    {
      "cell_type": "markdown",
      "source": [
        "#8.20"
      ],
      "metadata": {
        "id": "9ep9KDfZSqAN"
      }
    },
    {
      "cell_type": "markdown",
      "source": [
        "For at finde sandsynligheden $P(Z < 1.60)$, hvor $Z$ er en standard normalfordelt stokastisk variabel, anvender vi den kumulative fordelingsfunktion (CDF). Den kumulative fordelingsfunktion for en standard normalfordeling angiver sandsynligheden for, at $Z$ vil være mindre end eller lig med en given værdi.\n",
        "\n",
        "Formlen for CDF for en standard normalfordeling er ikke simpel at udtrykke i en lukket form, men den kan beregnes effektivt med statistisk software eller ved at slå op i standard normalfordelingstabeller. Den kumulative sandsynlighed $P(Z < z)$ for en værdi $z$ kan findes direkte ved at anvende disse metoder."
      ],
      "metadata": {
        "id": "23sWqG0aS5eG"
      }
    },
    {
      "cell_type": "code",
      "source": [
        "from scipy.stats import norm\n",
        "\n",
        "# Beregner P(Z < 1.60) for en standard normalfordelt variabel Z\n",
        "P_Z_lt_1_60 = norm.cdf(1.60)\n",
        "\n",
        "P_Z_lt_1_60"
      ],
      "metadata": {
        "colab": {
          "base_uri": "https://localhost:8080/"
        },
        "id": "rXo7J3oFQ2yN",
        "outputId": "70c96080-cd9e-480c-ebbf-08d49d207283"
      },
      "execution_count": 10,
      "outputs": [
        {
          "output_type": "execute_result",
          "data": {
            "text/plain": [
              "0.945200708300442"
            ]
          },
          "metadata": {},
          "execution_count": 10
        }
      ]
    },
    {
      "cell_type": "markdown",
      "source": [
        "#8.28"
      ],
      "metadata": {
        "id": "-B4bdIRxTeVb"
      }
    },
    {
      "cell_type": "markdown",
      "source": [
        "For at finde sandsynligheden $P(Z \\geq 1.87)$, hvor $Z$ er en standard normalfordelt stokastisk variabel, anvender vi igen den kumulative fordelingsfunktion (CDF) for en standard normalfordeling. I dette tilfælde er vi interesseret i den øvre hale af fordelingen, det vil sige sandsynligheden for, at $Z$ er større end eller lig med en given værdi.\n",
        "\n",
        "Da CDF giver os $P(Z < z)$, kan vi finde $P(Z \\geq z)$ ved at beregne komplementet til denne sandsynlighed:\n",
        "\n",
        "$1 - P(Z < 1.87)$\n"
      ],
      "metadata": {
        "id": "3tBb_fEtT1Oh"
      }
    },
    {
      "cell_type": "code",
      "source": [
        "# Beregner P(Z >= 1.87) for en standard normalfordelt variabel Z\n",
        "# Dette gøres ved at beregne 1 - P(Z < 1.87) for at få den øvre hale sandsynlighed\n",
        "P_Z_ge_1_87 = 1 - norm.cdf(1.87)\n",
        "\n",
        "P_Z_ge_1_87"
      ],
      "metadata": {
        "colab": {
          "base_uri": "https://localhost:8080/"
        },
        "id": "mJ4mZfiqQ2wV",
        "outputId": "5f877d2d-5bfa-4bc0-82f5-375d22f741c4"
      },
      "execution_count": 11,
      "outputs": [
        {
          "output_type": "execute_result",
          "data": {
            "text/plain": [
              "0.030741908929465933"
            ]
          },
          "metadata": {},
          "execution_count": 11
        }
      ]
    },
    {
      "cell_type": "markdown",
      "source": [
        "#8.30"
      ],
      "metadata": {
        "id": "GI06edoRUJkf"
      }
    },
    {
      "cell_type": "markdown",
      "source": [
        "For at finde sandsynligheden $P(1.04 < Z < 2.03)$, hvor $Z$ er en standard normalfordelt stokastisk variabel, benytter vi den kumulative fordelingsfunktion (CDF) til at beregne sandsynligheden for, at $Z$ falder inden for dette specifikke interval.\n",
        "\n",
        "Sandsynligheden for et interval kan findes ved at tage forskellen mellem de kumulative sandsynligheder for de øvre og nedre grænser af intervallet:\n",
        "\n",
        "$P(1.04 < Z < 2.03) = P(Z < 2.03) - P(Z < 1.04)$\n"
      ],
      "metadata": {
        "id": "YqFp1ghNUZnm"
      }
    },
    {
      "cell_type": "code",
      "source": [
        "# Beregner P(1.04 < Z < 2.03) for en standard normalfordelt variabel Z\n",
        "# Dette gøres ved at beregne P(Z < 2.03) - P(Z < 1.04)\n",
        "P_1_04_lt_Z_lt_2_03 = norm.cdf(2.03) - norm.cdf(1.04)\n",
        "\n",
        "P_1_04_lt_Z_lt_2_03"
      ],
      "metadata": {
        "colab": {
          "base_uri": "https://localhost:8080/"
        },
        "id": "9enbrru5Q2ug",
        "outputId": "2477293e-bc68-4530-ee77-fcd7d9f9f278"
      },
      "execution_count": 12,
      "outputs": [
        {
          "output_type": "execute_result",
          "data": {
            "text/plain": [
              "0.12799168068830913"
            ]
          },
          "metadata": {},
          "execution_count": 12
        }
      ]
    },
    {
      "cell_type": "markdown",
      "source": [
        "#8.40"
      ],
      "metadata": {
        "id": "smXRA2hPUsyP"
      }
    },
    {
      "cell_type": "markdown",
      "source": [
        "X er normalfordelt med en middelværdi på $\\mu = 1000$ og en standardafvigelse på $\\sigma = 250$. For at finde sandsynligheden for, at $X$ er mellem 800 og 1.100, $P(800 < X < 1.100)$, kan vi først omregne disse $X$-værdier til $Z$-scores ved hjælp af transformationen:\n",
        "\n",
        "$Z = \\frac{X - \\mu}{\\sigma}$\n",
        "\n",
        "Herefter anvender vi den kumulative fordelingsfunktion (CDF) for en standard normalfordeling til at finde sandsynligheden for, at $X$ falder inden for dette interval:\n",
        "\n",
        "$P(800 < X < 1.100) = P(Z < \\frac{1.100 - 1000}{250}) - P(Z < \\frac{800 - 1000}{250})$\n"
      ],
      "metadata": {
        "id": "lb1k6UP6UuKt"
      }
    },
    {
      "cell_type": "code",
      "source": [
        "# Variablen X er normalfordelt med en middelværdi (mu) på 1000 og en standardafvigelse (sigma) på 250.\n",
        "mu = 1000\n",
        "sigma = 250"
      ],
      "metadata": {
        "id": "oj4DjtY1Q2sc"
      },
      "execution_count": 13,
      "outputs": []
    },
    {
      "cell_type": "code",
      "source": [
        "# Beregner P(800 < X < 1100) for denne normalfordeling\n",
        "# Dette gøres ved at omregne X-værdierne til Z-scores og anvende CDF\n",
        "Z_score_800 = (800 - mu) / sigma\n",
        "Z_score_1100 = (1100 - mu) / sigma"
      ],
      "metadata": {
        "id": "UZyLyd8nQ2qY"
      },
      "execution_count": 14,
      "outputs": []
    },
    {
      "cell_type": "code",
      "source": [
        "P_800_lt_X_lt_1100 = norm.cdf(Z_score_1100) - norm.cdf(Z_score_800)"
      ],
      "metadata": {
        "id": "AT3-WwTkQ2oX"
      },
      "execution_count": 15,
      "outputs": []
    },
    {
      "cell_type": "code",
      "source": [
        "P_800_lt_X_lt_1100"
      ],
      "metadata": {
        "colab": {
          "base_uri": "https://localhost:8080/"
        },
        "id": "z9tw39-8Q2mi",
        "outputId": "9c49aca4-d2cb-4947-e5e3-815d4fc1fdfb"
      },
      "execution_count": 16,
      "outputs": [
        {
          "output_type": "execute_result",
          "data": {
            "text/plain": [
              "0.4435663430269275"
            ]
          },
          "metadata": {},
          "execution_count": 16
        }
      ]
    },
    {
      "cell_type": "markdown",
      "source": [
        "#8.41"
      ],
      "metadata": {
        "id": "Gulq18_jVRaZ"
      }
    },
    {
      "cell_type": "markdown",
      "source": [
        "For at bestemme ved hvilken værdi $X$ er kun 8\\% under dens middelværdi for en normalfordelt variabel $X$ med middelværdi $\\mu = 50$ og standardafvigelse $\\sigma = 8$, beregner vi først den faktiske værdi, som er 8\\% under middelværdien:\n",
        "\n",
        "$X_{\\text{8% under}} = \\mu \\times 0.92 = 46$\n",
        "\n",
        "Dernæst beregner vi sandsynligheden for, at $X$ er mindre end denne værdi ved at anvende den kumulative fordelingsfunktion (CDF) for en normalfordeling. Den omregnede Z-score for $X_{\\text{8% under}}$ er:\n",
        "\n",
        "$Z = \\frac{X_{\\text{8% under}} - \\mu}{\\sigma}$"
      ],
      "metadata": {
        "id": "qRHpSyEFVZSY"
      }
    },
    {
      "cell_type": "code",
      "source": [
        "# Variablen X er normalfordelt med en middelværdi (mu) på 50 og en standardafvigelse (sigma) på 8.\n",
        "mu = 50\n",
        "sigma = 8"
      ],
      "metadata": {
        "id": "fATMtdaEQ2kq"
      },
      "execution_count": 17,
      "outputs": []
    },
    {
      "cell_type": "code",
      "source": [
        "# Vi skal finde værdien af X, der er 8% under middelværdien.\n",
        "# Først finder vi den faktiske værdi, som er 8% under middelværdien.\n",
        "X_value_8_percent_under = mu * 0.92"
      ],
      "metadata": {
        "id": "AXmdCZ1-VZl-"
      },
      "execution_count": 18,
      "outputs": []
    },
    {
      "cell_type": "code",
      "source": [
        "# Herefter beregner vi sandsynligheden for, at X er mindre end denne værdi.\n",
        "Z_score_X_value_8_percent_under = (X_value_8_percent_under - mu) / sigma"
      ],
      "metadata": {
        "id": "rUIQ9_XJVaNK"
      },
      "execution_count": 19,
      "outputs": []
    },
    {
      "cell_type": "code",
      "source": [
        "P_X_8_percent_under = norm.cdf(Z_score_X_value_8_percent_under)\n",
        "\n",
        "X_value_8_percent_under, P_X_8_percent_under"
      ],
      "metadata": {
        "colab": {
          "base_uri": "https://localhost:8080/"
        },
        "id": "6X1g1VI7VaLZ",
        "outputId": "74384294-d77c-4010-c136-de319188645b"
      },
      "execution_count": 20,
      "outputs": [
        {
          "output_type": "execute_result",
          "data": {
            "text/plain": [
              "(46.0, 0.3085375387259869)"
            ]
          },
          "metadata": {},
          "execution_count": 20
        }
      ]
    },
    {
      "cell_type": "markdown",
      "source": [
        "#8.44"
      ],
      "metadata": {
        "id": "irb2NHrEWCoW"
      }
    },
    {
      "cell_type": "markdown",
      "source": [
        "De livstidsprærer, der annonceres til at have en levetid på 5000 timer, er normalfordelt med en middelværdi på $\\mu = 5100$ timer og en standardafvigelse på $\\sigma = 200$ timer. For at finde sandsynligheden for, at pæren holder længere end annonceret, beregner vi først Z-scoren for 5000 timer:\n",
        "\n",
        "$Z = \\frac{5000 - \\mu}{\\sigma}$\n",
        "\n",
        "Herefter finder vi sandsynligheden for, at $X$ (levetiden) er større end 5000 timer ved at beregne komplementet til den kumulative sandsynlighed for denne Z-score:\n",
        "\n",
        "$P(X > 5000) = 1 - P(X < 5000) = 1 - \\Phi(Z)$\n",
        "\n",
        "Beregningen giver, at sandsynligheden for, at pæren holder længere end de annoncerede 5000 timer, er:\n",
        "\n",
        "$P(X > 5000) \\approx 0.6915$\n",
        "\n",
        "Dette indikerer, at der er en 69.15\\% sandsynlighed for, at pæren vil holde længere end de annoncerede 5000 timer.\n"
      ],
      "metadata": {
        "id": "pM-5gJjbWZoE"
      }
    },
    {
      "cell_type": "code",
      "source": [
        "# Livstidsprærens middelværdi og standardafvigelse\n",
        "mu = 5100\n",
        "sigma = 200"
      ],
      "metadata": {
        "id": "iec51z4HVaHf"
      },
      "execution_count": 21,
      "outputs": []
    },
    {
      "cell_type": "code",
      "source": [
        "# Vi skal finde sandsynligheden for, at præren holder længere end annonceret (5000 timer)\n",
        "# Omregner 5000 timer til Z-score\n",
        "Z_score_5000 = (5000 - mu) / sigma"
      ],
      "metadata": {
        "id": "A2UoKHEfVaFh"
      },
      "execution_count": 22,
      "outputs": []
    },
    {
      "cell_type": "code",
      "source": [
        "# Beregner P(X > 5000) ved at finde komplementet til CDF for Z_score_5000\n",
        "P_X_gt_5000 = 1 - norm.cdf(Z_score_5000)\n"
      ],
      "metadata": {
        "id": "SvqYtvkoVaDm"
      },
      "execution_count": 23,
      "outputs": []
    },
    {
      "cell_type": "code",
      "source": [
        "P_X_gt_5000"
      ],
      "metadata": {
        "colab": {
          "base_uri": "https://localhost:8080/"
        },
        "id": "WoXLcYl3VaBf",
        "outputId": "0f208b64-b53d-4d6c-9fa6-494ef220d726"
      },
      "execution_count": 24,
      "outputs": [
        {
          "output_type": "execute_result",
          "data": {
            "text/plain": [
              "0.6914624612740131"
            ]
          },
          "metadata": {},
          "execution_count": 24
        }
      ]
    },
    {
      "cell_type": "markdown",
      "source": [
        "#8.45"
      ],
      "metadata": {
        "id": "rZhRax0tWxJy"
      }
    },
    {
      "cell_type": "markdown",
      "source": [
        "Refererer til opgave 8.44, hvis vi ønsker at være sikre på, at 98\\% af alle pærer holder længere end det, der annonceres, skal vi først finde den Z-score, der svarer til den nederste 2\\% af fordelingen, fordi vi ønsker, at 98\\% skal være over denne værdi. Ved hjælp af den kumulative fordelingsfunktion (CDF) finder vi:\n",
        "\n",
        "$Z_{0.02} = \\Phi^{-1}(0.02)$\n",
        "\n",
        "Dernæst omregner vi denne Z-score tilbage til en X-værdi, som repræsenterer den annoncerede levetid, ved at anvende formlen for en normalfordelt variabel:\n",
        "\n",
        "$X_{\\text{annonceret}} = Z_{0.02} \\cdot \\sigma + \\mu$\n",
        "\n",
        "Beregningen giver, at for at være sikre på, at 98\\% af alle pærer holder længere end det, der annonceres, bør levetiden, der annonceres med, være:\n",
        "\n",
        "$X_{\\text{annonceret}} \\approx 4689 \\text{ timer}$\n",
        "\n",
        "Dette sikrer, at 98\\% af pærerne vil holde længere end den annoncerede levetid.\n"
      ],
      "metadata": {
        "id": "4-jMNJOwW4di"
      }
    },
    {
      "cell_type": "code",
      "source": [
        "# Vi ønsker at finde den annoncerede levetid, der sikrer, at 98% af alle pærer holder længere end dette.\n",
        "# Finder den Z-score der svarer til den nederste 2% (da vi ønsker 98% over denne værdi)\n",
        "Z_score_98_percentile = norm.ppf(0.02)"
      ],
      "metadata": {
        "id": "Ygq5Ikv8VZ_n"
      },
      "execution_count": 25,
      "outputs": []
    },
    {
      "cell_type": "code",
      "source": [
        "# Omregner Z-score tilbage til X-værdi (levetid)\n",
        "X_announced_time = Z_score_98_percentile * sigma + mu\n",
        "\n",
        "X_announced_time"
      ],
      "metadata": {
        "colab": {
          "base_uri": "https://localhost:8080/"
        },
        "id": "DW_QZQ9qVZ9e",
        "outputId": "7ddb2a02-e6d9-44b1-d4df-7ca608e74247"
      },
      "execution_count": 26,
      "outputs": [
        {
          "output_type": "execute_result",
          "data": {
            "text/plain": [
              "4689.250217873636"
            ]
          },
          "metadata": {},
          "execution_count": 26
        }
      ]
    },
    {
      "cell_type": "markdown",
      "source": [
        "#8.85"
      ],
      "metadata": {
        "id": "xOYCjPeXXSYy"
      }
    },
    {
      "cell_type": "markdown",
      "source": [
        "Disse værdier repræsenterer de kritiske t-værdier ved de angivne signifikansniveauer og frihedsgrader, som kan bruges i statistiske tests, såsom t-tests, for at bestemme, om der er signifikante forskelle mellem middelværdierne af to sæt data."
      ],
      "metadata": {
        "id": "dBDwYmXIXZVe"
      }
    },
    {
      "cell_type": "code",
      "source": [
        "from scipy.stats import t\n",
        "\n",
        "# Beregner de angivne t-værdier for de forskellige frihedsgrader\n",
        "t_values = {\n",
        "    \"a\": t.ppf(1 - 0.10, 15),\n",
        "    \"b\": t.ppf(1 - 0.10, 23),\n",
        "    \"c\": t.ppf(1 - 0.025, 83),\n",
        "    \"d\": t.ppf(1 - 0.05, 195),\n",
        "}\n",
        "\n",
        "t_values"
      ],
      "metadata": {
        "colab": {
          "base_uri": "https://localhost:8080/"
        },
        "id": "F0dU7ey-VZ7Y",
        "outputId": "c9ea5c33-bb27-474f-f9db-08d4f124ec28"
      },
      "execution_count": 27,
      "outputs": [
        {
          "output_type": "execute_result",
          "data": {
            "text/plain": [
              "{'a': 1.3406056078504547,\n",
              " 'b': 1.3194602391408932,\n",
              " 'c': 1.988959779987179,\n",
              " 'd': 1.6527053097707547}"
            ]
          },
          "metadata": {},
          "execution_count": 27
        }
      ]
    },
    {
      "cell_type": "markdown",
      "source": [
        "#8.86"
      ],
      "metadata": {
        "id": "GxuMpqcwXqg2"
      }
    },
    {
      "cell_type": "markdown",
      "source": [
        "De beregnede sandsynligheder for at overskride de specifikke $t$-værdier med de tilsvarende frihedsgrader er som følger:\n",
        "\n",
        "a. Sandsynligheden for, at $t$ med 64 frihedsgrader overskrider 2.12, er $P(t_{64} > 2.12) = 0.0189$. Dette indikerer, at der er en 1.89\\% chance for at observere en $t$-værdi større end 2.12 under den givne fordeling.\n",
        "\n",
        "b. Sandsynligheden for, at $t$ med 27 frihedsgrader overskrider 1.90, er $P(t_{27} > 1.90) = 0.0341$. Dette viser, at der er en 3.41\\% chance for at observere en $t$-værdi større end 1.90.\n",
        "\n",
        "c. Sandsynligheden for, at $t$ med 159 frihedsgrader overskrider 1.33, er $P(t_{159} > 1.33) = 0.0927$. Dette betyder, at der er en 9.27\\% sandsynlighed for at observere en $t$-værdi større end 1.33.\n",
        "\n",
        "d. Sandsynligheden for, at $t$ med 550 frihedsgrader overskrider 1.85, er $P(t_{550} > 1.85) = 0.0324$. Dette indikerer, at der er en 3.24\\% chance for at observere en $t$-værdi større end 1.85.\n",
        "\n",
        "Disse værdier angiver sandsynligheden for at finde en $t$-værdi større end den angivne værdi i en $t$-fordeling med det tilsvarende antal frihedsgrader, hvilket er nyttigt i konteksten af hypotesetests.\n"
      ],
      "metadata": {
        "id": "c6YyWSSqX813"
      }
    },
    {
      "cell_type": "code",
      "source": [
        "# Beregner sandsynlighederne for de angivne t-værdier og frihedsgrader\n",
        "probabilities = {\n",
        "    \"a\": 1 - t.cdf(2.12, 64),\n",
        "    \"b\": 1 - t.cdf(1.90, 27),\n",
        "    \"c\": 1 - t.cdf(1.33, 159),\n",
        "    \"d\": 1 - t.cdf(1.85, 550),\n",
        "}\n",
        "\n",
        "probabilities"
      ],
      "metadata": {
        "colab": {
          "base_uri": "https://localhost:8080/"
        },
        "id": "66gtVvXAVZ5b",
        "outputId": "47fa1ffe-a65a-4ce3-d53c-1ae91ef5656d"
      },
      "execution_count": 28,
      "outputs": [
        {
          "output_type": "execute_result",
          "data": {
            "text/plain": [
              "{'a': 0.01894446919003967,\n",
              " 'b': 0.03408115574716131,\n",
              " 'c': 0.09271147996526496,\n",
              " 'd': 0.03242486080673135}"
            ]
          },
          "metadata": {},
          "execution_count": 28
        }
      ]
    },
    {
      "cell_type": "markdown",
      "source": [
        "#8.88"
      ],
      "metadata": {
        "id": "Qh61a-eoYCCE"
      }
    },
    {
      "cell_type": "markdown",
      "source": [
        "De beregnede $\\chi^2$-værdier for de angivne frihedsgrader og konfidensniveauer er som følger:\n",
        "\n",
        "a. Kritisk værdi for $\\chi^2$ med 66 frihedsgrader ved et konfidensniveau på 0.75 (1 - 0.25) er $\\chi^2_{0.25,66} = 73.3441$.\n",
        "\n",
        "b. Kritisk værdi for $\\chi^2$ med 100 frihedsgrader ved et konfidensniveau på 0.60 (1 - 0.40) er $\\chi^2_{0.40,100} = 102.9459$.\n",
        "\n",
        "c. Kritisk værdi for $\\chi^2$ med 17 frihedsgrader ved et konfidensniveau på 0.50 er $\\chi^2_{0.50,17} = 16.3382$.\n",
        "\n",
        "d. Kritisk værdi for $\\chi^2$ med 17 frihedsgrader ved et konfidensniveau på 0.90 (1 - 0.10) er $\\chi^2_{0.10,17} = 24.7690$.\n",
        "\n",
        "Disse værdier angiver de kritiske punkter af $\\chi^2$-fordelingen, som er anvendelige i statistiske analyser for at bedømme fit eller for at opstille konfidensintervaller for varians.\n"
      ],
      "metadata": {
        "id": "FDSGcyw5YF89"
      }
    },
    {
      "cell_type": "code",
      "source": [
        "from scipy.stats import chi2\n",
        "\n",
        "# Beregner de angivne chi^2-værdier for de forskellige frihedsgrader og konfidensniveauer\n",
        "chi2_values = {\n",
        "    \"a\": chi2.ppf(1 - 0.25, 66),\n",
        "    \"b\": chi2.ppf(1 - 0.40, 100),\n",
        "    \"c\": chi2.ppf(1 - 0.50, 17),\n",
        "    \"d\": chi2.ppf(1 - 0.10, 17),\n",
        "}\n",
        "\n",
        "chi2_values"
      ],
      "metadata": {
        "colab": {
          "base_uri": "https://localhost:8080/"
        },
        "id": "Ih2GQFz9VZ3U",
        "outputId": "0340d14f-dd42-4c64-a004-d0c0588d821e"
      },
      "execution_count": 29,
      "outputs": [
        {
          "output_type": "execute_result",
          "data": {
            "text/plain": [
              "{'a': 73.34409269646494,\n",
              " 'b': 102.9459442154568,\n",
              " 'c': 16.338182377392467,\n",
              " 'd': 24.76903534390146}"
            ]
          },
          "metadata": {},
          "execution_count": 29
        }
      ]
    },
    {
      "cell_type": "markdown",
      "source": [
        "#8.89"
      ],
      "metadata": {
        "id": "6-OctxNXYc1u"
      }
    },
    {
      "cell_type": "markdown",
      "source": [
        "De beregnede sandsynligheder for at overskride de specifikke $\\chi^2$-værdier med de tilsvarende frihedsgrader er som følger:\n",
        "\n",
        "a. Sandsynligheden for, at $\\chi^2$ med 73 frihedsgrader overskrider 80, er $P(\\chi^2_{73} > 80) = 0.2688$. Dette indikerer, at der er en 26.88\\% chance for at observere en $\\chi^2$-værdi større end 80 under den givne fordeling.\n",
        "\n",
        "b. Sandsynligheden for, at $\\chi^2$ med 200 frihedsgrader overskrider 125, er $P(\\chi^2_{200} > 125) = 0.99999$. Dette viser, at der er næsten en sikkerhed for at observere en $\\chi^2$-værdi større end 125.\n",
        "\n",
        "c. Sandsynligheden for, at $\\chi^2$ med 88 frihedsgrader overskrider 60, er $P(\\chi^2_{88} > 60) = 0.9903$. Dette betyder, at der er en 99.03\\% sandsynlighed for at observere en $\\chi^2$-værdi større end 60.\n",
        "\n",
        "d. Sandsynligheden for, at $\\chi^2$ med 1000 frihedsgrader overskrider 450, er $P(\\chi^2_{1000} > 450) = 1.0$. Dette indikerer, at der er en 100\\% chance for at observere en $\\chi^2$-værdi større end 450.\n",
        "\n",
        "Disse værdier angiver sandsynligheden for at finde en $\\chi^2$-værdi større end den angivne værdi i en $\\chi^2$-fordeling, hvilket er nyttigt i statistiske analyser."
      ],
      "metadata": {
        "id": "gJ_0gBZNYopH"
      }
    },
    {
      "cell_type": "code",
      "source": [
        "# Beregner sandsynlighederne for de angivne chi^2-værdier og frihedsgrader\n",
        "chi2_probabilities = {\n",
        "    \"a\": 1 - chi2.cdf(80, 73),\n",
        "    \"b\": 1 - chi2.cdf(125, 200),\n",
        "    \"c\": 1 - chi2.cdf(60, 88),\n",
        "    \"d\": 1 - chi2.cdf(450, 1000),\n",
        "}\n",
        "\n",
        "chi2_probabilities"
      ],
      "metadata": {
        "colab": {
          "base_uri": "https://localhost:8080/"
        },
        "id": "IUOG__prYn2m",
        "outputId": "132c2f71-8518-4308-98c0-f987d23d5024"
      },
      "execution_count": 30,
      "outputs": [
        {
          "output_type": "execute_result",
          "data": {
            "text/plain": [
              "{'a': 0.2687621857976922,\n",
              " 'b': 0.9999923544742048,\n",
              " 'c': 0.9902648039501418,\n",
              " 'd': 1.0}"
            ]
          },
          "metadata": {},
          "execution_count": 30
        }
      ]
    },
    {
      "cell_type": "markdown",
      "source": [
        "#8.91"
      ],
      "metadata": {
        "id": "RTcH_XX6Y4ZI"
      }
    },
    {
      "cell_type": "markdown",
      "source": [
        "De beregnede $F$-værdier for de angivne frihedsgrader og signifikansniveauer er som følger:\n",
        "\n",
        "a. Kritisk værdi for $F$ med 70 og 70 frihedsgrader ved et signifikansniveau på 0.05 er $F_{0.05, 70, 70} = 1.4857$.\n",
        "\n",
        "b. Kritisk værdi for $F$ med 45 og 100 frihedsgrader ved et signifikansniveau på 0.01 er $F_{0.01, 45, 100} = 1.7633$.\n",
        "\n",
        "c. Kritisk værdi for $F$ med 36 og 50 frihedsgrader ved et signifikansniveau på 0.025 er $F_{0.025, 36, 50} = 1.8200$.\n",
        "\n",
        "d. Kritisk værdi for $F$ med 500 og 500 frihedsgrader ved et signifikansniveau på 0.05 er $F_{0.05, 500, 500} = 1.1587$.\n",
        "\n",
        "Disse værdier angiver de kritiske punkter af $F$-fordelingen, som er anvendelige i statistiske analyser, såsom variansanalyse (ANOVA), for at bedømme forskelle mellem gruppers varianser.\n"
      ],
      "metadata": {
        "id": "I1SJcyGDY83A"
      }
    },
    {
      "cell_type": "code",
      "source": [
        "from scipy.stats import f\n",
        "\n",
        "# Beregner de angivne F-værdier for de forskellige frihedsgrader og signifikansniveauer\n",
        "F_values = {\n",
        "    \"a\": f.ppf(1 - 0.05, 70, 70),\n",
        "    \"b\": f.ppf(1 - 0.01, 45, 100),\n",
        "    \"c\": f.ppf(1 - 0.025, 36, 50),\n",
        "    \"d\": f.ppf(1 - 0.05, 500, 500),\n",
        "}\n",
        "\n",
        "F_values"
      ],
      "metadata": {
        "colab": {
          "base_uri": "https://localhost:8080/"
        },
        "id": "XgQjvY6hYoYn",
        "outputId": "358db106-c622-40a5-efe2-91f0490eb595"
      },
      "execution_count": 31,
      "outputs": [
        {
          "output_type": "execute_result",
          "data": {
            "text/plain": [
              "{'a': 1.4856889745422956,\n",
              " 'b': 1.7632554383173995,\n",
              " 'c': 1.8200340597662605,\n",
              " 'd': 1.1586553765546113}"
            ]
          },
          "metadata": {},
          "execution_count": 31
        }
      ]
    },
    {
      "cell_type": "markdown",
      "source": [
        "#8.92"
      ],
      "metadata": {
        "id": "zTv1G4DLZBjI"
      }
    },
    {
      "cell_type": "markdown",
      "source": [
        "De beregnede sandsynligheder for at overskride de specifikke $F$-værdier med de tilsvarende frihedsgrader er som følger:\n",
        "\n",
        "a. Sandsynligheden for, at $F$ med 7 og 20 frihedsgrader overskrider 2.5, er $P(F_{7, 20} > 2.5) = 0.0510$. Dette indikerer, at der er en 5.10\\% chance for at observere en $F$-værdi større end 2.5 under den givne fordeling.\n",
        "\n",
        "b. Sandsynligheden for, at $F$ med 18 og 63 frihedsgrader overskrider 1.4, er $P(F_{18, 63} > 1.4) = 0.1634$. Dette viser, at der er en 16.34\\% chance for at observere en $F$-værdi større end 1.4.\n",
        "\n",
        "c. Sandsynligheden for, at $F$ med 34 og 62 frihedsgrader overskrider 1.8, er $P(F_{34, 62} > 1.8) = 0.0222$. Dette betyder, at der er en 2.22\\% sandsynlighed for at observere en $F$-værdi større end 1.8.\n",
        "\n",
        "d. Sandsynligheden for, at $F$ med 200 og 400 frihedsgrader overskrider 1.1, er $P(F_{200, 400} > 1.1) = 0.2133$. Dette indikerer, at der er en 21.33\\% chance for at observere en $F$-værdi større end 1.1.\n",
        "\n",
        "Disse værdier angiver sandsynligheden for at finde en $F$-værdi større end den angivne værdi i en $F$-fordeling, hvilket er nyttigt i statistiske analyser, såsom i variansanalyse (ANOVA).\n"
      ],
      "metadata": {
        "id": "i4mmkCU0ZS11"
      }
    },
    {
      "cell_type": "code",
      "source": [
        "# Beregner sandsynlighederne for de angivne F-værdier og frihedsgrader\n",
        "F_probabilities = {\n",
        "    \"a\": 1 - f.cdf(2.5, 7, 20),\n",
        "    \"b\": 1 - f.cdf(1.4, 18, 63),\n",
        "    \"c\": 1 - f.cdf(1.8, 34, 62),\n",
        "    \"d\": 1 - f.cdf(1.1, 200, 400),\n",
        "}\n",
        "\n",
        "F_probabilities"
      ],
      "metadata": {
        "colab": {
          "base_uri": "https://localhost:8080/"
        },
        "id": "ekoRR-QyYoWv",
        "outputId": "8580d6b3-03a5-4c9c-c894-3bfb14c03a2f"
      },
      "execution_count": 32,
      "outputs": [
        {
          "output_type": "execute_result",
          "data": {
            "text/plain": [
              "{'a': 0.05101676660277554,\n",
              " 'b': 0.1633647067817522,\n",
              " 'c': 0.022243140373234493,\n",
              " 'd': 0.21326603967938207}"
            ]
          },
          "metadata": {},
          "execution_count": 32
        }
      ]
    }
  ]
}