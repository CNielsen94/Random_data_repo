{
  "nbformat": 4,
  "nbformat_minor": 0,
  "metadata": {
    "colab": {
      "provenance": []
    },
    "kernelspec": {
      "name": "python3",
      "display_name": "Python 3"
    },
    "language_info": {
      "name": "python"
    }
  },
  "cells": [
    {
      "cell_type": "markdown",
      "source": [
        "#Opgave 7.1\n",
        "Antallet af ulykker, der sker på en travl motorvejsstrækning, er en stokastisk variabel (random variable)"
      ],
      "metadata": {
        "id": "BSdFTL0tTAFd"
      }
    },
    {
      "cell_type": "markdown",
      "source": [
        "**a) Hvad er de mulige værdier på denne stokastiske variabel?** <br>\n",
        "0, 1, 2, 3 osv derudaf <br><br>\n",
        "\n",
        "**b) Er værdierne tællelige? Forklar dit svar** <br>\n",
        "Ja, da vi kan identificere de enkelte værdier (0, 1, 2)<br><br>\n",
        "\n",
        "**c) Er der et begrænset antal værdier? Forklar dit svar.**<br>\n",
        "Ja, da der er et begrænset antal af biler<br><br>\n",
        "\n",
        "**d) Er den stokastiske variabel diskret eller kontinuert (discrete random variable/continuous random variable)?** <br>\n",
        "Den er diskret, da vi kan tælle den, og det er et begrænset antal af disse værdier."
      ],
      "metadata": {
        "id": "FPKcuQCqTFCh"
      }
    },
    {
      "cell_type": "markdown",
      "source": [
        "#Opgave 7.7\n",
        "I en nylig opgørelse blev antallet fjernsyn opgjort per husstand (se side 172):"
      ],
      "metadata": {
        "id": "Ue5emHdGTzLn"
      }
    },
    {
      "cell_type": "markdown",
      "source": [
        "![image.png](data:image/png;base64,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)"
      ],
      "metadata": {
        "id": "vaoblNI_VOjK"
      }
    },
    {
      "cell_type": "markdown",
      "source": [
        "##Først opretter vi vores data i Python."
      ],
      "metadata": {
        "id": "FNr0VQznWDic"
      }
    },
    {
      "cell_type": "code",
      "execution_count": null,
      "metadata": {
        "colab": {
          "base_uri": "https://localhost:8080/",
          "height": 237
        },
        "id": "gyttjKLhCc51",
        "outputId": "d0632c68-ece0-4406-ddca-12fbb7cf1507"
      },
      "outputs": [
        {
          "output_type": "execute_result",
          "data": {
            "text/plain": [
              "   Antal fjernsyn  Antal husstande (i tusinde)\n",
              "0               0                         1218\n",
              "1               1                        32379\n",
              "2               2                        37961\n",
              "3               3                        19387\n",
              "4               4                         7714\n",
              "5               5                         2842"
            ],
            "text/html": [
              "\n",
              "  <div id=\"df-d8d44def-982f-45f9-88cf-f2138ff46b8d\" class=\"colab-df-container\">\n",
              "    <div>\n",
              "<style scoped>\n",
              "    .dataframe tbody tr th:only-of-type {\n",
              "        vertical-align: middle;\n",
              "    }\n",
              "\n",
              "    .dataframe tbody tr th {\n",
              "        vertical-align: top;\n",
              "    }\n",
              "\n",
              "    .dataframe thead th {\n",
              "        text-align: right;\n",
              "    }\n",
              "</style>\n",
              "<table border=\"1\" class=\"dataframe\">\n",
              "  <thead>\n",
              "    <tr style=\"text-align: right;\">\n",
              "      <th></th>\n",
              "      <th>Antal fjernsyn</th>\n",
              "      <th>Antal husstande (i tusinde)</th>\n",
              "    </tr>\n",
              "  </thead>\n",
              "  <tbody>\n",
              "    <tr>\n",
              "      <th>0</th>\n",
              "      <td>0</td>\n",
              "      <td>1218</td>\n",
              "    </tr>\n",
              "    <tr>\n",
              "      <th>1</th>\n",
              "      <td>1</td>\n",
              "      <td>32379</td>\n",
              "    </tr>\n",
              "    <tr>\n",
              "      <th>2</th>\n",
              "      <td>2</td>\n",
              "      <td>37961</td>\n",
              "    </tr>\n",
              "    <tr>\n",
              "      <th>3</th>\n",
              "      <td>3</td>\n",
              "      <td>19387</td>\n",
              "    </tr>\n",
              "    <tr>\n",
              "      <th>4</th>\n",
              "      <td>4</td>\n",
              "      <td>7714</td>\n",
              "    </tr>\n",
              "    <tr>\n",
              "      <th>5</th>\n",
              "      <td>5</td>\n",
              "      <td>2842</td>\n",
              "    </tr>\n",
              "  </tbody>\n",
              "</table>\n",
              "</div>\n",
              "    <div class=\"colab-df-buttons\">\n",
              "\n",
              "  <div class=\"colab-df-container\">\n",
              "    <button class=\"colab-df-convert\" onclick=\"convertToInteractive('df-d8d44def-982f-45f9-88cf-f2138ff46b8d')\"\n",
              "            title=\"Convert this dataframe to an interactive table.\"\n",
              "            style=\"display:none;\">\n",
              "\n",
              "  <svg xmlns=\"http://www.w3.org/2000/svg\" height=\"24px\" viewBox=\"0 -960 960 960\">\n",
              "    <path d=\"M120-120v-720h720v720H120Zm60-500h600v-160H180v160Zm220 220h160v-160H400v160Zm0 220h160v-160H400v160ZM180-400h160v-160H180v160Zm440 0h160v-160H620v160ZM180-180h160v-160H180v160Zm440 0h160v-160H620v160Z\"/>\n",
              "  </svg>\n",
              "    </button>\n",
              "\n",
              "  <style>\n",
              "    .colab-df-container {\n",
              "      display:flex;\n",
              "      gap: 12px;\n",
              "    }\n",
              "\n",
              "    .colab-df-convert {\n",
              "      background-color: #E8F0FE;\n",
              "      border: none;\n",
              "      border-radius: 50%;\n",
              "      cursor: pointer;\n",
              "      display: none;\n",
              "      fill: #1967D2;\n",
              "      height: 32px;\n",
              "      padding: 0 0 0 0;\n",
              "      width: 32px;\n",
              "    }\n",
              "\n",
              "    .colab-df-convert:hover {\n",
              "      background-color: #E2EBFA;\n",
              "      box-shadow: 0px 1px 2px rgba(60, 64, 67, 0.3), 0px 1px 3px 1px rgba(60, 64, 67, 0.15);\n",
              "      fill: #174EA6;\n",
              "    }\n",
              "\n",
              "    .colab-df-buttons div {\n",
              "      margin-bottom: 4px;\n",
              "    }\n",
              "\n",
              "    [theme=dark] .colab-df-convert {\n",
              "      background-color: #3B4455;\n",
              "      fill: #D2E3FC;\n",
              "    }\n",
              "\n",
              "    [theme=dark] .colab-df-convert:hover {\n",
              "      background-color: #434B5C;\n",
              "      box-shadow: 0px 1px 3px 1px rgba(0, 0, 0, 0.15);\n",
              "      filter: drop-shadow(0px 1px 2px rgba(0, 0, 0, 0.3));\n",
              "      fill: #FFFFFF;\n",
              "    }\n",
              "  </style>\n",
              "\n",
              "    <script>\n",
              "      const buttonEl =\n",
              "        document.querySelector('#df-d8d44def-982f-45f9-88cf-f2138ff46b8d button.colab-df-convert');\n",
              "      buttonEl.style.display =\n",
              "        google.colab.kernel.accessAllowed ? 'block' : 'none';\n",
              "\n",
              "      async function convertToInteractive(key) {\n",
              "        const element = document.querySelector('#df-d8d44def-982f-45f9-88cf-f2138ff46b8d');\n",
              "        const dataTable =\n",
              "          await google.colab.kernel.invokeFunction('convertToInteractive',\n",
              "                                                    [key], {});\n",
              "        if (!dataTable) return;\n",
              "\n",
              "        const docLinkHtml = 'Like what you see? Visit the ' +\n",
              "          '<a target=\"_blank\" href=https://colab.research.google.com/notebooks/data_table.ipynb>data table notebook</a>'\n",
              "          + ' to learn more about interactive tables.';\n",
              "        element.innerHTML = '';\n",
              "        dataTable['output_type'] = 'display_data';\n",
              "        await google.colab.output.renderOutput(dataTable, element);\n",
              "        const docLink = document.createElement('div');\n",
              "        docLink.innerHTML = docLinkHtml;\n",
              "        element.appendChild(docLink);\n",
              "      }\n",
              "    </script>\n",
              "  </div>\n",
              "\n",
              "\n",
              "<div id=\"df-ac41fa21-4988-4ca6-9dd1-6df04708e7c6\">\n",
              "  <button class=\"colab-df-quickchart\" onclick=\"quickchart('df-ac41fa21-4988-4ca6-9dd1-6df04708e7c6')\"\n",
              "            title=\"Suggest charts\"\n",
              "            style=\"display:none;\">\n",
              "\n",
              "<svg xmlns=\"http://www.w3.org/2000/svg\" height=\"24px\"viewBox=\"0 0 24 24\"\n",
              "     width=\"24px\">\n",
              "    <g>\n",
              "        <path d=\"M19 3H5c-1.1 0-2 .9-2 2v14c0 1.1.9 2 2 2h14c1.1 0 2-.9 2-2V5c0-1.1-.9-2-2-2zM9 17H7v-7h2v7zm4 0h-2V7h2v10zm4 0h-2v-4h2v4z\"/>\n",
              "    </g>\n",
              "</svg>\n",
              "  </button>\n",
              "\n",
              "<style>\n",
              "  .colab-df-quickchart {\n",
              "      --bg-color: #E8F0FE;\n",
              "      --fill-color: #1967D2;\n",
              "      --hover-bg-color: #E2EBFA;\n",
              "      --hover-fill-color: #174EA6;\n",
              "      --disabled-fill-color: #AAA;\n",
              "      --disabled-bg-color: #DDD;\n",
              "  }\n",
              "\n",
              "  [theme=dark] .colab-df-quickchart {\n",
              "      --bg-color: #3B4455;\n",
              "      --fill-color: #D2E3FC;\n",
              "      --hover-bg-color: #434B5C;\n",
              "      --hover-fill-color: #FFFFFF;\n",
              "      --disabled-bg-color: #3B4455;\n",
              "      --disabled-fill-color: #666;\n",
              "  }\n",
              "\n",
              "  .colab-df-quickchart {\n",
              "    background-color: var(--bg-color);\n",
              "    border: none;\n",
              "    border-radius: 50%;\n",
              "    cursor: pointer;\n",
              "    display: none;\n",
              "    fill: var(--fill-color);\n",
              "    height: 32px;\n",
              "    padding: 0;\n",
              "    width: 32px;\n",
              "  }\n",
              "\n",
              "  .colab-df-quickchart:hover {\n",
              "    background-color: var(--hover-bg-color);\n",
              "    box-shadow: 0 1px 2px rgba(60, 64, 67, 0.3), 0 1px 3px 1px rgba(60, 64, 67, 0.15);\n",
              "    fill: var(--button-hover-fill-color);\n",
              "  }\n",
              "\n",
              "  .colab-df-quickchart-complete:disabled,\n",
              "  .colab-df-quickchart-complete:disabled:hover {\n",
              "    background-color: var(--disabled-bg-color);\n",
              "    fill: var(--disabled-fill-color);\n",
              "    box-shadow: none;\n",
              "  }\n",
              "\n",
              "  .colab-df-spinner {\n",
              "    border: 2px solid var(--fill-color);\n",
              "    border-color: transparent;\n",
              "    border-bottom-color: var(--fill-color);\n",
              "    animation:\n",
              "      spin 1s steps(1) infinite;\n",
              "  }\n",
              "\n",
              "  @keyframes spin {\n",
              "    0% {\n",
              "      border-color: transparent;\n",
              "      border-bottom-color: var(--fill-color);\n",
              "      border-left-color: var(--fill-color);\n",
              "    }\n",
              "    20% {\n",
              "      border-color: transparent;\n",
              "      border-left-color: var(--fill-color);\n",
              "      border-top-color: var(--fill-color);\n",
              "    }\n",
              "    30% {\n",
              "      border-color: transparent;\n",
              "      border-left-color: var(--fill-color);\n",
              "      border-top-color: var(--fill-color);\n",
              "      border-right-color: var(--fill-color);\n",
              "    }\n",
              "    40% {\n",
              "      border-color: transparent;\n",
              "      border-right-color: var(--fill-color);\n",
              "      border-top-color: var(--fill-color);\n",
              "    }\n",
              "    60% {\n",
              "      border-color: transparent;\n",
              "      border-right-color: var(--fill-color);\n",
              "    }\n",
              "    80% {\n",
              "      border-color: transparent;\n",
              "      border-right-color: var(--fill-color);\n",
              "      border-bottom-color: var(--fill-color);\n",
              "    }\n",
              "    90% {\n",
              "      border-color: transparent;\n",
              "      border-bottom-color: var(--fill-color);\n",
              "    }\n",
              "  }\n",
              "</style>\n",
              "\n",
              "  <script>\n",
              "    async function quickchart(key) {\n",
              "      const quickchartButtonEl =\n",
              "        document.querySelector('#' + key + ' button');\n",
              "      quickchartButtonEl.disabled = true;  // To prevent multiple clicks.\n",
              "      quickchartButtonEl.classList.add('colab-df-spinner');\n",
              "      try {\n",
              "        const charts = await google.colab.kernel.invokeFunction(\n",
              "            'suggestCharts', [key], {});\n",
              "      } catch (error) {\n",
              "        console.error('Error during call to suggestCharts:', error);\n",
              "      }\n",
              "      quickchartButtonEl.classList.remove('colab-df-spinner');\n",
              "      quickchartButtonEl.classList.add('colab-df-quickchart-complete');\n",
              "    }\n",
              "    (() => {\n",
              "      let quickchartButtonEl =\n",
              "        document.querySelector('#df-ac41fa21-4988-4ca6-9dd1-6df04708e7c6 button');\n",
              "      quickchartButtonEl.style.display =\n",
              "        google.colab.kernel.accessAllowed ? 'block' : 'none';\n",
              "    })();\n",
              "  </script>\n",
              "</div>\n",
              "    </div>\n",
              "  </div>\n"
            ],
            "application/vnd.google.colaboratory.intrinsic+json": {
              "type": "dataframe",
              "variable_name": "df",
              "summary": "{\n  \"name\": \"df\",\n  \"rows\": 6,\n  \"fields\": [\n    {\n      \"column\": \"Antal fjernsyn\",\n      \"properties\": {\n        \"dtype\": \"number\",\n        \"std\": 1,\n        \"min\": 0,\n        \"max\": 5,\n        \"num_unique_values\": 6,\n        \"samples\": [\n          0,\n          1,\n          5\n        ],\n        \"semantic_type\": \"\",\n        \"description\": \"\"\n      }\n    },\n    {\n      \"column\": \"Antal husstande (i tusinde)\",\n      \"properties\": {\n        \"dtype\": \"number\",\n        \"std\": 15603,\n        \"min\": 1218,\n        \"max\": 37961,\n        \"num_unique_values\": 6,\n        \"samples\": [\n          1218,\n          32379,\n          2842\n        ],\n        \"semantic_type\": \"\",\n        \"description\": \"\"\n      }\n    }\n  ]\n}"
            }
          },
          "metadata": {},
          "execution_count": 96
        }
      ],
      "source": [
        "import pandas as pd\n",
        "\n",
        "# Vi opretter et datasæt, ved først at definere et såkaldt 'dictionary'.\n",
        "# Dictionaries har key-value pairs, hvor hver key er navnet på en kolonne, og value som navnet antyder er værdierne under denne kolonne\n",
        "data = {\n",
        "    'Antal fjernsyn': [0, 1, 2, 3, 4, 5],\n",
        "    'Antal husstande (i tusinde)': [1218, 32379, 37961, 19387, 7714, 2842]\n",
        "}\n",
        "\n",
        "# Nu kan vi blot bruge DataFrame funktionen fra pandas til at gøre vores dictionary til en dataframe\n",
        "df = pd.DataFrame(data)\n",
        "\n",
        "# Og så kan vi checke det virker ved at outputte vores dataframe\n",
        "df\n"
      ]
    },
    {
      "cell_type": "markdown",
      "source": [
        "##a. Lav en sandsynlighedsfordeling af X, antallet af fjernsyn per husstand"
      ],
      "metadata": {
        "id": "jj2kw7jYV3Xn"
      }
    },
    {
      "cell_type": "code",
      "source": [
        "# Beregn det samlede antal husstande\n",
        "total_husstande = df['Antal husstande (i tusinde)'].sum()\n",
        "\n",
        "# Beregn sandsynligheden for hvert antal fjernsyn, og opret en ny kolonne der består af disse værdier\n",
        "df['Sandsynlighed'] = df['Antal husstande (i tusinde)'] / total_husstande\n",
        "\n",
        "# Vis den opdaterede DataFrame med sandsynlighedsfordelingen\n",
        "df"
      ],
      "metadata": {
        "colab": {
          "base_uri": "https://localhost:8080/",
          "height": 237
        },
        "id": "ps7Jt5kVGiZ-",
        "outputId": "31328fa4-50ab-4206-a8e1-9043a1b008c0"
      },
      "execution_count": null,
      "outputs": [
        {
          "output_type": "execute_result",
          "data": {
            "text/plain": [
              "   Antal fjernsyn  Antal husstande (i tusinde)  Sandsynlighed\n",
              "0               0                         1218       0.012000\n",
              "1               1                        32379       0.319002\n",
              "2               2                        37961       0.373996\n",
              "3               3                        19387       0.191003\n",
              "4               4                         7714       0.075999\n",
              "5               5                         2842       0.028000"
            ],
            "text/html": [
              "\n",
              "  <div id=\"df-86eea192-6a18-46a4-8c74-a29a1422e60a\" class=\"colab-df-container\">\n",
              "    <div>\n",
              "<style scoped>\n",
              "    .dataframe tbody tr th:only-of-type {\n",
              "        vertical-align: middle;\n",
              "    }\n",
              "\n",
              "    .dataframe tbody tr th {\n",
              "        vertical-align: top;\n",
              "    }\n",
              "\n",
              "    .dataframe thead th {\n",
              "        text-align: right;\n",
              "    }\n",
              "</style>\n",
              "<table border=\"1\" class=\"dataframe\">\n",
              "  <thead>\n",
              "    <tr style=\"text-align: right;\">\n",
              "      <th></th>\n",
              "      <th>Antal fjernsyn</th>\n",
              "      <th>Antal husstande (i tusinde)</th>\n",
              "      <th>Sandsynlighed</th>\n",
              "    </tr>\n",
              "  </thead>\n",
              "  <tbody>\n",
              "    <tr>\n",
              "      <th>0</th>\n",
              "      <td>0</td>\n",
              "      <td>1218</td>\n",
              "      <td>0.012000</td>\n",
              "    </tr>\n",
              "    <tr>\n",
              "      <th>1</th>\n",
              "      <td>1</td>\n",
              "      <td>32379</td>\n",
              "      <td>0.319002</td>\n",
              "    </tr>\n",
              "    <tr>\n",
              "      <th>2</th>\n",
              "      <td>2</td>\n",
              "      <td>37961</td>\n",
              "      <td>0.373996</td>\n",
              "    </tr>\n",
              "    <tr>\n",
              "      <th>3</th>\n",
              "      <td>3</td>\n",
              "      <td>19387</td>\n",
              "      <td>0.191003</td>\n",
              "    </tr>\n",
              "    <tr>\n",
              "      <th>4</th>\n",
              "      <td>4</td>\n",
              "      <td>7714</td>\n",
              "      <td>0.075999</td>\n",
              "    </tr>\n",
              "    <tr>\n",
              "      <th>5</th>\n",
              "      <td>5</td>\n",
              "      <td>2842</td>\n",
              "      <td>0.028000</td>\n",
              "    </tr>\n",
              "  </tbody>\n",
              "</table>\n",
              "</div>\n",
              "    <div class=\"colab-df-buttons\">\n",
              "\n",
              "  <div class=\"colab-df-container\">\n",
              "    <button class=\"colab-df-convert\" onclick=\"convertToInteractive('df-86eea192-6a18-46a4-8c74-a29a1422e60a')\"\n",
              "            title=\"Convert this dataframe to an interactive table.\"\n",
              "            style=\"display:none;\">\n",
              "\n",
              "  <svg xmlns=\"http://www.w3.org/2000/svg\" height=\"24px\" viewBox=\"0 -960 960 960\">\n",
              "    <path d=\"M120-120v-720h720v720H120Zm60-500h600v-160H180v160Zm220 220h160v-160H400v160Zm0 220h160v-160H400v160ZM180-400h160v-160H180v160Zm440 0h160v-160H620v160ZM180-180h160v-160H180v160Zm440 0h160v-160H620v160Z\"/>\n",
              "  </svg>\n",
              "    </button>\n",
              "\n",
              "  <style>\n",
              "    .colab-df-container {\n",
              "      display:flex;\n",
              "      gap: 12px;\n",
              "    }\n",
              "\n",
              "    .colab-df-convert {\n",
              "      background-color: #E8F0FE;\n",
              "      border: none;\n",
              "      border-radius: 50%;\n",
              "      cursor: pointer;\n",
              "      display: none;\n",
              "      fill: #1967D2;\n",
              "      height: 32px;\n",
              "      padding: 0 0 0 0;\n",
              "      width: 32px;\n",
              "    }\n",
              "\n",
              "    .colab-df-convert:hover {\n",
              "      background-color: #E2EBFA;\n",
              "      box-shadow: 0px 1px 2px rgba(60, 64, 67, 0.3), 0px 1px 3px 1px rgba(60, 64, 67, 0.15);\n",
              "      fill: #174EA6;\n",
              "    }\n",
              "\n",
              "    .colab-df-buttons div {\n",
              "      margin-bottom: 4px;\n",
              "    }\n",
              "\n",
              "    [theme=dark] .colab-df-convert {\n",
              "      background-color: #3B4455;\n",
              "      fill: #D2E3FC;\n",
              "    }\n",
              "\n",
              "    [theme=dark] .colab-df-convert:hover {\n",
              "      background-color: #434B5C;\n",
              "      box-shadow: 0px 1px 3px 1px rgba(0, 0, 0, 0.15);\n",
              "      filter: drop-shadow(0px 1px 2px rgba(0, 0, 0, 0.3));\n",
              "      fill: #FFFFFF;\n",
              "    }\n",
              "  </style>\n",
              "\n",
              "    <script>\n",
              "      const buttonEl =\n",
              "        document.querySelector('#df-86eea192-6a18-46a4-8c74-a29a1422e60a button.colab-df-convert');\n",
              "      buttonEl.style.display =\n",
              "        google.colab.kernel.accessAllowed ? 'block' : 'none';\n",
              "\n",
              "      async function convertToInteractive(key) {\n",
              "        const element = document.querySelector('#df-86eea192-6a18-46a4-8c74-a29a1422e60a');\n",
              "        const dataTable =\n",
              "          await google.colab.kernel.invokeFunction('convertToInteractive',\n",
              "                                                    [key], {});\n",
              "        if (!dataTable) return;\n",
              "\n",
              "        const docLinkHtml = 'Like what you see? Visit the ' +\n",
              "          '<a target=\"_blank\" href=https://colab.research.google.com/notebooks/data_table.ipynb>data table notebook</a>'\n",
              "          + ' to learn more about interactive tables.';\n",
              "        element.innerHTML = '';\n",
              "        dataTable['output_type'] = 'display_data';\n",
              "        await google.colab.output.renderOutput(dataTable, element);\n",
              "        const docLink = document.createElement('div');\n",
              "        docLink.innerHTML = docLinkHtml;\n",
              "        element.appendChild(docLink);\n",
              "      }\n",
              "    </script>\n",
              "  </div>\n",
              "\n",
              "\n",
              "<div id=\"df-ae007f52-767e-438c-bc6b-c583442596da\">\n",
              "  <button class=\"colab-df-quickchart\" onclick=\"quickchart('df-ae007f52-767e-438c-bc6b-c583442596da')\"\n",
              "            title=\"Suggest charts\"\n",
              "            style=\"display:none;\">\n",
              "\n",
              "<svg xmlns=\"http://www.w3.org/2000/svg\" height=\"24px\"viewBox=\"0 0 24 24\"\n",
              "     width=\"24px\">\n",
              "    <g>\n",
              "        <path d=\"M19 3H5c-1.1 0-2 .9-2 2v14c0 1.1.9 2 2 2h14c1.1 0 2-.9 2-2V5c0-1.1-.9-2-2-2zM9 17H7v-7h2v7zm4 0h-2V7h2v10zm4 0h-2v-4h2v4z\"/>\n",
              "    </g>\n",
              "</svg>\n",
              "  </button>\n",
              "\n",
              "<style>\n",
              "  .colab-df-quickchart {\n",
              "      --bg-color: #E8F0FE;\n",
              "      --fill-color: #1967D2;\n",
              "      --hover-bg-color: #E2EBFA;\n",
              "      --hover-fill-color: #174EA6;\n",
              "      --disabled-fill-color: #AAA;\n",
              "      --disabled-bg-color: #DDD;\n",
              "  }\n",
              "\n",
              "  [theme=dark] .colab-df-quickchart {\n",
              "      --bg-color: #3B4455;\n",
              "      --fill-color: #D2E3FC;\n",
              "      --hover-bg-color: #434B5C;\n",
              "      --hover-fill-color: #FFFFFF;\n",
              "      --disabled-bg-color: #3B4455;\n",
              "      --disabled-fill-color: #666;\n",
              "  }\n",
              "\n",
              "  .colab-df-quickchart {\n",
              "    background-color: var(--bg-color);\n",
              "    border: none;\n",
              "    border-radius: 50%;\n",
              "    cursor: pointer;\n",
              "    display: none;\n",
              "    fill: var(--fill-color);\n",
              "    height: 32px;\n",
              "    padding: 0;\n",
              "    width: 32px;\n",
              "  }\n",
              "\n",
              "  .colab-df-quickchart:hover {\n",
              "    background-color: var(--hover-bg-color);\n",
              "    box-shadow: 0 1px 2px rgba(60, 64, 67, 0.3), 0 1px 3px 1px rgba(60, 64, 67, 0.15);\n",
              "    fill: var(--button-hover-fill-color);\n",
              "  }\n",
              "\n",
              "  .colab-df-quickchart-complete:disabled,\n",
              "  .colab-df-quickchart-complete:disabled:hover {\n",
              "    background-color: var(--disabled-bg-color);\n",
              "    fill: var(--disabled-fill-color);\n",
              "    box-shadow: none;\n",
              "  }\n",
              "\n",
              "  .colab-df-spinner {\n",
              "    border: 2px solid var(--fill-color);\n",
              "    border-color: transparent;\n",
              "    border-bottom-color: var(--fill-color);\n",
              "    animation:\n",
              "      spin 1s steps(1) infinite;\n",
              "  }\n",
              "\n",
              "  @keyframes spin {\n",
              "    0% {\n",
              "      border-color: transparent;\n",
              "      border-bottom-color: var(--fill-color);\n",
              "      border-left-color: var(--fill-color);\n",
              "    }\n",
              "    20% {\n",
              "      border-color: transparent;\n",
              "      border-left-color: var(--fill-color);\n",
              "      border-top-color: var(--fill-color);\n",
              "    }\n",
              "    30% {\n",
              "      border-color: transparent;\n",
              "      border-left-color: var(--fill-color);\n",
              "      border-top-color: var(--fill-color);\n",
              "      border-right-color: var(--fill-color);\n",
              "    }\n",
              "    40% {\n",
              "      border-color: transparent;\n",
              "      border-right-color: var(--fill-color);\n",
              "      border-top-color: var(--fill-color);\n",
              "    }\n",
              "    60% {\n",
              "      border-color: transparent;\n",
              "      border-right-color: var(--fill-color);\n",
              "    }\n",
              "    80% {\n",
              "      border-color: transparent;\n",
              "      border-right-color: var(--fill-color);\n",
              "      border-bottom-color: var(--fill-color);\n",
              "    }\n",
              "    90% {\n",
              "      border-color: transparent;\n",
              "      border-bottom-color: var(--fill-color);\n",
              "    }\n",
              "  }\n",
              "</style>\n",
              "\n",
              "  <script>\n",
              "    async function quickchart(key) {\n",
              "      const quickchartButtonEl =\n",
              "        document.querySelector('#' + key + ' button');\n",
              "      quickchartButtonEl.disabled = true;  // To prevent multiple clicks.\n",
              "      quickchartButtonEl.classList.add('colab-df-spinner');\n",
              "      try {\n",
              "        const charts = await google.colab.kernel.invokeFunction(\n",
              "            'suggestCharts', [key], {});\n",
              "      } catch (error) {\n",
              "        console.error('Error during call to suggestCharts:', error);\n",
              "      }\n",
              "      quickchartButtonEl.classList.remove('colab-df-spinner');\n",
              "      quickchartButtonEl.classList.add('colab-df-quickchart-complete');\n",
              "    }\n",
              "    (() => {\n",
              "      let quickchartButtonEl =\n",
              "        document.querySelector('#df-ae007f52-767e-438c-bc6b-c583442596da button');\n",
              "      quickchartButtonEl.style.display =\n",
              "        google.colab.kernel.accessAllowed ? 'block' : 'none';\n",
              "    })();\n",
              "  </script>\n",
              "</div>\n",
              "    </div>\n",
              "  </div>\n"
            ],
            "application/vnd.google.colaboratory.intrinsic+json": {
              "type": "dataframe",
              "variable_name": "df",
              "summary": "{\n  \"name\": \"df\",\n  \"rows\": 6,\n  \"fields\": [\n    {\n      \"column\": \"Antal fjernsyn\",\n      \"properties\": {\n        \"dtype\": \"number\",\n        \"std\": 1,\n        \"min\": 0,\n        \"max\": 5,\n        \"num_unique_values\": 6,\n        \"samples\": [\n          0,\n          1,\n          5\n        ],\n        \"semantic_type\": \"\",\n        \"description\": \"\"\n      }\n    },\n    {\n      \"column\": \"Antal husstande (i tusinde)\",\n      \"properties\": {\n        \"dtype\": \"number\",\n        \"std\": 15603,\n        \"min\": 1218,\n        \"max\": 37961,\n        \"num_unique_values\": 6,\n        \"samples\": [\n          1218,\n          32379,\n          2842\n        ],\n        \"semantic_type\": \"\",\n        \"description\": \"\"\n      }\n    },\n    {\n      \"column\": \"Sandsynlighed\",\n      \"properties\": {\n        \"dtype\": \"number\",\n        \"std\": 0.1537236128512353,\n        \"min\": 0.011999881774563797,\n        \"max\": 0.37399631530723837,\n        \"num_unique_values\": 6,\n        \"samples\": [\n          0.011999881774563797,\n          0.31900178323366274,\n          0.02799972414064886\n        ],\n        \"semantic_type\": \"\",\n        \"description\": \"\"\n      }\n    }\n  ]\n}"
            }
          },
          "metadata": {},
          "execution_count": 99
        }
      ]
    },
    {
      "cell_type": "markdown",
      "source": [
        "Vi kan visualisere disse sandsynligheder på forskellig vis <br>\n",
        "(Der kommer ikke flere eksempler på visualisering i dette løsningssæt, men jeg foreslår at i prøver at lege med det på egen hånd i de forskellige opgaver)"
      ],
      "metadata": {
        "id": "80NLQVt8q_2I"
      }
    },
    {
      "source": [
        "from matplotlib import pyplot as plt\n",
        "df['Sandsynlighed'].plot(kind='bar', figsize=(8, 4), title='Sandsynlighed')\n",
        "plt.gca().spines[['top', 'right']].set_visible(False)"
      ],
      "cell_type": "code",
      "execution_count": null,
      "outputs": [
        {
          "output_type": "display_data",
          "data": {
            "text/plain": [
              "<Figure size 800x400 with 1 Axes>"
            ],
            "image/png": "[encoded data removed]"
          },
          "metadata": {}
        }
      ],
      "metadata": {
        "colab": {
          "base_uri": "https://localhost:8080/",
          "height": 385
        },
        "id": "ZSt8-Lxqq4hY",
        "outputId": "3895c890-b16a-485c-9add-82b018c374a6"
      }
    },
    {
      "cell_type": "markdown",
      "source": [
        "Vi kan teste vores matematik ved at kontrollere om det samlede sandsynlighedsrum er lig 1 (tilsvarende 100% sandsynlighed for et-eller-andet udfald, baseret på vores observationer)"
      ],
      "metadata": {
        "id": "hXCNVJklqOQO"
      }
    },
    {
      "cell_type": "code",
      "source": [
        "df.Sandsynlighed.sum()"
      ],
      "metadata": {
        "colab": {
          "base_uri": "https://localhost:8080/"
        },
        "id": "BWOSWF09qJUC",
        "outputId": "eb211b34-8fd5-43bf-8780-e7269c154f94"
      },
      "execution_count": null,
      "outputs": [
        {
          "output_type": "execute_result",
          "data": {
            "text/plain": [
              "1.0"
            ]
          },
          "metadata": {},
          "execution_count": 100
        }
      ]
    },
    {
      "cell_type": "markdown",
      "source": [
        "##b) Bestem de følgende sandsynligheder"
      ],
      "metadata": {
        "id": "_BItDv7iXSe2"
      }
    },
    {
      "cell_type": "markdown",
      "source": [
        "1. P(X mindre end eller lig 2) <br>\n",
        "2. P(X større end 2)<br>\n",
        "3. P(X er større end eller lig 4)"
      ],
      "metadata": {
        "id": "dsKMq-nTXV1g"
      }
    },
    {
      "cell_type": "code",
      "source": [
        "# Vi skal igen bruge den totale sum af husstande\n",
        "total_husstande = df['Antal husstande (i tusinde)'].sum()\n",
        "\n",
        "# Beregn sandsynligheder\n",
        "# Til at gøre dette kan vi gøre brug af filtering i vores DataFrame.\n",
        "# I dette tilfælde vil vi kun have de rækker hvor X er mindre end eller lig med 2\n",
        "# Dernæst vil vi have den sum af hustande der passer under disse kriterier\n",
        "# for til sidst at dividere den sumværdi med den samlede totalsum for alle observationer.\n",
        "solve_1 = df[df['Antal fjernsyn'] <= 2]['Antal husstande (i tusinde)'].sum() / total_husstande\n",
        "\n",
        "# Vi kan bruge logikken om det samlede udfaldsrum, til at udregne de resterende sandsynligheder over 2 fjernsyn.\n",
        "# Da P(X mindre end eller lig 2) + P(X større end 2) må udgøre hele vores udfaldsrum, 1 eller 100 %\n",
        "# betyder det at vi kan tage vores udfaldsrum (1) og blot trække sandsynligheden for P(X mindre end eller lig 2) fra udfaldsrummet.\n",
        "solve_2 = 1 - solve_1\n",
        "\n",
        "# Vi følger samme fremgangsmåde som første løsning:\n",
        "solve_3 = df[df['Antal fjernsyn'] >= 4]['Antal husstande (i tusinde)'].sum() / total_husstande\n",
        "\n",
        "# Læg mærke til at jeg bruger 3x ' (eller \") for at sætte print() på flere linjer\n",
        "# Hvis ikke du sætter 3 af den ene eller den anden i begge ender, så vil print() ikke acceptere inputtet\n",
        "# \\n skaber blot en ny linje, hvilket kan gøre nogenlunde det samme. Her bruger vi det til at skabe et lidt større mellemrum mellem hvert facit\n",
        "print(f'''\n",
        "Sandsynligheden for at X er mindre end eller lig 2: {solve_1} % \\n\n",
        "Sandsynligheden for at X er større end 2: {solve_2} % \\n\n",
        "Sandsynligheden for at X er større end eller lig med 4: {solve_3} %\n",
        "      ''')"
      ],
      "metadata": {
        "colab": {
          "base_uri": "https://localhost:8080/"
        },
        "id": "vEGOWS1yGiYM",
        "outputId": "2230a75d-b610-49a5-9efd-bb40219e1a52"
      },
      "execution_count": null,
      "outputs": [
        {
          "output_type": "stream",
          "name": "stdout",
          "text": [
            "\n",
            "Sandsynligheden for at X er mindre end eller lig 2: 0.7049979803154649 % \n",
            "\n",
            "Sandsynligheden for at X er større end 2: 0.2950020196845351 % \n",
            "\n",
            "Sandsynligheden for at X er større end eller lig med 4: 0.10399897537955291 %\n",
            "      \n"
          ]
        }
      ]
    },
    {
      "cell_type": "markdown",
      "source": [
        "#7.20\n",
        "Antallet af pizzaer, der bliver leveret til universitetsstuderende hver måned, er en stokastisk variabel med følgende sandsynlighedsfordeling: (se side 174-175)"
      ],
      "metadata": {
        "id": "-k32n5MqZ7fT"
      }
    },
    {
      "cell_type": "code",
      "source": [
        "# Opretter data for antallet af pizzaer (X) og deres sandsynligheder (P(x))\n",
        "data = {\n",
        "    'X': [0, 1, 2, 3],\n",
        "    'P(x)': [0.1, 0.3, 0.4, 0.2]\n",
        "}\n",
        "\n",
        "# Opretter DataFrame\n",
        "df_pizza = pd.DataFrame(data)\n",
        "\n",
        "# Viser DataFrame\n",
        "df_pizza"
      ],
      "metadata": {
        "colab": {
          "base_uri": "https://localhost:8080/",
          "height": 175
        },
        "id": "B4YcFwvLGiWI",
        "outputId": "9e62f225-76e0-4353-c723-f599b49ed710"
      },
      "execution_count": null,
      "outputs": [
        {
          "output_type": "execute_result",
          "data": {
            "text/plain": [
              "   X  P(x)\n",
              "0  0   0.1\n",
              "1  1   0.3\n",
              "2  2   0.4\n",
              "3  3   0.2"
            ],
            "text/html": [
              "\n",
              "  <div id=\"df-f461c1ec-1833-4a52-b8fa-97b2f0fcdddb\" class=\"colab-df-container\">\n",
              "    <div>\n",
              "<style scoped>\n",
              "    .dataframe tbody tr th:only-of-type {\n",
              "        vertical-align: middle;\n",
              "    }\n",
              "\n",
              "    .dataframe tbody tr th {\n",
              "        vertical-align: top;\n",
              "    }\n",
              "\n",
              "    .dataframe thead th {\n",
              "        text-align: right;\n",
              "    }\n",
              "</style>\n",
              "<table border=\"1\" class=\"dataframe\">\n",
              "  <thead>\n",
              "    <tr style=\"text-align: right;\">\n",
              "      <th></th>\n",
              "      <th>X</th>\n",
              "      <th>P(x)</th>\n",
              "    </tr>\n",
              "  </thead>\n",
              "  <tbody>\n",
              "    <tr>\n",
              "      <th>0</th>\n",
              "      <td>0</td>\n",
              "      <td>0.1</td>\n",
              "    </tr>\n",
              "    <tr>\n",
              "      <th>1</th>\n",
              "      <td>1</td>\n",
              "      <td>0.3</td>\n",
              "    </tr>\n",
              "    <tr>\n",
              "      <th>2</th>\n",
              "      <td>2</td>\n",
              "      <td>0.4</td>\n",
              "    </tr>\n",
              "    <tr>\n",
              "      <th>3</th>\n",
              "      <td>3</td>\n",
              "      <td>0.2</td>\n",
              "    </tr>\n",
              "  </tbody>\n",
              "</table>\n",
              "</div>\n",
              "    <div class=\"colab-df-buttons\">\n",
              "\n",
              "  <div class=\"colab-df-container\">\n",
              "    <button class=\"colab-df-convert\" onclick=\"convertToInteractive('df-f461c1ec-1833-4a52-b8fa-97b2f0fcdddb')\"\n",
              "            title=\"Convert this dataframe to an interactive table.\"\n",
              "            style=\"display:none;\">\n",
              "\n",
              "  <svg xmlns=\"http://www.w3.org/2000/svg\" height=\"24px\" viewBox=\"0 -960 960 960\">\n",
              "    <path d=\"M120-120v-720h720v720H120Zm60-500h600v-160H180v160Zm220 220h160v-160H400v160Zm0 220h160v-160H400v160ZM180-400h160v-160H180v160Zm440 0h160v-160H620v160ZM180-180h160v-160H180v160Zm440 0h160v-160H620v160Z\"/>\n",
              "  </svg>\n",
              "    </button>\n",
              "\n",
              "  <style>\n",
              "    .colab-df-container {\n",
              "      display:flex;\n",
              "      gap: 12px;\n",
              "    }\n",
              "\n",
              "    .colab-df-convert {\n",
              "      background-color: #E8F0FE;\n",
              "      border: none;\n",
              "      border-radius: 50%;\n",
              "      cursor: pointer;\n",
              "      display: none;\n",
              "      fill: #1967D2;\n",
              "      height: 32px;\n",
              "      padding: 0 0 0 0;\n",
              "      width: 32px;\n",
              "    }\n",
              "\n",
              "    .colab-df-convert:hover {\n",
              "      background-color: #E2EBFA;\n",
              "      box-shadow: 0px 1px 2px rgba(60, 64, 67, 0.3), 0px 1px 3px 1px rgba(60, 64, 67, 0.15);\n",
              "      fill: #174EA6;\n",
              "    }\n",
              "\n",
              "    .colab-df-buttons div {\n",
              "      margin-bottom: 4px;\n",
              "    }\n",
              "\n",
              "    [theme=dark] .colab-df-convert {\n",
              "      background-color: #3B4455;\n",
              "      fill: #D2E3FC;\n",
              "    }\n",
              "\n",
              "    [theme=dark] .colab-df-convert:hover {\n",
              "      background-color: #434B5C;\n",
              "      box-shadow: 0px 1px 3px 1px rgba(0, 0, 0, 0.15);\n",
              "      filter: drop-shadow(0px 1px 2px rgba(0, 0, 0, 0.3));\n",
              "      fill: #FFFFFF;\n",
              "    }\n",
              "  </style>\n",
              "\n",
              "    <script>\n",
              "      const buttonEl =\n",
              "        document.querySelector('#df-f461c1ec-1833-4a52-b8fa-97b2f0fcdddb button.colab-df-convert');\n",
              "      buttonEl.style.display =\n",
              "        google.colab.kernel.accessAllowed ? 'block' : 'none';\n",
              "\n",
              "      async function convertToInteractive(key) {\n",
              "        const element = document.querySelector('#df-f461c1ec-1833-4a52-b8fa-97b2f0fcdddb');\n",
              "        const dataTable =\n",
              "          await google.colab.kernel.invokeFunction('convertToInteractive',\n",
              "                                                    [key], {});\n",
              "        if (!dataTable) return;\n",
              "\n",
              "        const docLinkHtml = 'Like what you see? Visit the ' +\n",
              "          '<a target=\"_blank\" href=https://colab.research.google.com/notebooks/data_table.ipynb>data table notebook</a>'\n",
              "          + ' to learn more about interactive tables.';\n",
              "        element.innerHTML = '';\n",
              "        dataTable['output_type'] = 'display_data';\n",
              "        await google.colab.output.renderOutput(dataTable, element);\n",
              "        const docLink = document.createElement('div');\n",
              "        docLink.innerHTML = docLinkHtml;\n",
              "        element.appendChild(docLink);\n",
              "      }\n",
              "    </script>\n",
              "  </div>\n",
              "\n",
              "\n",
              "<div id=\"df-a90a2c6a-cb0e-478d-9df1-58a0037bfc90\">\n",
              "  <button class=\"colab-df-quickchart\" onclick=\"quickchart('df-a90a2c6a-cb0e-478d-9df1-58a0037bfc90')\"\n",
              "            title=\"Suggest charts\"\n",
              "            style=\"display:none;\">\n",
              "\n",
              "<svg xmlns=\"http://www.w3.org/2000/svg\" height=\"24px\"viewBox=\"0 0 24 24\"\n",
              "     width=\"24px\">\n",
              "    <g>\n",
              "        <path d=\"M19 3H5c-1.1 0-2 .9-2 2v14c0 1.1.9 2 2 2h14c1.1 0 2-.9 2-2V5c0-1.1-.9-2-2-2zM9 17H7v-7h2v7zm4 0h-2V7h2v10zm4 0h-2v-4h2v4z\"/>\n",
              "    </g>\n",
              "</svg>\n",
              "  </button>\n",
              "\n",
              "<style>\n",
              "  .colab-df-quickchart {\n",
              "      --bg-color: #E8F0FE;\n",
              "      --fill-color: #1967D2;\n",
              "      --hover-bg-color: #E2EBFA;\n",
              "      --hover-fill-color: #174EA6;\n",
              "      --disabled-fill-color: #AAA;\n",
              "      --disabled-bg-color: #DDD;\n",
              "  }\n",
              "\n",
              "  [theme=dark] .colab-df-quickchart {\n",
              "      --bg-color: #3B4455;\n",
              "      --fill-color: #D2E3FC;\n",
              "      --hover-bg-color: #434B5C;\n",
              "      --hover-fill-color: #FFFFFF;\n",
              "      --disabled-bg-color: #3B4455;\n",
              "      --disabled-fill-color: #666;\n",
              "  }\n",
              "\n",
              "  .colab-df-quickchart {\n",
              "    background-color: var(--bg-color);\n",
              "    border: none;\n",
              "    border-radius: 50%;\n",
              "    cursor: pointer;\n",
              "    display: none;\n",
              "    fill: var(--fill-color);\n",
              "    height: 32px;\n",
              "    padding: 0;\n",
              "    width: 32px;\n",
              "  }\n",
              "\n",
              "  .colab-df-quickchart:hover {\n",
              "    background-color: var(--hover-bg-color);\n",
              "    box-shadow: 0 1px 2px rgba(60, 64, 67, 0.3), 0 1px 3px 1px rgba(60, 64, 67, 0.15);\n",
              "    fill: var(--button-hover-fill-color);\n",
              "  }\n",
              "\n",
              "  .colab-df-quickchart-complete:disabled,\n",
              "  .colab-df-quickchart-complete:disabled:hover {\n",
              "    background-color: var(--disabled-bg-color);\n",
              "    fill: var(--disabled-fill-color);\n",
              "    box-shadow: none;\n",
              "  }\n",
              "\n",
              "  .colab-df-spinner {\n",
              "    border: 2px solid var(--fill-color);\n",
              "    border-color: transparent;\n",
              "    border-bottom-color: var(--fill-color);\n",
              "    animation:\n",
              "      spin 1s steps(1) infinite;\n",
              "  }\n",
              "\n",
              "  @keyframes spin {\n",
              "    0% {\n",
              "      border-color: transparent;\n",
              "      border-bottom-color: var(--fill-color);\n",
              "      border-left-color: var(--fill-color);\n",
              "    }\n",
              "    20% {\n",
              "      border-color: transparent;\n",
              "      border-left-color: var(--fill-color);\n",
              "      border-top-color: var(--fill-color);\n",
              "    }\n",
              "    30% {\n",
              "      border-color: transparent;\n",
              "      border-left-color: var(--fill-color);\n",
              "      border-top-color: var(--fill-color);\n",
              "      border-right-color: var(--fill-color);\n",
              "    }\n",
              "    40% {\n",
              "      border-color: transparent;\n",
              "      border-right-color: var(--fill-color);\n",
              "      border-top-color: var(--fill-color);\n",
              "    }\n",
              "    60% {\n",
              "      border-color: transparent;\n",
              "      border-right-color: var(--fill-color);\n",
              "    }\n",
              "    80% {\n",
              "      border-color: transparent;\n",
              "      border-right-color: var(--fill-color);\n",
              "      border-bottom-color: var(--fill-color);\n",
              "    }\n",
              "    90% {\n",
              "      border-color: transparent;\n",
              "      border-bottom-color: var(--fill-color);\n",
              "    }\n",
              "  }\n",
              "</style>\n",
              "\n",
              "  <script>\n",
              "    async function quickchart(key) {\n",
              "      const quickchartButtonEl =\n",
              "        document.querySelector('#' + key + ' button');\n",
              "      quickchartButtonEl.disabled = true;  // To prevent multiple clicks.\n",
              "      quickchartButtonEl.classList.add('colab-df-spinner');\n",
              "      try {\n",
              "        const charts = await google.colab.kernel.invokeFunction(\n",
              "            'suggestCharts', [key], {});\n",
              "      } catch (error) {\n",
              "        console.error('Error during call to suggestCharts:', error);\n",
              "      }\n",
              "      quickchartButtonEl.classList.remove('colab-df-spinner');\n",
              "      quickchartButtonEl.classList.add('colab-df-quickchart-complete');\n",
              "    }\n",
              "    (() => {\n",
              "      let quickchartButtonEl =\n",
              "        document.querySelector('#df-a90a2c6a-cb0e-478d-9df1-58a0037bfc90 button');\n",
              "      quickchartButtonEl.style.display =\n",
              "        google.colab.kernel.accessAllowed ? 'block' : 'none';\n",
              "    })();\n",
              "  </script>\n",
              "</div>\n",
              "    </div>\n",
              "  </div>\n"
            ],
            "application/vnd.google.colaboratory.intrinsic+json": {
              "type": "dataframe",
              "variable_name": "df_pizza",
              "summary": "{\n  \"name\": \"df_pizza\",\n  \"rows\": 4,\n  \"fields\": [\n    {\n      \"column\": \"X\",\n      \"properties\": {\n        \"dtype\": \"number\",\n        \"std\": 1,\n        \"min\": 0,\n        \"max\": 3,\n        \"num_unique_values\": 4,\n        \"samples\": [\n          1,\n          3,\n          0\n        ],\n        \"semantic_type\": \"\",\n        \"description\": \"\"\n      }\n    },\n    {\n      \"column\": \"P(x)\",\n      \"properties\": {\n        \"dtype\": \"number\",\n        \"std\": 0.12909944487358055,\n        \"min\": 0.1,\n        \"max\": 0.4,\n        \"num_unique_values\": 4,\n        \"samples\": [\n          0.3,\n          0.2,\n          0.1\n        ],\n        \"semantic_type\": \"\",\n        \"description\": \"\"\n      }\n    }\n  ]\n}"
            }
          },
          "metadata": {},
          "execution_count": 60
        }
      ]
    },
    {
      "cell_type": "markdown",
      "source": [
        "##a) Find sandsynligheden for at en studerende modtager to eller flere pizzaer denne måned"
      ],
      "metadata": {
        "id": "ioLHG7xbaGTo"
      }
    },
    {
      "cell_type": "code",
      "source": [
        "# Beregning af sandsynligheden P(X >= 2)\n",
        "to_eller_flere = df_pizza[df_pizza['X'] >= 2]['P(x)'].sum()"
      ],
      "metadata": {
        "id": "Is7AgJLsGiUN"
      },
      "execution_count": null,
      "outputs": []
    },
    {
      "cell_type": "code",
      "source": [
        "to_eller_flere"
      ],
      "metadata": {
        "colab": {
          "base_uri": "https://localhost:8080/"
        },
        "id": "747jv5mlamtP",
        "outputId": "2d1fb246-f662-41c6-983f-beb4ac18181f"
      },
      "execution_count": null,
      "outputs": [
        {
          "output_type": "execute_result",
          "data": {
            "text/plain": [
              "0.6000000000000001"
            ]
          },
          "metadata": {},
          "execution_count": 62
        }
      ]
    },
    {
      "cell_type": "markdown",
      "source": [
        "##b.\n",
        "Udregn gennemsnittet og variansen på antallet af pizzaer leveret til studerende hver måned"
      ],
      "metadata": {
        "id": "bcMJ-dtKa7kK"
      }
    },
    {
      "cell_type": "code",
      "source": [
        "# Beregning af gennemsnittet (forventet værdi)\n",
        "gennemsnit = (df_pizza['X'] * df_pizza['P(x)']).sum()\n",
        "gennemsnit"
      ],
      "metadata": {
        "colab": {
          "base_uri": "https://localhost:8080/"
        },
        "id": "voZ1A322GiSJ",
        "outputId": "c573eec9-ba56-42d9-8ec8-0d67058a2e73"
      },
      "execution_count": null,
      "outputs": [
        {
          "output_type": "execute_result",
          "data": {
            "text/plain": [
              "1.7000000000000002"
            ]
          },
          "metadata": {},
          "execution_count": 63
        }
      ]
    },
    {
      "cell_type": "code",
      "source": [
        "# Beregning af variansen\n",
        "varians = ((df_pizza['X'] - gennemsnit)**2 * df_pizza['P(x)']).sum()\n",
        "varians"
      ],
      "metadata": {
        "colab": {
          "base_uri": "https://localhost:8080/"
        },
        "id": "CCivwuGRGiQd",
        "outputId": "d40258f5-2d67-43f4-fa86-37c1b9549fc4"
      },
      "execution_count": null,
      "outputs": [
        {
          "output_type": "execute_result",
          "data": {
            "text/plain": [
              "0.81"
            ]
          },
          "metadata": {},
          "execution_count": 64
        }
      ]
    },
    {
      "cell_type": "markdown",
      "source": [
        "#7.43\n",
        "Den følgende tabel viser den bivariate fordeling af X og Y (se side 181-182):"
      ],
      "metadata": {
        "id": "PURttOsUball"
      }
    },
    {
      "cell_type": "markdown",
      "source": [
        "![image.png](data:image/png;base64,iVBORw0KGgoAAAANSUhEUgAAAPkAAACbCAYAAACgcz3BAAAAAXNSR0IArs4c6QAAAARnQU1BAACxjwv8YQUAAAAJcEhZcwAADsMAAA7DAcdvqGQAAA/dSURBVHhe7d0JbBRVGAfwr9AKplBA8aiAHCJ4FKGgRrBSxBgjIOGoYr0CiBcCNR6RojFyGQmXgAQQFDFtowYqSDwAkXqhpIigIragUFoirYLSQrG05Tnft2/abemFO2Vn3/x/yWR33myNzO5/zjfvC1MWAk8oLy+nGTNm0PLly+nQoUPUtWtXioqKouzsbGrbti2NHj2ann/+eWrevLn+CzABQu5RR44ckamkpISio6Ml5GAmhBzAcE30KwAYCiEHMBxCDmA4hBzAcAg5gOEQcgDDIeQAhkPIAQyHkAMYDiEHMBxCDmA4hBzAcAg5gOEQcgDDIeQAhkPIAQyHkAMYDiEHMBxCDmA4hBzAcAg5gOEQcgDDIeQAhkPIAQyHkAMYDiEHMBxCDmA4hBzAcAg5VJGRkUFhYWE1Tk899ZT+lE/15cOGDdNLwE0QcqgiLi6OMjMzqVOnTrrFZ8SIETRz5kw953PgwAGKjIyU92PHjqWVK1fKe3AXhByqCA8Pp+uvv57S09PpvPPO061EmzZton/++UfP+bzzzjt04sQJeuCBB2jFihXUpk0bvQTcBCGHGsXGxtJLL72k54iKiopo/Pjxeo5o9erVsjw+Pp7efPNNOVwHdwpTFv0eoIrS0lK64YYbaNeuXbqFKCUlhbp16ybh5kP6rVu3UuvWrfVScCOEHOq0c+dOCXpZWZnMX3DBBRQRESHvv/vuuzPO3cF9cLgOderVqxe98MILeo7o6NGj9Oeff9JHH32EgIcIhBzqxSGPiYnRc0SnT5+m3bt36zlwO4Qc6pWdnU25ubl6zmfSpEl08OBBPQduhpBDnQ4dOkR33nmnnJMnJibqVqJjx47JvXFc0nE/hBxqVVhYSIMHD5a9eGpqKq1atYp69uyplxJt3ryZXn/9dT0HboWr61CjU6dO0ZAhQ6QTDPd0mzJlirT/9NNP0lmGl7Pzzz9frsDzbTVwJ+zJ4Qy83X/00Ucl4Pfeey8lJyfrJUQ9evSgF198Uc8RnTx5Ug7jS0pKdAu4DUIOVfz11180btw4OTRnvAf3P9jj94MGDdJzPjt27KBRo0bhQpxL4XAdqhgwYAB98cUXes5n//79FffEuf96XX3U8XNyH4Qcqjh+/HhF7zZbVFQUNWmCg75QhZADGA6bZwDDIeQAhjPycN0epgiPQDrv33//lQnr1ll8YXP06NF6zllG7sknTJig3wEALrwBGA7n5ACGQ8gBDIeQAxgOIQcw3DkNOT+SWL3qhj1Vr87BXn755SqfaaxbDMGUk5NDkydPpq+++kq3QCDWr19P9913H9100000cOBAudPCD9B4Gl9dP1fKysrU9u3b1WWXXcZX9Cum5557ThUXF+tPVeK2hIQE+UxSUpIqLCzUS0Lb4cOH1ZIlS9Qdd9yhmjRpIv++lStX6qXwf1kbS1mX/PtKS0tTcXFxMs/rmOe96pyG3LZ161bVtGlT+QJ46ty5syoqKtJLK+Xl5amoqCjVt29f2UCYYtKkScray6jmzZtXrAOEPDAFBQUVv6mFCxdKW0ZGRsX6veSSS4z6DZ2NoJyTW6GladOm6Tnfo4w8MGB1PHBBeXm5lOOxvkDdGvoWLFggQyf169dPt4AT+DfCI9XYhRetYMsry8/Pl8mLgnbhjc9Db731Vj1HUiyPS+/Y3n77bfr4449p3rx51LVrV91qlpYtW+p3EKiLLrpIdhY8dejQQdp4qCob13XjwhBeFLSQ8/PJXHLnwgsv1C2+PTePDsojjPCenQcR5DaAhrDOxSv23jwG3axZs+Q9GzlyJFmnR3rOW4J6C42/FN5j2/7++2966KGHZPihZs2aSSE9gLNlnYbSmDFj6Pvvv5d53rPPmTNH3ntRUEPOeETQiRMn6jmizz//XAYQfOONN6qcUwE0VFJSEqWlpcl7LszINdt4h+JVQQ85mz17NrVr107PkQwUOHz4cD0H0HC8c1i0aBFFRkbKmPC80/BywJkrQs6H5m3bttVzvosoAGeLR5p99tln6eKLL6Zt27bRk08+ibHpLFgDYAy+NVlUVCTXea699lrdSvTrr79KwUauxupFCHkQ8QUicA6PFR8bGyu122w8is1rr71Ge/fuxS20YONOL17CdxJ++eUXPUdyJdhr68BJWVlZUrPthx9+qPK8A3eOWbZsmfS1MKlD1dkIesh5nG/+Yn7//XfdQpSZmSnzXILHRPygDe9V9u3bp1tILhKFh4fLQzxw9uqr3nLllVfqd94T9OGfaqrYYeNbIXyoBQD/H8Z4AzAcLrwBGA4hBzAcQg5gOIQcwHR84S0QW7ZsqRh9A5P5U8eOHWtsxxTYFB8frxPlvICvrnNRerfd2+XbchkZGXoOnFRcXEynT5+mFi1a6BZwAteW69Wrl55zFm6hARgO5+QAhkPIAQyHkAMYDiEHMJwrL7yVlZVReno6LV26lJYvX05XXHGFXhI6Dh8+THPnzpXxxXh0kptvvllKQfGoJfXhEU5mzJih5yrx03q1PczjFfx8+JIlS+jTTz+lwsJCGRyCR/a97rrr9CcaJjs7m9asWUPJycm6xWAccjc4deqU2rBhg3rsscek2gX/r/Fk/bD1J0LHb7/9Jv8GLoN04MABtW/fPtW/f3/VoUMHlZubqz9Vuy+//FI1a9ZM7kn7T2PGjNGf8CYr4FL6iNdFZmamys/Pl2o0vK74t9MQ3K8jMTFRqq307NlTt5rNNSHftm2bio6OVt27d68IeKiGfPjw4SosLEwdPHhQtyiVlZUl/54HH3xQt9Ru1apVasSIEXoObAsWLJB1mJKSoluUKi0tlY0nB7+8vFy31m7KlCnq1Vdflf8OQn6O2XWqdu7cWRFwnkIt5NahtgoPD1d9+vTRLZWuuuoq2evUVPfN39SpU+XHCFXFxsbKxvPYsWO6xefxxx+X38qmTZt0S934O/JSyF1z4c0emqdVq1byGqp4GCe+pnDNNdfolkpXX301lZSU0K5du3RLzXhUHC+PZFITHiWI11v79u0pKipKt/rwemU8QmtDeG0YKFxddxgPGMhqGuubf6DMOmeX19pY5/G0e/duqRXXqVMnKRDJw0NZG2X9Ce/hDR93pw1kvXoVQu4wHrOO1VR3i4vuMetwU15rw0X7OOg8tPCePXsk7FxlhofD8ion1qtXIeQO40J7teEiEqy+UVl5XLt3332XOnbsKKON8u003qMvXryY8vLy9Ke8xYn16lUIucPqKkd84sQJea3vCS4uEeV/3sj32ePi4uRw9ZtvvtGt3uLEevUqhNxhdmcX7tBSHXfeYP+nDJRd4pnHa/eixlqvXoCQO8zueZWTkyOv/uy2unpnHTlyRIr0VWeX+PFqFRC+4MYbOh5fvfoFyIasVy9DyB3G3Sz5/Jm7s/LhtY1vq23fvl1urXXu3Fm3nonPx2+77bYzBuL48ccfpSIIX2n3Ki5zzbXOfv75Z93iY3cd9i+PBJVcF3L/YDAORyjhIE6ePFkOK9977z3dSvTWW2/JYSUvs3FfdN4gzJs3T7cQ3XjjjfI6depUeWU8yg3/sEeNGiUF9b3qmWeeoYiICLmdaONSUxs2bJCqNJdeeqm08Tl6nz596O6775b56o4ePSqvvMHwBOkS4wLcPbGgoEDNnTtXeiPZE/f+4na7R1wosDZUavr06aply5Zq3LhxyvoByvvZs2frT/ikpqbKv3HgwIG6xYe7b0ZGRkrf97Fjx8rf3nPPPcraSOhPeNeHH36orHNvNXToUDVx4kRlnatLV2Er2PoTSroTW3t2marj7sLt27ev+H316NFDWRtZvdRMrnkKjfdWfD+4NrzXa6wxsBoL7zF27Nghh5K9e/eWcbz88arnw3M+z5w/f75u9eG9ER/e81NXfApgd/gAkl6DvG54T8ynP5dffrleUol7Hj7yyCOy/r0OY7wFEYf7/vvvl3vi7dq1060QKN4wJiYm0vjx4+n222/Xrd6FkAdRfn6+7M3tc0lwBneK4Z6CMTExusXbEHIAw+EWGoDhEHIAwyHkAIZDyAEMh5ADGA4hBzAcQg5gOIQcwHDoDNNIAqmg4u+zzz6TnnHc/RUCr6Cydu1aSklJodzcXGrTpo08LzFhwgSKjIzUnzAQh9wtNm7cqIYMGSJFFqwvQMXExMiTRlyFJJQEWkGlpKREnlC75ZZbeAOskpKS9BJvC7SCirWRlfU5f/589ccff6i0tDQVERGh+vXrJxV8TOWakC9atEi+AJ4WL16sli1bJgPp83zr1q3Vnj179CfdL9AKKrxh4Eds+RFV/huE3CeQCiq8Tvlv77rrLt3iw4/ycvsHH3ygW8zjipDzF9WiRQtZ2f7PVtt7Mp4SEhJ0q7s5UUHFtnr1avm3I+Q+gVRQsU6fVO/evdXXX3+tW3xeeeUV+ds5c+boFvO44sIbPzVkjwDDI5Xa/J8T5ufJQ4ETFVRsXqv0UZdAK6hYp0/y3fC1EX/WYb+8du/eXV5N5IqQ87jZ1haW1q1bR0888YRu9VXNsIXKhREnKqjAmZyuoMIbYh5Gii/EjRw5kgYPHqyXmMc1t9B4TK6hQ4dW7L14z/3tt9/Ke2adS+l37oZKH43DyfVqHd7LM/zTpk2TkXms0yIZm89UrrxPzsMP88getujoaHr66af1nLuh0kfjcHK98iCZ6enpNGjQICk9lZCQQMXFxXqpeVwXch63iw+dsrKyZL5Lly60ZcuWkBlvHJU+GoeT65XPz/v37y+15pKTk2nNmjXyaipXhZy3xLxVtS+GPPzww3LYHkoXRVDpo3E01nrljjDs/fffl1cTuSrk3ENs48aN8mXx64oVK864kup2gVZQgZoFWkGFew3yHrs6+0KeyeWnXBNy3kLzhRDuashX2v1H2eTSQaFSzTPQCipQu0AqqKSmpspR4vr163WLj30Hh783U7km5EuXLpVzq5kzZ1K3bt10q8/06dMpPj5ez7lboBVU/Hmu0kc9AqmgMmDAANkQ8PMD/lfhZ82aJa/+34txfH1igs/aw0lvMOtLU/v375dp79696pNPPlHWIbv0Aw8VgVZQsfYu0sZ/w8ubNm0q/as3b96sP+FdgVRQ4R6E/FxEly5dlHUurqwdh2rVqpWydjD6E2ZyxVNoBQUFcsWzLtYXSgsXLtRzoSGQCipQu0AqqJSWlkrPOT5H5zs2sbGxNd57NwqHPNisw1bZY9U1WQHXnzZHTk6OPFWVl5enW8AJJ0+eVMOGDZOnGsFFtdC8CBVUGgffikUFlUoIOYDhXNfjDQCchZADGA4hBzAcQg5gOIQcwHAIOYDhEHIAwyHkAIZDyAEMh5ADGA4hBzAcQg5gOIQcwHAIOYDhEHIAwyHkAIZDyAEMh5ADGA4hBzAcQg5gOIQcwHAIOYDhEHIAwyHkAIZDyAEMh5ADGA4hBzAa0X+Mw8MclD8mawAAAABJRU5ErkJggg==)"
      ],
      "metadata": {
        "id": "ezRYGBiTbe-A"
      }
    },
    {
      "cell_type": "code",
      "source": [
        "import pandas as pd\n",
        "\n",
        "# Opretter data for den bivariate fordeling\n",
        "data = {'X': [1, 2, 1, 2],\n",
        "        'Y': [1, 1, 2, 2],\n",
        "        'P(X,Y)': [0.5, 0.1, 0.1, 0.3]}\n",
        "\n",
        "# Opretter DataFrame\n",
        "df = pd.DataFrame(data)"
      ],
      "metadata": {
        "id": "_7xk-nEjGiOf"
      },
      "execution_count": null,
      "outputs": []
    },
    {
      "cell_type": "markdown",
      "source": [
        "##a) Find den marginale sandsynlighedsfordeling af X"
      ],
      "metadata": {
        "id": "5L8TBgK6c6Ze"
      }
    },
    {
      "cell_type": "code",
      "source": [
        "# Beregner den marginale sandsynlighedsfordeling for X\n",
        "marginale_x = df.groupby('X')['P(X,Y)'].sum().reset_index(name='P(X)')\n",
        "\n",
        "# P(X) kolonnen indeholder vores marginale sandsynlighedsfordeling for X\n",
        "marginale_x"
      ],
      "metadata": {
        "colab": {
          "base_uri": "https://localhost:8080/",
          "height": 112
        },
        "id": "239vdgk5GiMS",
        "outputId": "fdb3e72e-8032-4870-86c4-de15093210c2"
      },
      "execution_count": null,
      "outputs": [
        {
          "output_type": "execute_result",
          "data": {
            "text/plain": [
              "   X  P(X)\n",
              "0  1   0.6\n",
              "1  2   0.4"
            ],
            "text/html": [
              "\n",
              "  <div id=\"df-cf31184f-b707-44eb-80d1-76b499befe69\" class=\"colab-df-container\">\n",
              "    <div>\n",
              "<style scoped>\n",
              "    .dataframe tbody tr th:only-of-type {\n",
              "        vertical-align: middle;\n",
              "    }\n",
              "\n",
              "    .dataframe tbody tr th {\n",
              "        vertical-align: top;\n",
              "    }\n",
              "\n",
              "    .dataframe thead th {\n",
              "        text-align: right;\n",
              "    }\n",
              "</style>\n",
              "<table border=\"1\" class=\"dataframe\">\n",
              "  <thead>\n",
              "    <tr style=\"text-align: right;\">\n",
              "      <th></th>\n",
              "      <th>X</th>\n",
              "      <th>P(X)</th>\n",
              "    </tr>\n",
              "  </thead>\n",
              "  <tbody>\n",
              "    <tr>\n",
              "      <th>0</th>\n",
              "      <td>1</td>\n",
              "      <td>0.6</td>\n",
              "    </tr>\n",
              "    <tr>\n",
              "      <th>1</th>\n",
              "      <td>2</td>\n",
              "      <td>0.4</td>\n",
              "    </tr>\n",
              "  </tbody>\n",
              "</table>\n",
              "</div>\n",
              "    <div class=\"colab-df-buttons\">\n",
              "\n",
              "  <div class=\"colab-df-container\">\n",
              "    <button class=\"colab-df-convert\" onclick=\"convertToInteractive('df-cf31184f-b707-44eb-80d1-76b499befe69')\"\n",
              "            title=\"Convert this dataframe to an interactive table.\"\n",
              "            style=\"display:none;\">\n",
              "\n",
              "  <svg xmlns=\"http://www.w3.org/2000/svg\" height=\"24px\" viewBox=\"0 -960 960 960\">\n",
              "    <path d=\"M120-120v-720h720v720H120Zm60-500h600v-160H180v160Zm220 220h160v-160H400v160Zm0 220h160v-160H400v160ZM180-400h160v-160H180v160Zm440 0h160v-160H620v160ZM180-180h160v-160H180v160Zm440 0h160v-160H620v160Z\"/>\n",
              "  </svg>\n",
              "    </button>\n",
              "\n",
              "  <style>\n",
              "    .colab-df-container {\n",
              "      display:flex;\n",
              "      gap: 12px;\n",
              "    }\n",
              "\n",
              "    .colab-df-convert {\n",
              "      background-color: #E8F0FE;\n",
              "      border: none;\n",
              "      border-radius: 50%;\n",
              "      cursor: pointer;\n",
              "      display: none;\n",
              "      fill: #1967D2;\n",
              "      height: 32px;\n",
              "      padding: 0 0 0 0;\n",
              "      width: 32px;\n",
              "    }\n",
              "\n",
              "    .colab-df-convert:hover {\n",
              "      background-color: #E2EBFA;\n",
              "      box-shadow: 0px 1px 2px rgba(60, 64, 67, 0.3), 0px 1px 3px 1px rgba(60, 64, 67, 0.15);\n",
              "      fill: #174EA6;\n",
              "    }\n",
              "\n",
              "    .colab-df-buttons div {\n",
              "      margin-bottom: 4px;\n",
              "    }\n",
              "\n",
              "    [theme=dark] .colab-df-convert {\n",
              "      background-color: #3B4455;\n",
              "      fill: #D2E3FC;\n",
              "    }\n",
              "\n",
              "    [theme=dark] .colab-df-convert:hover {\n",
              "      background-color: #434B5C;\n",
              "      box-shadow: 0px 1px 3px 1px rgba(0, 0, 0, 0.15);\n",
              "      filter: drop-shadow(0px 1px 2px rgba(0, 0, 0, 0.3));\n",
              "      fill: #FFFFFF;\n",
              "    }\n",
              "  </style>\n",
              "\n",
              "    <script>\n",
              "      const buttonEl =\n",
              "        document.querySelector('#df-cf31184f-b707-44eb-80d1-76b499befe69 button.colab-df-convert');\n",
              "      buttonEl.style.display =\n",
              "        google.colab.kernel.accessAllowed ? 'block' : 'none';\n",
              "\n",
              "      async function convertToInteractive(key) {\n",
              "        const element = document.querySelector('#df-cf31184f-b707-44eb-80d1-76b499befe69');\n",
              "        const dataTable =\n",
              "          await google.colab.kernel.invokeFunction('convertToInteractive',\n",
              "                                                    [key], {});\n",
              "        if (!dataTable) return;\n",
              "\n",
              "        const docLinkHtml = 'Like what you see? Visit the ' +\n",
              "          '<a target=\"_blank\" href=https://colab.research.google.com/notebooks/data_table.ipynb>data table notebook</a>'\n",
              "          + ' to learn more about interactive tables.';\n",
              "        element.innerHTML = '';\n",
              "        dataTable['output_type'] = 'display_data';\n",
              "        await google.colab.output.renderOutput(dataTable, element);\n",
              "        const docLink = document.createElement('div');\n",
              "        docLink.innerHTML = docLinkHtml;\n",
              "        element.appendChild(docLink);\n",
              "      }\n",
              "    </script>\n",
              "  </div>\n",
              "\n",
              "\n",
              "<div id=\"df-c8c181a6-c9c8-4b66-90c5-4f62e4841448\">\n",
              "  <button class=\"colab-df-quickchart\" onclick=\"quickchart('df-c8c181a6-c9c8-4b66-90c5-4f62e4841448')\"\n",
              "            title=\"Suggest charts\"\n",
              "            style=\"display:none;\">\n",
              "\n",
              "<svg xmlns=\"http://www.w3.org/2000/svg\" height=\"24px\"viewBox=\"0 0 24 24\"\n",
              "     width=\"24px\">\n",
              "    <g>\n",
              "        <path d=\"M19 3H5c-1.1 0-2 .9-2 2v14c0 1.1.9 2 2 2h14c1.1 0 2-.9 2-2V5c0-1.1-.9-2-2-2zM9 17H7v-7h2v7zm4 0h-2V7h2v10zm4 0h-2v-4h2v4z\"/>\n",
              "    </g>\n",
              "</svg>\n",
              "  </button>\n",
              "\n",
              "<style>\n",
              "  .colab-df-quickchart {\n",
              "      --bg-color: #E8F0FE;\n",
              "      --fill-color: #1967D2;\n",
              "      --hover-bg-color: #E2EBFA;\n",
              "      --hover-fill-color: #174EA6;\n",
              "      --disabled-fill-color: #AAA;\n",
              "      --disabled-bg-color: #DDD;\n",
              "  }\n",
              "\n",
              "  [theme=dark] .colab-df-quickchart {\n",
              "      --bg-color: #3B4455;\n",
              "      --fill-color: #D2E3FC;\n",
              "      --hover-bg-color: #434B5C;\n",
              "      --hover-fill-color: #FFFFFF;\n",
              "      --disabled-bg-color: #3B4455;\n",
              "      --disabled-fill-color: #666;\n",
              "  }\n",
              "\n",
              "  .colab-df-quickchart {\n",
              "    background-color: var(--bg-color);\n",
              "    border: none;\n",
              "    border-radius: 50%;\n",
              "    cursor: pointer;\n",
              "    display: none;\n",
              "    fill: var(--fill-color);\n",
              "    height: 32px;\n",
              "    padding: 0;\n",
              "    width: 32px;\n",
              "  }\n",
              "\n",
              "  .colab-df-quickchart:hover {\n",
              "    background-color: var(--hover-bg-color);\n",
              "    box-shadow: 0 1px 2px rgba(60, 64, 67, 0.3), 0 1px 3px 1px rgba(60, 64, 67, 0.15);\n",
              "    fill: var(--button-hover-fill-color);\n",
              "  }\n",
              "\n",
              "  .colab-df-quickchart-complete:disabled,\n",
              "  .colab-df-quickchart-complete:disabled:hover {\n",
              "    background-color: var(--disabled-bg-color);\n",
              "    fill: var(--disabled-fill-color);\n",
              "    box-shadow: none;\n",
              "  }\n",
              "\n",
              "  .colab-df-spinner {\n",
              "    border: 2px solid var(--fill-color);\n",
              "    border-color: transparent;\n",
              "    border-bottom-color: var(--fill-color);\n",
              "    animation:\n",
              "      spin 1s steps(1) infinite;\n",
              "  }\n",
              "\n",
              "  @keyframes spin {\n",
              "    0% {\n",
              "      border-color: transparent;\n",
              "      border-bottom-color: var(--fill-color);\n",
              "      border-left-color: var(--fill-color);\n",
              "    }\n",
              "    20% {\n",
              "      border-color: transparent;\n",
              "      border-left-color: var(--fill-color);\n",
              "      border-top-color: var(--fill-color);\n",
              "    }\n",
              "    30% {\n",
              "      border-color: transparent;\n",
              "      border-left-color: var(--fill-color);\n",
              "      border-top-color: var(--fill-color);\n",
              "      border-right-color: var(--fill-color);\n",
              "    }\n",
              "    40% {\n",
              "      border-color: transparent;\n",
              "      border-right-color: var(--fill-color);\n",
              "      border-top-color: var(--fill-color);\n",
              "    }\n",
              "    60% {\n",
              "      border-color: transparent;\n",
              "      border-right-color: var(--fill-color);\n",
              "    }\n",
              "    80% {\n",
              "      border-color: transparent;\n",
              "      border-right-color: var(--fill-color);\n",
              "      border-bottom-color: var(--fill-color);\n",
              "    }\n",
              "    90% {\n",
              "      border-color: transparent;\n",
              "      border-bottom-color: var(--fill-color);\n",
              "    }\n",
              "  }\n",
              "</style>\n",
              "\n",
              "  <script>\n",
              "    async function quickchart(key) {\n",
              "      const quickchartButtonEl =\n",
              "        document.querySelector('#' + key + ' button');\n",
              "      quickchartButtonEl.disabled = true;  // To prevent multiple clicks.\n",
              "      quickchartButtonEl.classList.add('colab-df-spinner');\n",
              "      try {\n",
              "        const charts = await google.colab.kernel.invokeFunction(\n",
              "            'suggestCharts', [key], {});\n",
              "      } catch (error) {\n",
              "        console.error('Error during call to suggestCharts:', error);\n",
              "      }\n",
              "      quickchartButtonEl.classList.remove('colab-df-spinner');\n",
              "      quickchartButtonEl.classList.add('colab-df-quickchart-complete');\n",
              "    }\n",
              "    (() => {\n",
              "      let quickchartButtonEl =\n",
              "        document.querySelector('#df-c8c181a6-c9c8-4b66-90c5-4f62e4841448 button');\n",
              "      quickchartButtonEl.style.display =\n",
              "        google.colab.kernel.accessAllowed ? 'block' : 'none';\n",
              "    })();\n",
              "  </script>\n",
              "</div>\n",
              "    </div>\n",
              "  </div>\n"
            ],
            "application/vnd.google.colaboratory.intrinsic+json": {
              "type": "dataframe",
              "variable_name": "marginale_x",
              "summary": "{\n  \"name\": \"marginale_x\",\n  \"rows\": 2,\n  \"fields\": [\n    {\n      \"column\": \"X\",\n      \"properties\": {\n        \"dtype\": \"number\",\n        \"std\": 0,\n        \"min\": 1,\n        \"max\": 2,\n        \"num_unique_values\": 2,\n        \"samples\": [\n          2,\n          1\n        ],\n        \"semantic_type\": \"\",\n        \"description\": \"\"\n      }\n    },\n    {\n      \"column\": \"P(X)\",\n      \"properties\": {\n        \"dtype\": \"number\",\n        \"std\": 0.14142135623730948,\n        \"min\": 0.4,\n        \"max\": 0.6,\n        \"num_unique_values\": 2,\n        \"samples\": [\n          0.4,\n          0.6\n        ],\n        \"semantic_type\": \"\",\n        \"description\": \"\"\n      }\n    }\n  ]\n}"
            }
          },
          "metadata": {},
          "execution_count": 66
        }
      ]
    },
    {
      "cell_type": "markdown",
      "source": [
        "##b) Find den marginale sandsynlighedsfordeling af Y"
      ],
      "metadata": {
        "id": "yiyI5zlCc-RC"
      }
    },
    {
      "cell_type": "code",
      "source": [
        "# Beregner den marginale sandsynlighedsfordeling for Y\n",
        "marginale_y = df.groupby('Y')['P(X,Y)'].sum().reset_index(name='P(Y)')"
      ],
      "metadata": {
        "id": "zAoE7G3xGiKJ"
      },
      "execution_count": null,
      "outputs": []
    },
    {
      "cell_type": "code",
      "source": [
        "# P(Y) kolonnen indeholder vores marginale sandsynlighedsfordeling for y\n",
        "marginale_y"
      ],
      "metadata": {
        "colab": {
          "base_uri": "https://localhost:8080/",
          "height": 112
        },
        "id": "ZykKKepiGiII",
        "outputId": "2ac05fc5-0c82-4d71-8b21-53d94725fb59"
      },
      "execution_count": null,
      "outputs": [
        {
          "output_type": "execute_result",
          "data": {
            "text/plain": [
              "   Y  P(Y)\n",
              "0  1   0.6\n",
              "1  2   0.4"
            ],
            "text/html": [
              "\n",
              "  <div id=\"df-c7853c31-50f4-411a-b1ec-389664ae8ed3\" class=\"colab-df-container\">\n",
              "    <div>\n",
              "<style scoped>\n",
              "    .dataframe tbody tr th:only-of-type {\n",
              "        vertical-align: middle;\n",
              "    }\n",
              "\n",
              "    .dataframe tbody tr th {\n",
              "        vertical-align: top;\n",
              "    }\n",
              "\n",
              "    .dataframe thead th {\n",
              "        text-align: right;\n",
              "    }\n",
              "</style>\n",
              "<table border=\"1\" class=\"dataframe\">\n",
              "  <thead>\n",
              "    <tr style=\"text-align: right;\">\n",
              "      <th></th>\n",
              "      <th>Y</th>\n",
              "      <th>P(Y)</th>\n",
              "    </tr>\n",
              "  </thead>\n",
              "  <tbody>\n",
              "    <tr>\n",
              "      <th>0</th>\n",
              "      <td>1</td>\n",
              "      <td>0.6</td>\n",
              "    </tr>\n",
              "    <tr>\n",
              "      <th>1</th>\n",
              "      <td>2</td>\n",
              "      <td>0.4</td>\n",
              "    </tr>\n",
              "  </tbody>\n",
              "</table>\n",
              "</div>\n",
              "    <div class=\"colab-df-buttons\">\n",
              "\n",
              "  <div class=\"colab-df-container\">\n",
              "    <button class=\"colab-df-convert\" onclick=\"convertToInteractive('df-c7853c31-50f4-411a-b1ec-389664ae8ed3')\"\n",
              "            title=\"Convert this dataframe to an interactive table.\"\n",
              "            style=\"display:none;\">\n",
              "\n",
              "  <svg xmlns=\"http://www.w3.org/2000/svg\" height=\"24px\" viewBox=\"0 -960 960 960\">\n",
              "    <path d=\"M120-120v-720h720v720H120Zm60-500h600v-160H180v160Zm220 220h160v-160H400v160Zm0 220h160v-160H400v160ZM180-400h160v-160H180v160Zm440 0h160v-160H620v160ZM180-180h160v-160H180v160Zm440 0h160v-160H620v160Z\"/>\n",
              "  </svg>\n",
              "    </button>\n",
              "\n",
              "  <style>\n",
              "    .colab-df-container {\n",
              "      display:flex;\n",
              "      gap: 12px;\n",
              "    }\n",
              "\n",
              "    .colab-df-convert {\n",
              "      background-color: #E8F0FE;\n",
              "      border: none;\n",
              "      border-radius: 50%;\n",
              "      cursor: pointer;\n",
              "      display: none;\n",
              "      fill: #1967D2;\n",
              "      height: 32px;\n",
              "      padding: 0 0 0 0;\n",
              "      width: 32px;\n",
              "    }\n",
              "\n",
              "    .colab-df-convert:hover {\n",
              "      background-color: #E2EBFA;\n",
              "      box-shadow: 0px 1px 2px rgba(60, 64, 67, 0.3), 0px 1px 3px 1px rgba(60, 64, 67, 0.15);\n",
              "      fill: #174EA6;\n",
              "    }\n",
              "\n",
              "    .colab-df-buttons div {\n",
              "      margin-bottom: 4px;\n",
              "    }\n",
              "\n",
              "    [theme=dark] .colab-df-convert {\n",
              "      background-color: #3B4455;\n",
              "      fill: #D2E3FC;\n",
              "    }\n",
              "\n",
              "    [theme=dark] .colab-df-convert:hover {\n",
              "      background-color: #434B5C;\n",
              "      box-shadow: 0px 1px 3px 1px rgba(0, 0, 0, 0.15);\n",
              "      filter: drop-shadow(0px 1px 2px rgba(0, 0, 0, 0.3));\n",
              "      fill: #FFFFFF;\n",
              "    }\n",
              "  </style>\n",
              "\n",
              "    <script>\n",
              "      const buttonEl =\n",
              "        document.querySelector('#df-c7853c31-50f4-411a-b1ec-389664ae8ed3 button.colab-df-convert');\n",
              "      buttonEl.style.display =\n",
              "        google.colab.kernel.accessAllowed ? 'block' : 'none';\n",
              "\n",
              "      async function convertToInteractive(key) {\n",
              "        const element = document.querySelector('#df-c7853c31-50f4-411a-b1ec-389664ae8ed3');\n",
              "        const dataTable =\n",
              "          await google.colab.kernel.invokeFunction('convertToInteractive',\n",
              "                                                    [key], {});\n",
              "        if (!dataTable) return;\n",
              "\n",
              "        const docLinkHtml = 'Like what you see? Visit the ' +\n",
              "          '<a target=\"_blank\" href=https://colab.research.google.com/notebooks/data_table.ipynb>data table notebook</a>'\n",
              "          + ' to learn more about interactive tables.';\n",
              "        element.innerHTML = '';\n",
              "        dataTable['output_type'] = 'display_data';\n",
              "        await google.colab.output.renderOutput(dataTable, element);\n",
              "        const docLink = document.createElement('div');\n",
              "        docLink.innerHTML = docLinkHtml;\n",
              "        element.appendChild(docLink);\n",
              "      }\n",
              "    </script>\n",
              "  </div>\n",
              "\n",
              "\n",
              "<div id=\"df-0915180f-c45d-477b-95f4-fc61b1bba62a\">\n",
              "  <button class=\"colab-df-quickchart\" onclick=\"quickchart('df-0915180f-c45d-477b-95f4-fc61b1bba62a')\"\n",
              "            title=\"Suggest charts\"\n",
              "            style=\"display:none;\">\n",
              "\n",
              "<svg xmlns=\"http://www.w3.org/2000/svg\" height=\"24px\"viewBox=\"0 0 24 24\"\n",
              "     width=\"24px\">\n",
              "    <g>\n",
              "        <path d=\"M19 3H5c-1.1 0-2 .9-2 2v14c0 1.1.9 2 2 2h14c1.1 0 2-.9 2-2V5c0-1.1-.9-2-2-2zM9 17H7v-7h2v7zm4 0h-2V7h2v10zm4 0h-2v-4h2v4z\"/>\n",
              "    </g>\n",
              "</svg>\n",
              "  </button>\n",
              "\n",
              "<style>\n",
              "  .colab-df-quickchart {\n",
              "      --bg-color: #E8F0FE;\n",
              "      --fill-color: #1967D2;\n",
              "      --hover-bg-color: #E2EBFA;\n",
              "      --hover-fill-color: #174EA6;\n",
              "      --disabled-fill-color: #AAA;\n",
              "      --disabled-bg-color: #DDD;\n",
              "  }\n",
              "\n",
              "  [theme=dark] .colab-df-quickchart {\n",
              "      --bg-color: #3B4455;\n",
              "      --fill-color: #D2E3FC;\n",
              "      --hover-bg-color: #434B5C;\n",
              "      --hover-fill-color: #FFFFFF;\n",
              "      --disabled-bg-color: #3B4455;\n",
              "      --disabled-fill-color: #666;\n",
              "  }\n",
              "\n",
              "  .colab-df-quickchart {\n",
              "    background-color: var(--bg-color);\n",
              "    border: none;\n",
              "    border-radius: 50%;\n",
              "    cursor: pointer;\n",
              "    display: none;\n",
              "    fill: var(--fill-color);\n",
              "    height: 32px;\n",
              "    padding: 0;\n",
              "    width: 32px;\n",
              "  }\n",
              "\n",
              "  .colab-df-quickchart:hover {\n",
              "    background-color: var(--hover-bg-color);\n",
              "    box-shadow: 0 1px 2px rgba(60, 64, 67, 0.3), 0 1px 3px 1px rgba(60, 64, 67, 0.15);\n",
              "    fill: var(--button-hover-fill-color);\n",
              "  }\n",
              "\n",
              "  .colab-df-quickchart-complete:disabled,\n",
              "  .colab-df-quickchart-complete:disabled:hover {\n",
              "    background-color: var(--disabled-bg-color);\n",
              "    fill: var(--disabled-fill-color);\n",
              "    box-shadow: none;\n",
              "  }\n",
              "\n",
              "  .colab-df-spinner {\n",
              "    border: 2px solid var(--fill-color);\n",
              "    border-color: transparent;\n",
              "    border-bottom-color: var(--fill-color);\n",
              "    animation:\n",
              "      spin 1s steps(1) infinite;\n",
              "  }\n",
              "\n",
              "  @keyframes spin {\n",
              "    0% {\n",
              "      border-color: transparent;\n",
              "      border-bottom-color: var(--fill-color);\n",
              "      border-left-color: var(--fill-color);\n",
              "    }\n",
              "    20% {\n",
              "      border-color: transparent;\n",
              "      border-left-color: var(--fill-color);\n",
              "      border-top-color: var(--fill-color);\n",
              "    }\n",
              "    30% {\n",
              "      border-color: transparent;\n",
              "      border-left-color: var(--fill-color);\n",
              "      border-top-color: var(--fill-color);\n",
              "      border-right-color: var(--fill-color);\n",
              "    }\n",
              "    40% {\n",
              "      border-color: transparent;\n",
              "      border-right-color: var(--fill-color);\n",
              "      border-top-color: var(--fill-color);\n",
              "    }\n",
              "    60% {\n",
              "      border-color: transparent;\n",
              "      border-right-color: var(--fill-color);\n",
              "    }\n",
              "    80% {\n",
              "      border-color: transparent;\n",
              "      border-right-color: var(--fill-color);\n",
              "      border-bottom-color: var(--fill-color);\n",
              "    }\n",
              "    90% {\n",
              "      border-color: transparent;\n",
              "      border-bottom-color: var(--fill-color);\n",
              "    }\n",
              "  }\n",
              "</style>\n",
              "\n",
              "  <script>\n",
              "    async function quickchart(key) {\n",
              "      const quickchartButtonEl =\n",
              "        document.querySelector('#' + key + ' button');\n",
              "      quickchartButtonEl.disabled = true;  // To prevent multiple clicks.\n",
              "      quickchartButtonEl.classList.add('colab-df-spinner');\n",
              "      try {\n",
              "        const charts = await google.colab.kernel.invokeFunction(\n",
              "            'suggestCharts', [key], {});\n",
              "      } catch (error) {\n",
              "        console.error('Error during call to suggestCharts:', error);\n",
              "      }\n",
              "      quickchartButtonEl.classList.remove('colab-df-spinner');\n",
              "      quickchartButtonEl.classList.add('colab-df-quickchart-complete');\n",
              "    }\n",
              "    (() => {\n",
              "      let quickchartButtonEl =\n",
              "        document.querySelector('#df-0915180f-c45d-477b-95f4-fc61b1bba62a button');\n",
              "      quickchartButtonEl.style.display =\n",
              "        google.colab.kernel.accessAllowed ? 'block' : 'none';\n",
              "    })();\n",
              "  </script>\n",
              "</div>\n",
              "    </div>\n",
              "  </div>\n"
            ],
            "application/vnd.google.colaboratory.intrinsic+json": {
              "type": "dataframe",
              "variable_name": "marginale_y",
              "summary": "{\n  \"name\": \"marginale_y\",\n  \"rows\": 2,\n  \"fields\": [\n    {\n      \"column\": \"Y\",\n      \"properties\": {\n        \"dtype\": \"number\",\n        \"std\": 0,\n        \"min\": 1,\n        \"max\": 2,\n        \"num_unique_values\": 2,\n        \"samples\": [\n          2,\n          1\n        ],\n        \"semantic_type\": \"\",\n        \"description\": \"\"\n      }\n    },\n    {\n      \"column\": \"P(Y)\",\n      \"properties\": {\n        \"dtype\": \"number\",\n        \"std\": 0.14142135623730948,\n        \"min\": 0.4,\n        \"max\": 0.6,\n        \"num_unique_values\": 2,\n        \"samples\": [\n          0.4,\n          0.6\n        ],\n        \"semantic_type\": \"\",\n        \"description\": \"\"\n      }\n    }\n  ]\n}"
            }
          },
          "metadata": {},
          "execution_count": 68
        }
      ]
    },
    {
      "cell_type": "markdown",
      "source": [
        "##c) Beregn gennemsnit og varians på X"
      ],
      "metadata": {
        "id": "R4yd2LaIdJg6"
      }
    },
    {
      "cell_type": "code",
      "source": [
        "gennemsnit_x = sum(df['X'] * df['P(X,Y)'])\n",
        "var_x = sum((df['X'] - gennemsnit_x)**2 * df['P(X,Y)'])"
      ],
      "metadata": {
        "id": "iEvaszaoGiF-"
      },
      "execution_count": null,
      "outputs": []
    },
    {
      "cell_type": "code",
      "source": [
        "gennemsnit_x, var_x"
      ],
      "metadata": {
        "colab": {
          "base_uri": "https://localhost:8080/"
        },
        "id": "EtyNcowbeDkG",
        "outputId": "604ba4ee-9de2-4ef6-dc4e-311b9f3983cb"
      },
      "execution_count": null,
      "outputs": [
        {
          "output_type": "execute_result",
          "data": {
            "text/plain": [
              "(1.4, 0.24)"
            ]
          },
          "metadata": {},
          "execution_count": 70
        }
      ]
    },
    {
      "cell_type": "markdown",
      "source": [
        "##d) Beregn gennemsnit og varians på Y"
      ],
      "metadata": {
        "id": "vfgDqJMUdTme"
      }
    },
    {
      "cell_type": "code",
      "source": [
        "gennemsnit_y = sum(df['Y'] * df['P(X,Y)'])\n",
        "var_y = sum((df['Y'] - gennemsnit_y)**2 * df['P(X,Y)'])"
      ],
      "metadata": {
        "id": "5L5bJ96yGiCL"
      },
      "execution_count": null,
      "outputs": []
    },
    {
      "cell_type": "code",
      "source": [
        "gennemsnit_y, var_y"
      ],
      "metadata": {
        "colab": {
          "base_uri": "https://localhost:8080/"
        },
        "id": "xca3x7neGiAW",
        "outputId": "bdc89a2c-2dd1-4a4c-9045-a7efd7e2fd68"
      },
      "execution_count": null,
      "outputs": [
        {
          "output_type": "execute_result",
          "data": {
            "text/plain": [
              "(1.4, 0.24)"
            ]
          },
          "metadata": {},
          "execution_count": 72
        }
      ]
    },
    {
      "cell_type": "markdown",
      "source": [
        "#7.44\n",
        "Referér til opgave 7.43. Beregn kovarians og korrelationskoefficient. (se side 182-183)"
      ],
      "metadata": {
        "id": "Sj-AXEmeejyX"
      }
    },
    {
      "cell_type": "code",
      "source": [
        "# Beregning af kovariansen COV(X, Y)\n",
        "cov_xy = sum((df['X'] - gennemsnit_x) * (df['Y'] - gennemsnit_y) * df['P(X,Y)'])\n",
        "\n",
        "# Beregning af standardafvigelsen for X og Y\n",
        "sd_x = var_x ** 0.5\n",
        "sd_y = var_y ** 0.5\n",
        "\n",
        "# Beregning af korrelationskoefficienten\n",
        "correlation_coefficient = cov_xy / (sd_x * sd_y)\n",
        "\n",
        "cov_xy, correlation_coefficient"
      ],
      "metadata": {
        "colab": {
          "base_uri": "https://localhost:8080/"
        },
        "id": "fvXPkzHOGh-N",
        "outputId": "4009d7a2-5796-43a2-f50e-a529fe434576"
      },
      "execution_count": null,
      "outputs": [
        {
          "output_type": "execute_result",
          "data": {
            "text/plain": [
              "(0.13999999999999999, 0.5833333333333333)"
            ]
          },
          "metadata": {},
          "execution_count": 73
        }
      ]
    },
    {
      "cell_type": "markdown",
      "source": [
        "#7.45\n",
        "Referér til opgave 7.43. Brug regnereglerne for middelværdi og varians for diskrete, stokastiske variable (Laws of Expected Value and Variance of the Sum of Two Variables) til at beregne gennemsnit og varians for X + Y. (se side 184)"
      ],
      "metadata": {
        "id": "cPiknE6tfGFw"
      }
    },
    {
      "cell_type": "markdown",
      "source": [
        "Vi har allerede udregnet de fleste variable vi skal bruge i de tidligere opgaver; varians, gennemsnit og kovarians"
      ],
      "metadata": {
        "id": "s2lavnubfXXA"
      }
    },
    {
      "cell_type": "code",
      "source": [
        "# Beregning af gennemsnit og varians for X + Y\n",
        "gennemsnit_x_plus_y = gennemsnit_x + gennemsnit_y\n",
        "v_x_plus_y = var_x + var_y + 2 * cov_xy\n",
        "\n",
        "gennemsnit_x_plus_y, v_x_plus_y"
      ],
      "metadata": {
        "colab": {
          "base_uri": "https://localhost:8080/"
        },
        "id": "rn0i36-Ze7UM",
        "outputId": "bd1d2bc0-bd6a-4aae-f256-4ba68a648409"
      },
      "execution_count": null,
      "outputs": [
        {
          "output_type": "execute_result",
          "data": {
            "text/plain": [
              "(2.8, 0.76)"
            ]
          },
          "metadata": {},
          "execution_count": 74
        }
      ]
    },
    {
      "cell_type": "markdown",
      "source": [
        "#7.97\n",
        "Givet en binomialfordeling med n = 10 og p = 0,3, brug formlen (side 197) til at finde de følgende sandsynligheder:"
      ],
      "metadata": {
        "id": "DUsLRIL1fGfi"
      }
    },
    {
      "cell_type": "markdown",
      "source": [
        "![image.png](data:image/png;base64,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)"
      ],
      "metadata": {
        "id": "fY4zsR6QgDhS"
      }
    },
    {
      "cell_type": "code",
      "source": [
        "from math import factorial\n",
        "\n",
        "# Parametre for binomialfordelingen\n",
        "n = 10  # Antal forsøg\n",
        "p = 0.3  # Sandsynlighed for succes"
      ],
      "metadata": {
        "id": "2zFw1PkwfHA6"
      },
      "execution_count": null,
      "outputs": []
    },
    {
      "cell_type": "markdown",
      "source": [
        "Istedet for at opskrive den samme ligning 3 gange, og skifte variable, kan vi opstille en funktion der udregner den for os ved blot at give den de variable vi er interesserede i at udregne med. <br>\n",
        "Der eksistere Python moduler der kan udregne det allerede, men for at forstå matematikken bag samt at få øvet lidt Python, er det en god øvelse at opskrive logikken."
      ],
      "metadata": {
        "id": "y-43NKShga7D"
      }
    },
    {
      "cell_type": "code",
      "source": [
        "# Funktion til beregning af binomial sandsynlighed\n",
        "def binomial_probability(n, x, p):\n",
        "    return factorial(n) / (factorial(x) * factorial(n - x)) * p**x * (1 - p)**(n - x)"
      ],
      "metadata": {
        "id": "gax-rHapgV1R"
      },
      "execution_count": null,
      "outputs": []
    },
    {
      "cell_type": "code",
      "source": [
        "# Beregning af sandsynligheder\n",
        "# Først for a)\n",
        "p_x_3 = binomial_probability(n, 3, p)\n",
        "# Så for b)\n",
        "p_x_5 = binomial_probability(n, 5, p)\n",
        "# Til sidst for c)\n",
        "p_x_8 = binomial_probability(n, 8, p)"
      ],
      "metadata": {
        "id": "hJTc02cfgVq9"
      },
      "execution_count": null,
      "outputs": []
    },
    {
      "cell_type": "code",
      "source": [
        "p_x_3, p_x_5, p_x_8"
      ],
      "metadata": {
        "colab": {
          "base_uri": "https://localhost:8080/"
        },
        "id": "fHXubVdwgVjs",
        "outputId": "84e2fbc7-5a42-48eb-fafb-ea1f6e90b108"
      },
      "execution_count": null,
      "outputs": [
        {
          "output_type": "execute_result",
          "data": {
            "text/plain": [
              "(0.2668279319999998, 0.10291934519999994, 0.0014467004999999993)"
            ]
          },
          "metadata": {},
          "execution_count": 78
        }
      ]
    },
    {
      "cell_type": "markdown",
      "source": [
        "#7.106\n",
        "Det førende mærke inden for opvaskemiddel har en markedsandel på 30 %. Der blev taget en stikprøve på 25 opvaskemiddelskunder."
      ],
      "metadata": {
        "id": "adAnETodgssy"
      }
    },
    {
      "cell_type": "code",
      "source": [
        "from scipy.stats import binom\n",
        "\n",
        "# Parametre for binomialfordelingen\n",
        "n = 25  # Antal forsøg\n",
        "p = 0.3  # Sandsynlighed for succes"
      ],
      "metadata": {
        "id": "Oo84S7Xsgv_5"
      },
      "execution_count": null,
      "outputs": []
    },
    {
      "cell_type": "code",
      "source": [
        "# a. Beregning af P(X <= 10)\n",
        "p_x_leq_10 = binom.cdf(10, n, p)"
      ],
      "metadata": {
        "id": "V8HHssCjhkzv"
      },
      "execution_count": null,
      "outputs": []
    },
    {
      "cell_type": "code",
      "source": [
        "# b. Beregning af P(X >= 11) som 1 - P(X <= 10)\n",
        "p_x_geq_11 = 1 - p_x_leq_10"
      ],
      "metadata": {
        "id": "GtSxsqc6hkxk"
      },
      "execution_count": null,
      "outputs": []
    },
    {
      "cell_type": "code",
      "source": [
        "# c. Beregning af P(X = 10) som P(X <= 10) - P(X <= 9)\n",
        "p_x_eq_10 = binom.cdf(10, n, p) - binom.cdf(9, n, p)"
      ],
      "metadata": {
        "id": "dgsQRRoIhkvf"
      },
      "execution_count": null,
      "outputs": []
    },
    {
      "cell_type": "code",
      "source": [
        "p_x_leq_10, p_x_geq_11, p_x_eq_10"
      ],
      "metadata": {
        "colab": {
          "base_uri": "https://localhost:8080/"
        },
        "id": "vqm_kiPthkqt",
        "outputId": "67b951f5-d01d-484c-a77f-f8ea66aa0a0b"
      },
      "execution_count": null,
      "outputs": [
        {
          "output_type": "execute_result",
          "data": {
            "text/plain": [
              "(0.9021999888782681, 0.09780001112173187, 0.0916360123832135)"
            ]
          },
          "metadata": {},
          "execution_count": 83
        }
      ]
    },
    {
      "cell_type": "markdown",
      "source": [
        "#7.120\n",
        "Givet en stokastisk variabel, der er poissonfordelt med et gennemsnit på 2, brug formlen (side 205) til at finde følgende sandsynligheder."
      ],
      "metadata": {
        "id": "l7GC1JgrgwhO"
      }
    },
    {
      "cell_type": "code",
      "source": [
        "from scipy.stats import poisson\n",
        "\n",
        "# Gennemsnit for Poisson-fordelingen\n",
        "lambda_val = 2.0"
      ],
      "metadata": {
        "id": "GvULsRIZgwyn"
      },
      "execution_count": null,
      "outputs": []
    },
    {
      "cell_type": "code",
      "source": [
        "# a. Beregning af P(X = 0)\n",
        "p_x_eq_0 = poisson.pmf(0, lambda_val)"
      ],
      "metadata": {
        "id": "h7sNOX8zi26b"
      },
      "execution_count": null,
      "outputs": []
    },
    {
      "cell_type": "code",
      "source": [
        "# b. Beregning af P(X = 3)\n",
        "p_x_leq_3 = poisson.cdf(3, lambda_val)\n",
        "p_x_leq_2 = poisson.cdf(2, lambda_val)\n",
        "p_x_eq_3 = p_x_leq_3 - p_x_leq_2"
      ],
      "metadata": {
        "id": "Ala83qIWi24b"
      },
      "execution_count": null,
      "outputs": []
    },
    {
      "cell_type": "code",
      "source": [
        "# c. Beregning af P(X = 5)\n",
        "p_x_leq_5 = poisson.cdf(5, lambda_val)\n",
        "p_x_leq_4 = poisson.cdf(4, lambda_val)\n",
        "p_x_eq_5 = p_x_leq_5 - p_x_leq_4"
      ],
      "metadata": {
        "id": "iST2AWG6i22P"
      },
      "execution_count": null,
      "outputs": []
    },
    {
      "cell_type": "code",
      "source": [
        "p_x_eq_0, p_x_eq_3, p_x_eq_5"
      ],
      "metadata": {
        "colab": {
          "base_uri": "https://localhost:8080/"
        },
        "id": "4UTeDEf1i20B",
        "outputId": "c37cde53-9529-406b-a118-3265e2deba77"
      },
      "execution_count": null,
      "outputs": [
        {
          "output_type": "execute_result",
          "data": {
            "text/plain": [
              "(0.1353352832366127, 0.18044704431548364, 0.03608940886309664)"
            ]
          },
          "metadata": {},
          "execution_count": 88
        }
      ]
    },
    {
      "cell_type": "markdown",
      "source": [
        "#7.122\n",
        "Antallet af ulykker, der sker i et travlt lyskryds, er Poissonfordelt med et gennemsnit på 3,5 om ugen. Find sandsynligheden for de følgende begivenheder."
      ],
      "metadata": {
        "id": "JzOf77USjejq"
      }
    },
    {
      "cell_type": "code",
      "source": [
        "# Gennemsnit for ugen\n",
        "lambda_week = 3.5\n",
        "\n",
        "# Gennemsnit per dag\n",
        "lambda_day = 3.5 / 7\n",
        "\n",
        "# a. Ingen begivenheder i løbet af 1 uge\n",
        "p_x_eq_0_week = poisson.pmf(0, lambda_week)\n",
        "\n",
        "# b. Fem eller flere ulykker i løbet af 1 uge\n",
        "p_x_ge_5_week = 1 - poisson.cdf(4, lambda_week)\n",
        "\n",
        "# c. Én ulykke i dag\n",
        "p_x_eq_1_day = poisson.pmf(1, lambda_day)\n",
        "\n",
        "p_x_eq_0_week, p_x_ge_5_week, p_x_eq_1_day"
      ],
      "metadata": {
        "colab": {
          "base_uri": "https://localhost:8080/"
        },
        "id": "psvQwWWljUZd",
        "outputId": "72c683cf-38e7-4b57-a633-036dc192ecf9"
      },
      "execution_count": null,
      "outputs": [
        {
          "output_type": "execute_result",
          "data": {
            "text/plain": [
              "(0.0301973834223185, 0.27455504669039565, 0.3032653298563167)"
            ]
          },
          "metadata": {},
          "execution_count": 89
        }
      ]
    },
    {
      "cell_type": "code",
      "source": [
        "# a. Ingen begivenheder i løbet af 1 uge\n",
        "p_x_eq_0_week = poisson.pmf(0, lambda_week)"
      ],
      "metadata": {
        "id": "uU6jjRp_jlV_"
      },
      "execution_count": null,
      "outputs": []
    },
    {
      "cell_type": "code",
      "source": [
        "# b. Fem eller flere ulykker i løbet af 1 uge\n",
        "p_x_ge_5_week = 1 - poisson.cdf(4, lambda_week)"
      ],
      "metadata": {
        "id": "clKsuDu6jlPW"
      },
      "execution_count": null,
      "outputs": []
    },
    {
      "cell_type": "code",
      "source": [
        "# c. Én ulykke i dag\n",
        "p_x_eq_1_day = poisson.pmf(1, lambda_day)"
      ],
      "metadata": {
        "id": "0DHcdNE-jlNR"
      },
      "execution_count": null,
      "outputs": []
    },
    {
      "cell_type": "code",
      "source": [
        "p_x_eq_0_week, p_x_ge_5_week, p_x_eq_1_day"
      ],
      "metadata": {
        "colab": {
          "base_uri": "https://localhost:8080/"
        },
        "id": "MJ517cDPjlK_",
        "outputId": "34f78b60-0d88-4090-fa81-984b13ddb52b"
      },
      "execution_count": null,
      "outputs": [
        {
          "output_type": "execute_result",
          "data": {
            "text/plain": [
              "(0.0301973834223185, 0.27455504669039565, 0.3032653298563167)"
            ]
          },
          "metadata": {},
          "execution_count": 93
        }
      ]
    }
  ]
}