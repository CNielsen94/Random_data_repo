{
  "nbformat": 4,
  "nbformat_minor": 0,
  "metadata": {
    "colab": {
      "provenance": [],
      "collapsed_sections": [
        "kJ_HLRJpOvY5",
        "_EovE6JeSaV8",
        "IPiMWwbNTGl8",
        "T-k7hs-uTHAs",
        "U_DDskPJO6kJ",
        "V1R71mAkh3fu",
        "2bAndhngPSA8",
        "msP2taReiV3E",
        "9zAXDPuvsuhs",
        "cYmwCPnUs5O8",
        "2Vk8FIvGwLNE",
        "OpWYW_hkP2Tl",
        "IXzKdyo3iXXb",
        "mP4ICfDzP6s-",
        "HmfkqGPDiYg8",
        "DxaEOkHbQFgf",
        "gYbqY1vaiZ61",
        "7YwjQz1BQM-1",
        "DVYZzsO7ibjN",
        "5szMuPEsQhEk",
        "6_53kMpKigYC",
        "6zsJ6VNYQtIR",
        "sH9zRAuDihda",
        "_dxIZLafRCgz",
        "U_P1UXb4iiEA",
        "10SYbCqbRfRx"
      ],
      "authorship_tag": "ABX9TyNrnHEsm3LOc7SxhirtigZb",
      "include_colab_link": true
    },
    "kernelspec": {
      "name": "python3",
      "display_name": "Python 3"
    },
    "language_info": {
      "name": "python"
    }
  },
  "cells": [
    {
      "cell_type": "markdown",
      "metadata": {
        "id": "view-in-github",
        "colab_type": "text"
      },
      "source": [
        "<a href=\"https://colab.research.google.com/github/CNielsen94/Random_data_repo/blob/main/HAMat24_workshop3.ipynb\" target=\"_parent\"><img src=\"https://colab.research.google.com/assets/colab-badge.svg\" alt=\"Open In Colab\"/></a>"
      ]
    },
    {
      "cell_type": "markdown",
      "source": [
        "#Workshop 3\n",
        "\n",
        "Sådan fungerer workshops:<br> I løser opgaverne i jeres studiegruppen. For hver opgave starter I med at diskutere svaret på opgaven i gruppen. Gruppediskussionen øger jeres forståelse af begreberne samt gør at i bedre kan huske dem. Det er vigtigt at I snakker om eksempler, så I får forståelse for den praktiske anvendelse af det teoretiske begreb. Når I har diskuteret i gruppen, skriver i hver især svaret på opgaven ned med jeres egne ord, dette er god træning til eksamen, som er skriftlig og individuel. Workshopinstruktørerne er til stede, så ræk hånden op hvis I har problemer med en opgave. De opgaver i ikke når at løse på workshoppen er hjemmeopgaver til næste gang. Hver workshop starter med at løsningen på opgaverne fra sidste gang gennemgås af jeres instruktører."
      ],
      "metadata": {
        "id": "2k6Cy3YfOffZ"
      }
    },
    {
      "cell_type": "markdown",
      "source": [
        "## Kapitel 4"
      ],
      "metadata": {
        "id": "uImbm_39OrHT"
      }
    },
    {
      "cell_type": "markdown",
      "source": [
        "###4.1\n",
        "\n"
      ],
      "metadata": {
        "id": "kJ_HLRJpOvY5"
      }
    },
    {
      "cell_type": "markdown",
      "source": [
        "Sidste år blev antallet af sygedage grundet forkølelse og influenza registreret i en stikprøve på 15 voksne mennesker. Dataene er: <br>\n",
        "\n",
        "5, 7, 0, 3, 15, 6, 5, 9, 3, 8, 10, 5, 2, 0, 12 <br>\n",
        "\n",
        "\n",
        "Beregn gennemsnit, median og modus. Forklar resultaterne."
      ],
      "metadata": {
        "id": "Fw2N3VISiq90"
      }
    },
    {
      "cell_type": "markdown",
      "source": [
        "#### Løsning"
      ],
      "metadata": {
        "id": "_EovE6JeSaV8"
      }
    },
    {
      "cell_type": "markdown",
      "source": [
        "Først kan vi definere vores data som en liste:"
      ],
      "metadata": {
        "id": "0q8Ckr2LSeXb"
      }
    },
    {
      "cell_type": "code",
      "execution_count": null,
      "metadata": {
        "colab": {
          "base_uri": "https://localhost:8080/"
        },
        "id": "b-LruznZOeda",
        "outputId": "ee1fc96a-acb5-4e5a-b6c0-01c147c41399"
      },
      "outputs": [
        {
          "output_type": "execute_result",
          "data": {
            "text/plain": [
              "[5, 7, 0, 3, 15, 6, 5, 9, 3, 8, 10, 5, 2, 0, 12]"
            ]
          },
          "metadata": {},
          "execution_count": 34
        }
      ],
      "source": [
        "data = [5, 7, 0, 3, 15, 6, 5, 9, 3, 8, 10, 5, 2, 0, 12]\n",
        "data"
      ]
    },
    {
      "cell_type": "markdown",
      "source": [
        "##### Lad os starte med gennemsnit."
      ],
      "metadata": {
        "id": "gOnoCGxlSoTL"
      }
    },
    {
      "cell_type": "markdown",
      "source": [
        "<br>\n",
        "\n",
        "$$\n",
        "\\mu = \\frac{\\sum_{i=1} X_i}{N}\n",
        "$$\n",
        "<br>\n",
        "Mere simpelt:\n",
        "<br>\n",
        "$$\n",
        "Gennemsnit = \\frac{Total sum}{Number_{Observations}}\n",
        "$$\n",
        "\n",
        "<br>\n",
        "\n",
        "Vi kan gøre brug af nogle indbyggede metoder i python til at gøre udregningen gennemskuelig. <br> <br>\n",
        "\n",
        "sum(X), som navnet antyder, finder den totale sum af din datakilde. I dette tilfælde kan vi blot indtaste listens navn, men funktionen kan også bruges på kolonner i en dataframe. I så fald er koden sum(dataframe[kolonne_navn]) <br><br>\n",
        "\n",
        "len(x) kan bruges til at finde antallet af datapunkter (N), hvilket svarer til længden af eksempelvis en liste eller antallet af rækker i en kolonne. Bruges på samme måde som sum(x)."
      ],
      "metadata": {
        "id": "jCv-L53di2S_"
      }
    },
    {
      "cell_type": "code",
      "source": [
        "sum(data)"
      ],
      "metadata": {
        "colab": {
          "base_uri": "https://localhost:8080/"
        },
        "id": "lKLk-O-FUv4J",
        "outputId": "3fc6ef78-3cff-438a-835a-6d28f2c6e1d3"
      },
      "execution_count": null,
      "outputs": [
        {
          "output_type": "execute_result",
          "data": {
            "text/plain": [
              "90"
            ]
          },
          "metadata": {},
          "execution_count": 35
        }
      ]
    },
    {
      "cell_type": "code",
      "source": [
        "len(data)"
      ],
      "metadata": {
        "colab": {
          "base_uri": "https://localhost:8080/"
        },
        "id": "2V3ThMcMUvZs",
        "outputId": "cf487532-5566-44ae-ea37-79b46940aa67"
      },
      "execution_count": null,
      "outputs": [
        {
          "output_type": "execute_result",
          "data": {
            "text/plain": [
              "15"
            ]
          },
          "metadata": {},
          "execution_count": 36
        }
      ]
    },
    {
      "cell_type": "code",
      "source": [
        "# Gennemsnit = Den totale sum af data, divideret med antallet af data punkter\n",
        "gennemsnit = sum(data) / len(data)\n",
        "gennemsnit"
      ],
      "metadata": {
        "colab": {
          "base_uri": "https://localhost:8080/"
        },
        "id": "_6ohujVRSk08",
        "outputId": "1fe6ef11-a9f1-454c-ac48-204e88aabf48"
      },
      "execution_count": null,
      "outputs": [
        {
          "output_type": "execute_result",
          "data": {
            "text/plain": [
              "6.0"
            ]
          },
          "metadata": {},
          "execution_count": 37
        }
      ]
    },
    {
      "cell_type": "markdown",
      "source": [
        "#####Derefter finder vi medianen.\n"
      ],
      "metadata": {
        "id": "IPiMWwbNTGl8"
      }
    },
    {
      "cell_type": "markdown",
      "source": [
        "Eftersom vores data er i et liste format skal vi først sortere dataen efter størrelse, så det bliver lidt mere gennemskueligt:"
      ],
      "metadata": {
        "id": "p6u3RpR5D8AY"
      }
    },
    {
      "cell_type": "code",
      "source": [
        "data.sort() # sort() har en række muligheder for sortering, som kan findes via en google search\n",
        "data"
      ],
      "metadata": {
        "colab": {
          "base_uri": "https://localhost:8080/"
        },
        "id": "biqWo6uTTJx5",
        "outputId": "22201fc9-aa8b-4704-9f1f-c0ad81922fdd"
      },
      "execution_count": null,
      "outputs": [
        {
          "output_type": "execute_result",
          "data": {
            "text/plain": [
              "[0, 0, 2, 3, 3, 5, 5, 5, 6, 7, 8, 9, 10, 12, 15]"
            ]
          },
          "metadata": {},
          "execution_count": 38
        }
      ]
    },
    {
      "cell_type": "markdown",
      "source": [
        "Når der er et lige antal observationer, skal vi lægge de 2 midterste værdier sammen, og dividere med 2 (gennemsnit) for at finde en passende median. <br>\n",
        "Vores data har et ulige antal da; len(data) = 15. Dette betyder at vi nemt kan finde medianen visuelt, ved blot at udpege den 8. værdi i den sorterede liste (I dette tilfælde 5)"
      ],
      "metadata": {
        "id": "usLa6IP2ZppV"
      }
    },
    {
      "cell_type": "code",
      "source": [
        "data[7] #Husk at Python index starter ved 0, så for at få den 8. værdi, skal vi bruge index 7"
      ],
      "metadata": {
        "colab": {
          "base_uri": "https://localhost:8080/"
        },
        "id": "HzgCxHm5a_uC",
        "outputId": "f6ba1151-b77f-4557-b1c5-d37b307b3496"
      },
      "execution_count": null,
      "outputs": [
        {
          "output_type": "execute_result",
          "data": {
            "text/plain": [
              "5"
            ]
          },
          "metadata": {},
          "execution_count": 39
        }
      ]
    },
    {
      "cell_type": "markdown",
      "source": [
        "I Python kan vi dog finde medianen på en smartere måde, ved at gøre brug af %-operatøren. <br>\n",
        "For at finde ud af om et tal er lige, eller ulige kan vi blot se om 'resten' af en division (i hele tal) er lig 1. <br>"
      ],
      "metadata": {
        "id": "LXeBTlNXdCaF"
      }
    },
    {
      "cell_type": "code",
      "source": [
        "op_example_equal = 9 % 3\n",
        "op_example_unequal = 10 % 3\n",
        "\n",
        "print(f'Uden rest 9 / 3 : {op_example_equal}')\n",
        "print(f'Med 1 i rest 10 / 3 : {op_example_unequal}')\n"
      ],
      "metadata": {
        "colab": {
          "base_uri": "https://localhost:8080/"
        },
        "id": "DKF1PhUQdq0Q",
        "outputId": "835f8ec5-5e92-4dda-9478-ea64d672d5b0"
      },
      "execution_count": null,
      "outputs": [
        {
          "output_type": "stream",
          "name": "stdout",
          "text": [
            "Uden rest 9 / 3 : 0\n",
            "Med 1 i rest 10 / 3 : 1\n"
          ]
        }
      ]
    },
    {
      "cell_type": "markdown",
      "source": [
        "Hvis implementere denne logik med if-else statements kan vi lave følgende:"
      ],
      "metadata": {
        "id": "QRzpVIr1en6H"
      }
    },
    {
      "cell_type": "code",
      "source": [
        "# Først beregnes længden af datasættet og gemmes i variablen 'n'.\n",
        "n = len(data)\n",
        "# Dernæst tjekkes der, om antallet af elementer i datasættet 'n' er ulige.\n",
        "if n % 2 == 1:\n",
        "    # Hvis 'n' er ulige, er medianen det midterste element i datasættet.\n",
        "    # Da lister er 0-indekserede, bruges 'n//2' til direkte at finde indekset for det midterste element.\n",
        "    median = data[n//2]\n",
        "else:\n",
        "    # Hvis 'n' er lige, er der ikke noget enkelt midterste element,\n",
        "    # så medianen er gennemsnittet af de to midterste elementer.\n",
        "    # De to midterste elementer findes ved 'n//2 - 1' (det første midterste element) og 'n//2' (det andet midterste element).\n",
        "    # Disse to værdier summeres og divideres med 2 for at finde deres gennemsnit, hvilket er medianen.\n",
        "    median = (data[n//2 - 1] + data[n//2]) / 2"
      ],
      "metadata": {
        "id": "NFF4tJWnbPTJ"
      },
      "execution_count": null,
      "outputs": []
    },
    {
      "cell_type": "code",
      "source": [
        "median"
      ],
      "metadata": {
        "colab": {
          "base_uri": "https://localhost:8080/"
        },
        "id": "crvjoQmUbso2",
        "outputId": "7c4f1a84-82de-47f7-f305-a22791a99984"
      },
      "execution_count": null,
      "outputs": [
        {
          "output_type": "execute_result",
          "data": {
            "text/plain": [
              "5"
            ]
          },
          "metadata": {},
          "execution_count": 42
        }
      ]
    },
    {
      "cell_type": "markdown",
      "source": [
        "#####Til sidst finder vi modus\n",
        "\n"
      ],
      "metadata": {
        "id": "T-k7hs-uTHAs"
      }
    },
    {
      "cell_type": "markdown",
      "source": [
        "Dette kan gøres enten på et par forskellige måder, og det er mere personlig præference end noget andet (som ofte er tilfældet i Python) <br>\n",
        "\n",
        "En lidt besværlig måde for begyndere:"
      ],
      "metadata": {
        "id": "ACcorhYDfOoC"
      }
    },
    {
      "cell_type": "code",
      "source": [
        "# Finder modus\n",
        "frekvens = {}\n",
        "for nummer in data:\n",
        "    frekvens[nummer] = frekvens.get(nummer, 0) + 1\n",
        "modus = max(frekvens, key=frekvens.get)\n",
        "modus"
      ],
      "metadata": {
        "colab": {
          "base_uri": "https://localhost:8080/"
        },
        "id": "n6ojeY7AZ3C4",
        "outputId": "d3ca16a7-61a2-48c0-da6a-e4d03229a9ef"
      },
      "execution_count": null,
      "outputs": [
        {
          "output_type": "execute_result",
          "data": {
            "text/plain": [
              "5"
            ]
          },
          "metadata": {},
          "execution_count": 43
        }
      ]
    },
    {
      "cell_type": "markdown",
      "source": [
        "Mere ligetil ved at gøre brug af pandas biblioteket:"
      ],
      "metadata": {
        "id": "UBScxUjaflD8"
      }
    },
    {
      "cell_type": "code",
      "source": [
        "# Importer pandas\n",
        "import pandas as pd\n",
        "# Konverter listen af data til en Pandas series\n",
        "data_series = pd.Series(data)\n",
        "# Brug value_counts() metoden til at tælle alle værdier i datasættet\n",
        "value_counts = data_series.value_counts()\n",
        "# There you go, nu kan vi blot vise resultatet\n",
        "print(value_counts)\n",
        "# Så der er tre observationer af værdien 5, hvilket er den mest hyppige\n",
        "# Hvis du vil tilgå/printe værdien direkte, kan du igen gøre brug af index\n",
        "print(f'\\n Modus: {value_counts.index[0]}')"
      ],
      "metadata": {
        "colab": {
          "base_uri": "https://localhost:8080/"
        },
        "id": "9zFHVnyOffPy",
        "outputId": "0d8c3466-e168-4cae-f46e-f073f58e34e4"
      },
      "execution_count": null,
      "outputs": [
        {
          "output_type": "stream",
          "name": "stdout",
          "text": [
            "5     3\n",
            "0     2\n",
            "3     2\n",
            "2     1\n",
            "6     1\n",
            "7     1\n",
            "8     1\n",
            "9     1\n",
            "10    1\n",
            "12    1\n",
            "15    1\n",
            "dtype: int64\n",
            "\n",
            " Modus: 5\n"
          ]
        }
      ]
    },
    {
      "cell_type": "markdown",
      "source": [
        "###4.3\n"
      ],
      "metadata": {
        "id": "U_DDskPJO6kJ"
      }
    },
    {
      "cell_type": "markdown",
      "source": [
        "Professorerne på Wilfrid Laurier Universitet skal indsende deres afsluttende eksamener til sekretæren senest 10 dage inden semestret slutter. Eksamenskoordinatoren tog en stikprøve på 20 professorer og registrerede antallet af dage inden den afsluttende eksamen, hvor professorerne indsendte deres eksamener. Resultaterne er: <br>\n",
        "\n",
        "14, 8, 3, 2, 6, 4, 9, 13, 10, 12, 7, 4, 9, 13, 15, 8, 11, 12, 4, 0 <br>\n",
        "\n",
        "Beregn gennemsnit, median og modus. Forklar resultaterne."
      ],
      "metadata": {
        "id": "Sx3Vg_DUjBK2"
      }
    },
    {
      "cell_type": "markdown",
      "source": [
        "#### Løsning"
      ],
      "metadata": {
        "id": "V1R71mAkh3fu"
      }
    },
    {
      "cell_type": "markdown",
      "source": [
        "Vi gentager skridtene fra tidligere opgave:"
      ],
      "metadata": {
        "id": "dMA9YYaZjfGQ"
      }
    },
    {
      "cell_type": "code",
      "source": [
        "data4_3 = [14, 8, 3, 2, 6, 4, 9, 13, 10, 12, 7, 4, 9, 13, 15, 8, 11, 12, 4, 0]\n",
        "# Sorteringen har stadig indflydelse på indeks/udregning af median, så dette skridt skal udføres\n",
        "data4_3.sort()"
      ],
      "metadata": {
        "id": "f2i-2QbEjooF"
      },
      "execution_count": null,
      "outputs": []
    },
    {
      "cell_type": "code",
      "source": [
        "#Gennemsnit\n",
        "gennemsnit = sum(data4_3)/len(data4_3)\n",
        "\n",
        "#Median\n",
        "n = len(data4_3)\n",
        "if n % 2 == 1:\n",
        "    median = data4_3[n//2]\n",
        "else:\n",
        "    median = (data4_3[n//2 - 1] + data4_3[n//2]) / 2\n",
        "\n",
        "#Modus\n",
        "data_series4_3 = pd.Series(data4_3)\n",
        "value_counts = data_series4_3.value_counts()\n",
        "\n",
        "#Print resultater\n",
        "\n",
        "print(f'Gennemsnit: {gennemsnit}')\n",
        "print(f'Median: {median}')\n",
        "print(f'Modus: {value_counts.index[0]}')"
      ],
      "metadata": {
        "colab": {
          "base_uri": "https://localhost:8080/"
        },
        "id": "GyZ58N1SPRi4",
        "outputId": "9a8f552f-d7e4-49c8-8b43-e41f408aa6cb"
      },
      "execution_count": null,
      "outputs": [
        {
          "output_type": "stream",
          "name": "stdout",
          "text": [
            "Gennemsnit: 8.2\n",
            "Median: 8.5\n",
            "Modus: 4\n"
          ]
        }
      ]
    },
    {
      "cell_type": "markdown",
      "source": [
        "###4.6"
      ],
      "metadata": {
        "id": "2bAndhngPSA8"
      }
    },
    {
      "cell_type": "markdown",
      "source": [
        " Return on investment (ROI) viste sig over en 5-årig periode  <br>\n",
        " År    1,    2,    3,    4,  5 <br>\n",
        " Afkastningsgrad 0.10, 0.22, 0.06, -0.05, 0.2 <br>\n",
        "\n",
        " a) Beregn gennemsnit og median på afkast. Forklar resultatet. <br>b) Beregn geometrisk gennemsnit <br> c) Hvilken af de tre statistikker beregnet i a) og b) beskriver bedst afkast over en 5-årig periode? Uddyb dit svar."
      ],
      "metadata": {
        "id": "MBQq_BLvmLaU"
      }
    },
    {
      "cell_type": "markdown",
      "source": [
        "#### Løsning"
      ],
      "metadata": {
        "id": "msP2taReiV3E"
      }
    },
    {
      "cell_type": "markdown",
      "source": [
        "Det er ofte nemmere at arbejde i dataframes, så lad os konvertere vores data dertil:"
      ],
      "metadata": {
        "id": "AbECGE7YrARg"
      }
    },
    {
      "cell_type": "code",
      "source": [
        "# Definerer data som et dictionary\n",
        "data4_6 = {\n",
        "    'År': [1, 2, 3, 4, 5],\n",
        "    'Afkastningsgrad': [0.10, 0.22, 0.06, -0.05, 0.2]\n",
        "}\n",
        "\n",
        "# Opretter en DataFrame ud fra dictionary\n",
        "df4_6 = pd.DataFrame(data4_6)\n",
        "df4_6"
      ],
      "metadata": {
        "colab": {
          "base_uri": "https://localhost:8080/",
          "height": 206
        },
        "id": "7Ncl4rlqPz-z",
        "outputId": "d664cbb8-63d8-4bc4-9497-67732fac5b68"
      },
      "execution_count": null,
      "outputs": [
        {
          "output_type": "execute_result",
          "data": {
            "text/plain": [
              "   År  Afkastningsgrad\n",
              "0   1             0.10\n",
              "1   2             0.22\n",
              "2   3             0.06\n",
              "3   4            -0.05\n",
              "4   5             0.20"
            ],
            "text/html": [
              "\n",
              "  <div id=\"df-8fccff5e-9dc9-4de9-b3c2-cd866600a25a\" class=\"colab-df-container\">\n",
              "    <div>\n",
              "<style scoped>\n",
              "    .dataframe tbody tr th:only-of-type {\n",
              "        vertical-align: middle;\n",
              "    }\n",
              "\n",
              "    .dataframe tbody tr th {\n",
              "        vertical-align: top;\n",
              "    }\n",
              "\n",
              "    .dataframe thead th {\n",
              "        text-align: right;\n",
              "    }\n",
              "</style>\n",
              "<table border=\"1\" class=\"dataframe\">\n",
              "  <thead>\n",
              "    <tr style=\"text-align: right;\">\n",
              "      <th></th>\n",
              "      <th>År</th>\n",
              "      <th>Afkastningsgrad</th>\n",
              "    </tr>\n",
              "  </thead>\n",
              "  <tbody>\n",
              "    <tr>\n",
              "      <th>0</th>\n",
              "      <td>1</td>\n",
              "      <td>0.10</td>\n",
              "    </tr>\n",
              "    <tr>\n",
              "      <th>1</th>\n",
              "      <td>2</td>\n",
              "      <td>0.22</td>\n",
              "    </tr>\n",
              "    <tr>\n",
              "      <th>2</th>\n",
              "      <td>3</td>\n",
              "      <td>0.06</td>\n",
              "    </tr>\n",
              "    <tr>\n",
              "      <th>3</th>\n",
              "      <td>4</td>\n",
              "      <td>-0.05</td>\n",
              "    </tr>\n",
              "    <tr>\n",
              "      <th>4</th>\n",
              "      <td>5</td>\n",
              "      <td>0.20</td>\n",
              "    </tr>\n",
              "  </tbody>\n",
              "</table>\n",
              "</div>\n",
              "    <div class=\"colab-df-buttons\">\n",
              "\n",
              "  <div class=\"colab-df-container\">\n",
              "    <button class=\"colab-df-convert\" onclick=\"convertToInteractive('df-8fccff5e-9dc9-4de9-b3c2-cd866600a25a')\"\n",
              "            title=\"Convert this dataframe to an interactive table.\"\n",
              "            style=\"display:none;\">\n",
              "\n",
              "  <svg xmlns=\"http://www.w3.org/2000/svg\" height=\"24px\" viewBox=\"0 -960 960 960\">\n",
              "    <path d=\"M120-120v-720h720v720H120Zm60-500h600v-160H180v160Zm220 220h160v-160H400v160Zm0 220h160v-160H400v160ZM180-400h160v-160H180v160Zm440 0h160v-160H620v160ZM180-180h160v-160H180v160Zm440 0h160v-160H620v160Z\"/>\n",
              "  </svg>\n",
              "    </button>\n",
              "\n",
              "  <style>\n",
              "    .colab-df-container {\n",
              "      display:flex;\n",
              "      gap: 12px;\n",
              "    }\n",
              "\n",
              "    .colab-df-convert {\n",
              "      background-color: #E8F0FE;\n",
              "      border: none;\n",
              "      border-radius: 50%;\n",
              "      cursor: pointer;\n",
              "      display: none;\n",
              "      fill: #1967D2;\n",
              "      height: 32px;\n",
              "      padding: 0 0 0 0;\n",
              "      width: 32px;\n",
              "    }\n",
              "\n",
              "    .colab-df-convert:hover {\n",
              "      background-color: #E2EBFA;\n",
              "      box-shadow: 0px 1px 2px rgba(60, 64, 67, 0.3), 0px 1px 3px 1px rgba(60, 64, 67, 0.15);\n",
              "      fill: #174EA6;\n",
              "    }\n",
              "\n",
              "    .colab-df-buttons div {\n",
              "      margin-bottom: 4px;\n",
              "    }\n",
              "\n",
              "    [theme=dark] .colab-df-convert {\n",
              "      background-color: #3B4455;\n",
              "      fill: #D2E3FC;\n",
              "    }\n",
              "\n",
              "    [theme=dark] .colab-df-convert:hover {\n",
              "      background-color: #434B5C;\n",
              "      box-shadow: 0px 1px 3px 1px rgba(0, 0, 0, 0.15);\n",
              "      filter: drop-shadow(0px 1px 2px rgba(0, 0, 0, 0.3));\n",
              "      fill: #FFFFFF;\n",
              "    }\n",
              "  </style>\n",
              "\n",
              "    <script>\n",
              "      const buttonEl =\n",
              "        document.querySelector('#df-8fccff5e-9dc9-4de9-b3c2-cd866600a25a button.colab-df-convert');\n",
              "      buttonEl.style.display =\n",
              "        google.colab.kernel.accessAllowed ? 'block' : 'none';\n",
              "\n",
              "      async function convertToInteractive(key) {\n",
              "        const element = document.querySelector('#df-8fccff5e-9dc9-4de9-b3c2-cd866600a25a');\n",
              "        const dataTable =\n",
              "          await google.colab.kernel.invokeFunction('convertToInteractive',\n",
              "                                                    [key], {});\n",
              "        if (!dataTable) return;\n",
              "\n",
              "        const docLinkHtml = 'Like what you see? Visit the ' +\n",
              "          '<a target=\"_blank\" href=https://colab.research.google.com/notebooks/data_table.ipynb>data table notebook</a>'\n",
              "          + ' to learn more about interactive tables.';\n",
              "        element.innerHTML = '';\n",
              "        dataTable['output_type'] = 'display_data';\n",
              "        await google.colab.output.renderOutput(dataTable, element);\n",
              "        const docLink = document.createElement('div');\n",
              "        docLink.innerHTML = docLinkHtml;\n",
              "        element.appendChild(docLink);\n",
              "      }\n",
              "    </script>\n",
              "  </div>\n",
              "\n",
              "\n",
              "<div id=\"df-0615ca68-3fa4-4924-a636-b80c737f0e87\">\n",
              "  <button class=\"colab-df-quickchart\" onclick=\"quickchart('df-0615ca68-3fa4-4924-a636-b80c737f0e87')\"\n",
              "            title=\"Suggest charts\"\n",
              "            style=\"display:none;\">\n",
              "\n",
              "<svg xmlns=\"http://www.w3.org/2000/svg\" height=\"24px\"viewBox=\"0 0 24 24\"\n",
              "     width=\"24px\">\n",
              "    <g>\n",
              "        <path d=\"M19 3H5c-1.1 0-2 .9-2 2v14c0 1.1.9 2 2 2h14c1.1 0 2-.9 2-2V5c0-1.1-.9-2-2-2zM9 17H7v-7h2v7zm4 0h-2V7h2v10zm4 0h-2v-4h2v4z\"/>\n",
              "    </g>\n",
              "</svg>\n",
              "  </button>\n",
              "\n",
              "<style>\n",
              "  .colab-df-quickchart {\n",
              "      --bg-color: #E8F0FE;\n",
              "      --fill-color: #1967D2;\n",
              "      --hover-bg-color: #E2EBFA;\n",
              "      --hover-fill-color: #174EA6;\n",
              "      --disabled-fill-color: #AAA;\n",
              "      --disabled-bg-color: #DDD;\n",
              "  }\n",
              "\n",
              "  [theme=dark] .colab-df-quickchart {\n",
              "      --bg-color: #3B4455;\n",
              "      --fill-color: #D2E3FC;\n",
              "      --hover-bg-color: #434B5C;\n",
              "      --hover-fill-color: #FFFFFF;\n",
              "      --disabled-bg-color: #3B4455;\n",
              "      --disabled-fill-color: #666;\n",
              "  }\n",
              "\n",
              "  .colab-df-quickchart {\n",
              "    background-color: var(--bg-color);\n",
              "    border: none;\n",
              "    border-radius: 50%;\n",
              "    cursor: pointer;\n",
              "    display: none;\n",
              "    fill: var(--fill-color);\n",
              "    height: 32px;\n",
              "    padding: 0;\n",
              "    width: 32px;\n",
              "  }\n",
              "\n",
              "  .colab-df-quickchart:hover {\n",
              "    background-color: var(--hover-bg-color);\n",
              "    box-shadow: 0 1px 2px rgba(60, 64, 67, 0.3), 0 1px 3px 1px rgba(60, 64, 67, 0.15);\n",
              "    fill: var(--button-hover-fill-color);\n",
              "  }\n",
              "\n",
              "  .colab-df-quickchart-complete:disabled,\n",
              "  .colab-df-quickchart-complete:disabled:hover {\n",
              "    background-color: var(--disabled-bg-color);\n",
              "    fill: var(--disabled-fill-color);\n",
              "    box-shadow: none;\n",
              "  }\n",
              "\n",
              "  .colab-df-spinner {\n",
              "    border: 2px solid var(--fill-color);\n",
              "    border-color: transparent;\n",
              "    border-bottom-color: var(--fill-color);\n",
              "    animation:\n",
              "      spin 1s steps(1) infinite;\n",
              "  }\n",
              "\n",
              "  @keyframes spin {\n",
              "    0% {\n",
              "      border-color: transparent;\n",
              "      border-bottom-color: var(--fill-color);\n",
              "      border-left-color: var(--fill-color);\n",
              "    }\n",
              "    20% {\n",
              "      border-color: transparent;\n",
              "      border-left-color: var(--fill-color);\n",
              "      border-top-color: var(--fill-color);\n",
              "    }\n",
              "    30% {\n",
              "      border-color: transparent;\n",
              "      border-left-color: var(--fill-color);\n",
              "      border-top-color: var(--fill-color);\n",
              "      border-right-color: var(--fill-color);\n",
              "    }\n",
              "    40% {\n",
              "      border-color: transparent;\n",
              "      border-right-color: var(--fill-color);\n",
              "      border-top-color: var(--fill-color);\n",
              "    }\n",
              "    60% {\n",
              "      border-color: transparent;\n",
              "      border-right-color: var(--fill-color);\n",
              "    }\n",
              "    80% {\n",
              "      border-color: transparent;\n",
              "      border-right-color: var(--fill-color);\n",
              "      border-bottom-color: var(--fill-color);\n",
              "    }\n",
              "    90% {\n",
              "      border-color: transparent;\n",
              "      border-bottom-color: var(--fill-color);\n",
              "    }\n",
              "  }\n",
              "</style>\n",
              "\n",
              "  <script>\n",
              "    async function quickchart(key) {\n",
              "      const quickchartButtonEl =\n",
              "        document.querySelector('#' + key + ' button');\n",
              "      quickchartButtonEl.disabled = true;  // To prevent multiple clicks.\n",
              "      quickchartButtonEl.classList.add('colab-df-spinner');\n",
              "      try {\n",
              "        const charts = await google.colab.kernel.invokeFunction(\n",
              "            'suggestCharts', [key], {});\n",
              "      } catch (error) {\n",
              "        console.error('Error during call to suggestCharts:', error);\n",
              "      }\n",
              "      quickchartButtonEl.classList.remove('colab-df-spinner');\n",
              "      quickchartButtonEl.classList.add('colab-df-quickchart-complete');\n",
              "    }\n",
              "    (() => {\n",
              "      let quickchartButtonEl =\n",
              "        document.querySelector('#df-0615ca68-3fa4-4924-a636-b80c737f0e87 button');\n",
              "      quickchartButtonEl.style.display =\n",
              "        google.colab.kernel.accessAllowed ? 'block' : 'none';\n",
              "    })();\n",
              "  </script>\n",
              "</div>\n",
              "    </div>\n",
              "  </div>\n"
            ]
          },
          "metadata": {},
          "execution_count": 47
        }
      ]
    },
    {
      "cell_type": "markdown",
      "source": [
        "##### a) Beregn gennemsnit og median på afkast. Forklar resultatet.\n",
        "\n"
      ],
      "metadata": {
        "id": "9zAXDPuvsuhs"
      }
    },
    {
      "cell_type": "markdown",
      "source": [
        "For at finde gennemsnit kan vi istedet for at lave en masse mellemregninger, blot gøre brug af .mean() metoden."
      ],
      "metadata": {
        "id": "kUDKcttirkae"
      }
    },
    {
      "cell_type": "code",
      "source": [
        "df4_6['Afkastningsgrad'].mean()"
      ],
      "metadata": {
        "colab": {
          "base_uri": "https://localhost:8080/"
        },
        "id": "DeHC99nEpGku",
        "outputId": "843cf4d8-30b8-4222-e709-6e547a221b23"
      },
      "execution_count": null,
      "outputs": [
        {
          "output_type": "execute_result",
          "data": {
            "text/plain": [
              "0.10600000000000001"
            ]
          },
          "metadata": {},
          "execution_count": 48
        }
      ]
    },
    {
      "cell_type": "markdown",
      "source": [
        "For at finde medianen af afkastningsgraden, kan vi blot konvertere den specifikke kolonne til en liste, og bruge samme metode som før:"
      ],
      "metadata": {
        "id": "xDW1SHhcr2Lu"
      }
    },
    {
      "cell_type": "code",
      "source": [
        "# Konvertere Afkastningsgrad til en liste\n",
        "liste4_6 = list(df4_6['Afkastningsgrad'])\n",
        "# Sortere listen baseret på værdi\n",
        "liste4_6.sort()"
      ],
      "metadata": {
        "id": "9i5e5qmrsH0b"
      },
      "execution_count": null,
      "outputs": []
    },
    {
      "cell_type": "markdown",
      "source": [
        "Og nu kan vi gentage processen fra tidligere opgave:"
      ],
      "metadata": {
        "id": "F7Wefq5uslhL"
      }
    },
    {
      "cell_type": "code",
      "source": [
        "n = len(liste4_6)\n",
        "if n % 2 == 1:\n",
        "    median = liste4_6[n//2]\n",
        "else:\n",
        "    median = (liste4_6[n//2 - 1] + liste4_6[n//2]) / 2"
      ],
      "metadata": {
        "id": "OZ3CWgdksAlv"
      },
      "execution_count": null,
      "outputs": []
    },
    {
      "cell_type": "code",
      "source": [
        "median"
      ],
      "metadata": {
        "colab": {
          "base_uri": "https://localhost:8080/"
        },
        "id": "yrPyKkE9scp7",
        "outputId": "bedb7d43-3f9c-49c0-a6de-f28bb2b57d36"
      },
      "execution_count": null,
      "outputs": [
        {
          "output_type": "execute_result",
          "data": {
            "text/plain": [
              "0.1"
            ]
          },
          "metadata": {},
          "execution_count": 51
        }
      ]
    },
    {
      "cell_type": "markdown",
      "source": [
        "##### b) Beregn geometrisk gennemsnit"
      ],
      "metadata": {
        "id": "cYmwCPnUs5O8"
      }
    },
    {
      "cell_type": "markdown",
      "source": [
        "Dette script anvender numpy-biblioteket for at forenkle beregningen. <br>\n",
        "\n",
        "\n",
        "```\n",
        "np.prod(1 + afkast)**(1/n) - 1\n",
        "```\n",
        "\n",
        "Dette beregner produktet af 1 + hver afkastningsgrad1 + hver afkastningsgrad,<br> **(1/len(afkast)) tager den n'te rod af dette produkt (hvor n er antallet af afkastningsgrader), som svarer til at beregne det geometriske gennemsnit. Til sidst trækkes 1 fra for at justere for den oprindelige addition af 1."
      ],
      "metadata": {
        "id": "8lLFHR-ct1RU"
      }
    },
    {
      "cell_type": "code",
      "source": [
        "import numpy as np\n",
        "\n",
        "# Definerer afkastningsgrader\n",
        "afkast = np.array(df4_6['Afkastningsgrad'])\n",
        "n = len(afkast)\n",
        "\n",
        "# Beregner det geometriske gennemsnit ved at tage produktet af (1 + afkast) og derefter anvende den n'te rod, hvor n er antallet af elementer\n",
        "geometrisk_gennemsnit = np.prod(1 + afkast)**(1/n) - 1\n",
        "\n",
        "print(f'Geometrisk gennemsnit: {geometrisk_gennemsnit}')\n"
      ],
      "metadata": {
        "colab": {
          "base_uri": "https://localhost:8080/"
        },
        "id": "NHk7KR2Ws-c9",
        "outputId": "aeb11c6e-9a29-443b-d02b-456386a0f63a"
      },
      "execution_count": null,
      "outputs": [
        {
          "output_type": "stream",
          "name": "stdout",
          "text": [
            "Geometrisk gennemsnit: 0.10152065833683643\n"
          ]
        }
      ]
    },
    {
      "cell_type": "markdown",
      "source": [
        "##### c) Hvilken af de tre statistikker beregnet i a) og b) beskriver bedst afkast over en 5-årig periode? Uddyb dit svar."
      ],
      "metadata": {
        "id": "2Vk8FIvGwLNE"
      }
    },
    {
      "cell_type": "markdown",
      "source": [
        "**Svar:** Geometrisk gennemsnit"
      ],
      "metadata": {
        "id": "GczGf8VdwTLi"
      }
    },
    {
      "cell_type": "markdown",
      "source": [
        "Simpel forklaring: <br>\n",
        "\n",
        "**Tager højde for sammensætning:** Det geometriske gennemsnit medregner, hvordan afkast akkumuleres over tid, inklusiv effekten af at geninvestere afkast. Dette giver et mere nøjagtigt billede af den faktiske vækst i en investering, fordi det viser, hvordan afkast påvirker hinanden over tid, i modsætning til det almindelige gennemsnit, som behandler hvert års afkast isoleret.\n",
        "\n",
        "**Håndterer volatilitet bedre:** I perioder med høj volatilitet, inklusive negative afkast, giver det geometriske gennemsnit en mere realistisk vurdering af den overordnede præstation. For eksempel, hvis du mister 50% et år og tjener 50% næste år, vil du ikke være tilbage ved startpunktet, hvilket det geometriske gennemsnit korrekt afspejler, mens det aritmetiske gennemsnit kan foreslå, at du i gennemsnit har brudt lige."
      ],
      "metadata": {
        "id": "xehtrwcIv-ma"
      }
    },
    {
      "cell_type": "markdown",
      "source": [
        "Mere avanceret:"
      ],
      "metadata": {
        "id": "63F9djinwHub"
      }
    },
    {
      "cell_type": "markdown",
      "source": [
        "**Sammensætningseffekter:** Det geometriske gennemsnit tager højde for effekten af sammensætning over tid. I finansiel sammenhæng betyder sammensætning, at afkast ikke kun genereres på det oprindelige beløb, men også på de afkast, der geninvesteres over tid. Det aritmetiske gennemsnit ignorerer denne effekt, hvilket kan føre til en overvurdering af de faktiske afkast, hvis der indgår perioder med betydelige svingninger i afkastet.\n",
        "\n",
        "**Negative Afkast:** Det geometriske gennemsnit kan håndtere perioder med negative afkast på en måde, der bedre afspejler den faktiske indvirkning på den samlede porteføljeværdi over tid. Det aritmetiske gennemsnit kan give en misledende indikation af positiv vækst, selv hvis en stor negativ afkastperiode har udhulet en betydelig del af porteføljeværdien.\n",
        "\n",
        "**Langtidsperspektiv:** Det geometriske gennemsnit giver et mere nøjagtigt mål for gennemsnitlige afkast over lange perioder, hvor effekten af sammensætning er mest markant. Det er derfor en bedre indikator for forventet langsigtsperformance og hjælper investorer med at sætte realistiske forventninger til afkast af deres investeringer over tid.\n",
        "\n",
        "**Fair Sammenligning:** Når man sammenligner investeringsperformance over tid eller mellem forskellige investeringsmuligheder, giver det geometriske gennemsnit en mere retfærdig sammenligningsgrund, fordi det tager højde for volatiliteten i afkastene og deres indbyrdes påvirkning."
      ],
      "metadata": {
        "id": "OwHbyrtevvg8"
      }
    },
    {
      "cell_type": "markdown",
      "source": [
        "###4.12"
      ],
      "metadata": {
        "id": "OpWYW_hkP2Tl"
      }
    },
    {
      "cell_type": "markdown",
      "source": [
        "Mængden af tid, som indbyggere i Paris, bruger på pendling, blev registreret i en stikprøve på 235 pendlere. Beregn gennemsnit og median i datasæt Xr04-12 i python (se eksempel 4.10). Forklar resultaterne."
      ],
      "metadata": {
        "id": "1sYzocIpmRku"
      }
    },
    {
      "cell_type": "markdown",
      "source": [
        "#### Løsning"
      ],
      "metadata": {
        "id": "IXzKdyo3iXXb"
      }
    },
    {
      "cell_type": "code",
      "source": [
        "data = pd.read_excel('https://raw.githubusercontent.com/louisehviid/km2023/main/data/Chapter4/Xr04-12.xlsx')"
      ],
      "metadata": {
        "id": "sfqfULdcP6NG"
      },
      "execution_count": null,
      "outputs": []
    },
    {
      "cell_type": "code",
      "source": [
        "data"
      ],
      "metadata": {
        "colab": {
          "base_uri": "https://localhost:8080/",
          "height": 424
        },
        "id": "7fhD-e1ixB8S",
        "outputId": "5d339b4a-bce8-4a6a-ea91-f03de30ee21c"
      },
      "execution_count": null,
      "outputs": [
        {
          "output_type": "execute_result",
          "data": {
            "text/plain": [
              "     Commute time\n",
              "0              56\n",
              "1              42\n",
              "2              44\n",
              "3              36\n",
              "4              35\n",
              "..            ...\n",
              "230            41\n",
              "231            41\n",
              "232            55\n",
              "233            50\n",
              "234            45\n",
              "\n",
              "[235 rows x 1 columns]"
            ],
            "text/html": [
              "\n",
              "  <div id=\"df-cdceb5a1-98c5-4e54-9fbf-4357665fe1b2\" class=\"colab-df-container\">\n",
              "    <div>\n",
              "<style scoped>\n",
              "    .dataframe tbody tr th:only-of-type {\n",
              "        vertical-align: middle;\n",
              "    }\n",
              "\n",
              "    .dataframe tbody tr th {\n",
              "        vertical-align: top;\n",
              "    }\n",
              "\n",
              "    .dataframe thead th {\n",
              "        text-align: right;\n",
              "    }\n",
              "</style>\n",
              "<table border=\"1\" class=\"dataframe\">\n",
              "  <thead>\n",
              "    <tr style=\"text-align: right;\">\n",
              "      <th></th>\n",
              "      <th>Commute time</th>\n",
              "    </tr>\n",
              "  </thead>\n",
              "  <tbody>\n",
              "    <tr>\n",
              "      <th>0</th>\n",
              "      <td>56</td>\n",
              "    </tr>\n",
              "    <tr>\n",
              "      <th>1</th>\n",
              "      <td>42</td>\n",
              "    </tr>\n",
              "    <tr>\n",
              "      <th>2</th>\n",
              "      <td>44</td>\n",
              "    </tr>\n",
              "    <tr>\n",
              "      <th>3</th>\n",
              "      <td>36</td>\n",
              "    </tr>\n",
              "    <tr>\n",
              "      <th>4</th>\n",
              "      <td>35</td>\n",
              "    </tr>\n",
              "    <tr>\n",
              "      <th>...</th>\n",
              "      <td>...</td>\n",
              "    </tr>\n",
              "    <tr>\n",
              "      <th>230</th>\n",
              "      <td>41</td>\n",
              "    </tr>\n",
              "    <tr>\n",
              "      <th>231</th>\n",
              "      <td>41</td>\n",
              "    </tr>\n",
              "    <tr>\n",
              "      <th>232</th>\n",
              "      <td>55</td>\n",
              "    </tr>\n",
              "    <tr>\n",
              "      <th>233</th>\n",
              "      <td>50</td>\n",
              "    </tr>\n",
              "    <tr>\n",
              "      <th>234</th>\n",
              "      <td>45</td>\n",
              "    </tr>\n",
              "  </tbody>\n",
              "</table>\n",
              "<p>235 rows × 1 columns</p>\n",
              "</div>\n",
              "    <div class=\"colab-df-buttons\">\n",
              "\n",
              "  <div class=\"colab-df-container\">\n",
              "    <button class=\"colab-df-convert\" onclick=\"convertToInteractive('df-cdceb5a1-98c5-4e54-9fbf-4357665fe1b2')\"\n",
              "            title=\"Convert this dataframe to an interactive table.\"\n",
              "            style=\"display:none;\">\n",
              "\n",
              "  <svg xmlns=\"http://www.w3.org/2000/svg\" height=\"24px\" viewBox=\"0 -960 960 960\">\n",
              "    <path d=\"M120-120v-720h720v720H120Zm60-500h600v-160H180v160Zm220 220h160v-160H400v160Zm0 220h160v-160H400v160ZM180-400h160v-160H180v160Zm440 0h160v-160H620v160ZM180-180h160v-160H180v160Zm440 0h160v-160H620v160Z\"/>\n",
              "  </svg>\n",
              "    </button>\n",
              "\n",
              "  <style>\n",
              "    .colab-df-container {\n",
              "      display:flex;\n",
              "      gap: 12px;\n",
              "    }\n",
              "\n",
              "    .colab-df-convert {\n",
              "      background-color: #E8F0FE;\n",
              "      border: none;\n",
              "      border-radius: 50%;\n",
              "      cursor: pointer;\n",
              "      display: none;\n",
              "      fill: #1967D2;\n",
              "      height: 32px;\n",
              "      padding: 0 0 0 0;\n",
              "      width: 32px;\n",
              "    }\n",
              "\n",
              "    .colab-df-convert:hover {\n",
              "      background-color: #E2EBFA;\n",
              "      box-shadow: 0px 1px 2px rgba(60, 64, 67, 0.3), 0px 1px 3px 1px rgba(60, 64, 67, 0.15);\n",
              "      fill: #174EA6;\n",
              "    }\n",
              "\n",
              "    .colab-df-buttons div {\n",
              "      margin-bottom: 4px;\n",
              "    }\n",
              "\n",
              "    [theme=dark] .colab-df-convert {\n",
              "      background-color: #3B4455;\n",
              "      fill: #D2E3FC;\n",
              "    }\n",
              "\n",
              "    [theme=dark] .colab-df-convert:hover {\n",
              "      background-color: #434B5C;\n",
              "      box-shadow: 0px 1px 3px 1px rgba(0, 0, 0, 0.15);\n",
              "      filter: drop-shadow(0px 1px 2px rgba(0, 0, 0, 0.3));\n",
              "      fill: #FFFFFF;\n",
              "    }\n",
              "  </style>\n",
              "\n",
              "    <script>\n",
              "      const buttonEl =\n",
              "        document.querySelector('#df-cdceb5a1-98c5-4e54-9fbf-4357665fe1b2 button.colab-df-convert');\n",
              "      buttonEl.style.display =\n",
              "        google.colab.kernel.accessAllowed ? 'block' : 'none';\n",
              "\n",
              "      async function convertToInteractive(key) {\n",
              "        const element = document.querySelector('#df-cdceb5a1-98c5-4e54-9fbf-4357665fe1b2');\n",
              "        const dataTable =\n",
              "          await google.colab.kernel.invokeFunction('convertToInteractive',\n",
              "                                                    [key], {});\n",
              "        if (!dataTable) return;\n",
              "\n",
              "        const docLinkHtml = 'Like what you see? Visit the ' +\n",
              "          '<a target=\"_blank\" href=https://colab.research.google.com/notebooks/data_table.ipynb>data table notebook</a>'\n",
              "          + ' to learn more about interactive tables.';\n",
              "        element.innerHTML = '';\n",
              "        dataTable['output_type'] = 'display_data';\n",
              "        await google.colab.output.renderOutput(dataTable, element);\n",
              "        const docLink = document.createElement('div');\n",
              "        docLink.innerHTML = docLinkHtml;\n",
              "        element.appendChild(docLink);\n",
              "      }\n",
              "    </script>\n",
              "  </div>\n",
              "\n",
              "\n",
              "<div id=\"df-37d1a20f-b9cd-4e1e-aa0c-8e496c9ae5d0\">\n",
              "  <button class=\"colab-df-quickchart\" onclick=\"quickchart('df-37d1a20f-b9cd-4e1e-aa0c-8e496c9ae5d0')\"\n",
              "            title=\"Suggest charts\"\n",
              "            style=\"display:none;\">\n",
              "\n",
              "<svg xmlns=\"http://www.w3.org/2000/svg\" height=\"24px\"viewBox=\"0 0 24 24\"\n",
              "     width=\"24px\">\n",
              "    <g>\n",
              "        <path d=\"M19 3H5c-1.1 0-2 .9-2 2v14c0 1.1.9 2 2 2h14c1.1 0 2-.9 2-2V5c0-1.1-.9-2-2-2zM9 17H7v-7h2v7zm4 0h-2V7h2v10zm4 0h-2v-4h2v4z\"/>\n",
              "    </g>\n",
              "</svg>\n",
              "  </button>\n",
              "\n",
              "<style>\n",
              "  .colab-df-quickchart {\n",
              "      --bg-color: #E8F0FE;\n",
              "      --fill-color: #1967D2;\n",
              "      --hover-bg-color: #E2EBFA;\n",
              "      --hover-fill-color: #174EA6;\n",
              "      --disabled-fill-color: #AAA;\n",
              "      --disabled-bg-color: #DDD;\n",
              "  }\n",
              "\n",
              "  [theme=dark] .colab-df-quickchart {\n",
              "      --bg-color: #3B4455;\n",
              "      --fill-color: #D2E3FC;\n",
              "      --hover-bg-color: #434B5C;\n",
              "      --hover-fill-color: #FFFFFF;\n",
              "      --disabled-bg-color: #3B4455;\n",
              "      --disabled-fill-color: #666;\n",
              "  }\n",
              "\n",
              "  .colab-df-quickchart {\n",
              "    background-color: var(--bg-color);\n",
              "    border: none;\n",
              "    border-radius: 50%;\n",
              "    cursor: pointer;\n",
              "    display: none;\n",
              "    fill: var(--fill-color);\n",
              "    height: 32px;\n",
              "    padding: 0;\n",
              "    width: 32px;\n",
              "  }\n",
              "\n",
              "  .colab-df-quickchart:hover {\n",
              "    background-color: var(--hover-bg-color);\n",
              "    box-shadow: 0 1px 2px rgba(60, 64, 67, 0.3), 0 1px 3px 1px rgba(60, 64, 67, 0.15);\n",
              "    fill: var(--button-hover-fill-color);\n",
              "  }\n",
              "\n",
              "  .colab-df-quickchart-complete:disabled,\n",
              "  .colab-df-quickchart-complete:disabled:hover {\n",
              "    background-color: var(--disabled-bg-color);\n",
              "    fill: var(--disabled-fill-color);\n",
              "    box-shadow: none;\n",
              "  }\n",
              "\n",
              "  .colab-df-spinner {\n",
              "    border: 2px solid var(--fill-color);\n",
              "    border-color: transparent;\n",
              "    border-bottom-color: var(--fill-color);\n",
              "    animation:\n",
              "      spin 1s steps(1) infinite;\n",
              "  }\n",
              "\n",
              "  @keyframes spin {\n",
              "    0% {\n",
              "      border-color: transparent;\n",
              "      border-bottom-color: var(--fill-color);\n",
              "      border-left-color: var(--fill-color);\n",
              "    }\n",
              "    20% {\n",
              "      border-color: transparent;\n",
              "      border-left-color: var(--fill-color);\n",
              "      border-top-color: var(--fill-color);\n",
              "    }\n",
              "    30% {\n",
              "      border-color: transparent;\n",
              "      border-left-color: var(--fill-color);\n",
              "      border-top-color: var(--fill-color);\n",
              "      border-right-color: var(--fill-color);\n",
              "    }\n",
              "    40% {\n",
              "      border-color: transparent;\n",
              "      border-right-color: var(--fill-color);\n",
              "      border-top-color: var(--fill-color);\n",
              "    }\n",
              "    60% {\n",
              "      border-color: transparent;\n",
              "      border-right-color: var(--fill-color);\n",
              "    }\n",
              "    80% {\n",
              "      border-color: transparent;\n",
              "      border-right-color: var(--fill-color);\n",
              "      border-bottom-color: var(--fill-color);\n",
              "    }\n",
              "    90% {\n",
              "      border-color: transparent;\n",
              "      border-bottom-color: var(--fill-color);\n",
              "    }\n",
              "  }\n",
              "</style>\n",
              "\n",
              "  <script>\n",
              "    async function quickchart(key) {\n",
              "      const quickchartButtonEl =\n",
              "        document.querySelector('#' + key + ' button');\n",
              "      quickchartButtonEl.disabled = true;  // To prevent multiple clicks.\n",
              "      quickchartButtonEl.classList.add('colab-df-spinner');\n",
              "      try {\n",
              "        const charts = await google.colab.kernel.invokeFunction(\n",
              "            'suggestCharts', [key], {});\n",
              "      } catch (error) {\n",
              "        console.error('Error during call to suggestCharts:', error);\n",
              "      }\n",
              "      quickchartButtonEl.classList.remove('colab-df-spinner');\n",
              "      quickchartButtonEl.classList.add('colab-df-quickchart-complete');\n",
              "    }\n",
              "    (() => {\n",
              "      let quickchartButtonEl =\n",
              "        document.querySelector('#df-37d1a20f-b9cd-4e1e-aa0c-8e496c9ae5d0 button');\n",
              "      quickchartButtonEl.style.display =\n",
              "        google.colab.kernel.accessAllowed ? 'block' : 'none';\n",
              "    })();\n",
              "  </script>\n",
              "</div>\n",
              "    </div>\n",
              "  </div>\n"
            ]
          },
          "metadata": {},
          "execution_count": 54
        }
      ]
    },
    {
      "cell_type": "code",
      "source": [
        "mean_value = data['Commute time'].mean()\n",
        "print(mean_value)"
      ],
      "metadata": {
        "colab": {
          "base_uri": "https://localhost:8080/"
        },
        "id": "GXpbQ2TYxbbK",
        "outputId": "f0682be6-f5c2-471f-b35c-6b4648e5ea40"
      },
      "execution_count": null,
      "outputs": [
        {
          "output_type": "stream",
          "name": "stdout",
          "text": [
            "45.60425531914893\n"
          ]
        }
      ]
    },
    {
      "cell_type": "code",
      "source": [
        "median_value = data['Commute time'].median()\n",
        "print(median_value)"
      ],
      "metadata": {
        "colab": {
          "base_uri": "https://localhost:8080/"
        },
        "id": "L8DfeduaxbZQ",
        "outputId": "c8ac9cf0-e636-4d09-c662-4936ae6e6e86"
      },
      "execution_count": null,
      "outputs": [
        {
          "output_type": "stream",
          "name": "stdout",
          "text": [
            "45.0\n"
          ]
        }
      ]
    },
    {
      "cell_type": "markdown",
      "source": [
        "At gennemsnittet ligger så tæt på medianen, fortæller os at værdi-fordelingen af Commute time højst sandsynligt er nogenlunde ligeligt fordelt omkring middelværdien. Hvis vi visualisere det i et histogram, vil vi også se en nogenlunde naturlig fordeling (bellcurve). Dog ser vi også at der en en vis udligning imellem høje/lave værdier. <br>\n",
        "\n",
        "Havde gennemsnittet være betydeligt højere end medianen, kan det enten være en indikator på en skævfordeling mod de højere værdier i reelle antal af observationer, eller fordi at enkelte værdier er så høje at de blot øger gennemsnitsværdien på en misvisende måde (outliers/udstikkere).<br>\n",
        "\n",
        "Det er dog også vigtigt at pointere, at det også kunne være tilfældet at vi blot har ekstreme værdier på begge sider af skalaen som udligner hinanden til at give en gennemsnitsværdi der ligger tæt på medianen.<br>\n",
        "\n",
        "Det korte af det lange er: Undersøg altid den reelle fordeling nærmere, for at kunne uddybe forholdet gennemsnit og median."
      ],
      "metadata": {
        "id": "SLbMrohkyu8e"
      }
    },
    {
      "cell_type": "code",
      "source": [
        "import matplotlib.pyplot as plt\n",
        "\n",
        "# Plotter et histogram\n",
        "plt.hist(data['Commute time'], bins=15, color='blue', edgecolor='black')\n",
        "\n",
        "# Tilføjer en RØD linje for medianen\n",
        "plt.axvline(median_value, color='red', linestyle='dashed', linewidth=1, label=f'Median: {median_value:.2f}')\n",
        "\n",
        "# Tilføjer en GRØN linje for gennemsnittet\n",
        "plt.axvline(mean_value, color='green', linestyle='dashed', linewidth=1, label=f'Gennemsnit: {mean_value:.2f}')\n",
        "\n",
        "# Tilføjer titler og labels\n",
        "plt.title('Fordeling af Pendlingstid')\n",
        "plt.xlabel('Pendlingstid i minutter')\n",
        "plt.ylabel('Antal observationer')\n",
        "\n",
        "# Viser plottet\n",
        "plt.show()"
      ],
      "metadata": {
        "colab": {
          "base_uri": "https://localhost:8080/",
          "height": 472
        },
        "id": "oAUoIyZ_xbW3",
        "outputId": "c6318b51-0b1a-4a50-9d41-65687d323928"
      },
      "execution_count": null,
      "outputs": [
        {
          "output_type": "display_data",
          "data": {
            "text/plain": [
              "<Figure size 640x480 with 1 Axes>"
            ],
            "image/png": "[encoded data removed]"
          },
          "metadata": {}
        }
      ]
    },
    {
      "cell_type": "markdown",
      "source": [
        "###4.26"
      ],
      "metadata": {
        "id": "mP4ICfDzP6s-"
      }
    },
    {
      "cell_type": "markdown",
      "source": [
        "Beregn varians og standardafvigelse i den følgende stikprøve og forklar resultatet: <br>\n",
        "\n",
        "12, 6, 22, 21, 23, 13, 15, 17, 21"
      ],
      "metadata": {
        "id": "Xg0aFZnxmUxb"
      }
    },
    {
      "cell_type": "markdown",
      "source": [
        "#### Løsning"
      ],
      "metadata": {
        "id": "HmfkqGPDiYg8"
      }
    },
    {
      "cell_type": "code",
      "source": [
        "# Definerer stikprøven\n",
        "data = [12, 6, 22, 21, 23, 13, 15, 17, 21]"
      ],
      "metadata": {
        "id": "kWC8VR_K30Ac"
      },
      "execution_count": null,
      "outputs": []
    },
    {
      "cell_type": "code",
      "source": [
        "# Beregner gennemsnittet\n",
        "mean = sum(data) / len(data)"
      ],
      "metadata": {
        "id": "tAh7iBfJ3z5L"
      },
      "execution_count": null,
      "outputs": []
    },
    {
      "cell_type": "code",
      "source": [
        "# Beregner summen af kvadrerede afvigelser fra gennemsnittet\n",
        "# Vi starter med at lave en variabel og sætte den til nul.\n",
        "# Vi bruger denne til at holde styr på den totale sum\n",
        "sum_kvadreret_afvigelse = 0\n",
        "# Here kører vi et for-loop. Vi kører altså de efterfølgende operationer for hver værdi (x) i data-listen\n",
        "for x in data:\n",
        "    # Først finder vi afvigelsen for hvert datapunkt fra gennemsnittet\n",
        "    afvigelse = x - mean\n",
        "    # Kvadrerer afvigelsen\n",
        "    kvadreret_afvigelse = afvigelse ** 2\n",
        "    # Lægger den kvadrerede afvigelse til den variabel vi lavede til at starte med\n",
        "    sum_kvadreret_afvigelse += kvadreret_afvigelse"
      ],
      "metadata": {
        "id": "2MW3k5kPQFPE"
      },
      "execution_count": null,
      "outputs": []
    },
    {
      "cell_type": "code",
      "source": [
        "# Beregner variansen\n",
        "varians = sum_kvadreret_afvigelse / (len(data) - 1)"
      ],
      "metadata": {
        "id": "qw4up7gb33aH"
      },
      "execution_count": null,
      "outputs": []
    },
    {
      "cell_type": "code",
      "source": [
        "# Beregner standardafvigelsen\n",
        "standardafvigelse = varians ** 0.5"
      ],
      "metadata": {
        "id": "u0Cf-omj33Xx"
      },
      "execution_count": null,
      "outputs": []
    },
    {
      "cell_type": "code",
      "source": [
        "# Udskriver resultaterne\n",
        "print(f\"Varians: {varians}\")\n",
        "print(f\"Standardafvigelse: {standardafvigelse}\")"
      ],
      "metadata": {
        "colab": {
          "base_uri": "https://localhost:8080/"
        },
        "id": "pjMcIet238ld",
        "outputId": "9eee0b40-15ab-4063-8169-8ba0ef6b5a74"
      },
      "execution_count": null,
      "outputs": [
        {
          "output_type": "stream",
          "name": "stdout",
          "text": [
            "Varians: 32.25\n",
            "Standardafvigelse: 5.678908345800274\n"
          ]
        }
      ]
    },
    {
      "cell_type": "markdown",
      "source": [
        "###4.54"
      ],
      "metadata": {
        "id": "DxaEOkHbQFgf"
      }
    },
    {
      "cell_type": "markdown",
      "source": [
        "Bestem 1., 2.og 3. kvartil i følgende data og tegn et boksplot. Forklar resultaterne: <br>\n",
        "2, 4, 6, 8, 10, 12, 14, 16, 18, 20"
      ],
      "metadata": {
        "id": "yAfQSRZ3mWYH"
      }
    },
    {
      "cell_type": "markdown",
      "source": [
        "#### Løsning"
      ],
      "metadata": {
        "id": "gYbqY1vaiZ61"
      }
    },
    {
      "cell_type": "code",
      "source": [
        "import numpy as np\n",
        "import matplotlib.pyplot as plt\n",
        "\n",
        "# Definerer data\n",
        "data = [2, 4, 6, 8, 10, 12, 14, 16, 18, 20]\n",
        "\n",
        "# Beregner kvartiler\n",
        "Q1 = np.percentile(data, 25)  # 1. kvartil (25%)\n",
        "Q2 = np.percentile(data, 50)  # 2. kvartil (mediane) (50%)\n",
        "Q3 = np.percentile(data, 75)  # 3. kvartil (75%)\n",
        "\n",
        "# Tegner et boksplot med hvert datapunkt\n",
        "plt.boxplot(data, showfliers=True, patch_artist=True)  # Viser outliers og bruger farvefyld\n",
        "plt.scatter([1]*len(data), data, color='red', zorder=3)  # Plotter hvert datapunkt som en rød prik\n",
        "\n",
        "plt.title('Boksplot af Data med Datapunkter')\n",
        "plt.xticks([1], ['Data'])\n",
        "plt.ylabel('Værdier')\n",
        "\n",
        "# Viser boksplottet med datapunkter\n",
        "plt.show()\n",
        "\n",
        "\n",
        "Q1, Q2, Q3\n"
      ],
      "metadata": {
        "colab": {
          "base_uri": "https://localhost:8080/",
          "height": 470
        },
        "id": "I7YhDj3yQMvF",
        "outputId": "0adf1571-d18d-4241-cfa3-77a851da6066"
      },
      "execution_count": null,
      "outputs": [
        {
          "output_type": "display_data",
          "data": {
            "text/plain": [
              "<Figure size 640x480 with 1 Axes>"
            ],
            "image/png": "[encoded data removed]"
          },
          "metadata": {}
        },
        {
          "output_type": "execute_result",
          "data": {
            "text/plain": [
              "(6.5, 11.0, 15.5)"
            ]
          },
          "metadata": {},
          "execution_count": 64
        }
      ]
    },
    {
      "cell_type": "markdown",
      "source": [
        "1. kvartil (Q1): 6.5, hvilket betyder, at 25% af dataene ligger under denne værdi.\n",
        "2. kvartil (Q2) / Median: 11.0, hvilket indikerer det midterste punkt i datasættet, således at halvdelen af dataene er under denne værdi og den anden halvdel er over.\n",
        "3. kvartil (Q3): 15.5, hvilket betyder, at 75% af dataene er under denne værdi, mens de resterende 25% ligger over.\n",
        "Boksplottet visualiserer fordelingen af disse data og viser tydeligt kvartilernes placering samt den overordnede spredning. I et boksplot:\n",
        "\n",
        "Boksen strækker sig fra Q1 til Q3 og repræsenterer det interkvartile område (IQR), hvor halvdelen af dataene findes.\n",
        "Medianen (Q2) er markeret med en linje inden i boksen.\n",
        "\"Whiskers\" (antennelignende linjer) udgår fra boksen til de laveste og højeste punkter inden for 1.5 gange IQR fra Q1 og Q3, hvilket giver en visuel repræsentation af dataenes spredning.\n",
        "Punkter uden for whiskers kan betragtes som outliers, men i dette tilfælde har vi ingen outliers, da alle punkter ligger inden for det forventede område.\n",
        "Resultaterne og boksplottet illustrerer en jævn og symmetrisk fordeling af dataene fra 2 til 20, uden outliers, og med en ligelig fordeling omkring medianen. Dette indikerer en uniform stigning i værdierne uden store spring eller ujævnheder i datasættet."
      ],
      "metadata": {
        "id": "4c3iLNCp6C-i"
      }
    },
    {
      "cell_type": "markdown",
      "source": [
        "###4.71"
      ],
      "metadata": {
        "id": "7YwjQz1BQM-1"
      }
    },
    {
      "cell_type": "markdown",
      "source": [
        "Mængden af tid, som gæster bruger over en kop kaffe eller en dessert, påvirker mange restauranters profit negativt. For at lære mere om den variabel, blev en stikprøve på 200 grupper af restaurantgæster observeret, og mængden af tid, de brugte i restauranten, blev registreret. Brug datasæt Xr04-71 i Python (se eksempel 4.67): <br>\n",
        "\n",
        "**a) Bestem kvartilerne i datasættet** <br>\n",
        "**b) Hvad kan du udlede om mængden af tid, der bruges i restauranten?** <br>\n",
        "\n",
        "**NB**: Jeg har ved et uheld anvendt datasæt Xr04-67 istedet for Xr04-71, så værdierne virker lidt skøre i konteksten af en restaurant, men måden hvorpå man kan forsøge at udlede information fra kvartilerne er mere i fokus i dette tilfælde."
      ],
      "metadata": {
        "id": "S4RrofwYmrA3"
      }
    },
    {
      "cell_type": "markdown",
      "source": [
        "#### Løsning"
      ],
      "metadata": {
        "id": "DVYZzsO7ibjN"
      }
    },
    {
      "cell_type": "code",
      "source": [
        "data= pd.read_excel('https://raw.githubusercontent.com/louisehviid/km2023/main/data/Chapter4/Xr04-67.xlsx')"
      ],
      "metadata": {
        "id": "n72ewHX0Qgyf"
      },
      "execution_count": null,
      "outputs": []
    },
    {
      "cell_type": "code",
      "source": [
        "data.head(5)"
      ],
      "metadata": {
        "colab": {
          "base_uri": "https://localhost:8080/",
          "height": 206
        },
        "id": "0PfhmN2v6NaE",
        "outputId": "b104e7d7-cc69-4e89-b10a-5a267bfc8b88"
      },
      "execution_count": null,
      "outputs": [
        {
          "output_type": "execute_result",
          "data": {
            "text/plain": [
              "   Spend\n",
              "0     50\n",
              "1     25\n",
              "2     50\n",
              "3    110\n",
              "4    370"
            ],
            "text/html": [
              "\n",
              "  <div id=\"df-4ab8a426-80fd-4376-93aa-ac0c1769cd2e\" class=\"colab-df-container\">\n",
              "    <div>\n",
              "<style scoped>\n",
              "    .dataframe tbody tr th:only-of-type {\n",
              "        vertical-align: middle;\n",
              "    }\n",
              "\n",
              "    .dataframe tbody tr th {\n",
              "        vertical-align: top;\n",
              "    }\n",
              "\n",
              "    .dataframe thead th {\n",
              "        text-align: right;\n",
              "    }\n",
              "</style>\n",
              "<table border=\"1\" class=\"dataframe\">\n",
              "  <thead>\n",
              "    <tr style=\"text-align: right;\">\n",
              "      <th></th>\n",
              "      <th>Spend</th>\n",
              "    </tr>\n",
              "  </thead>\n",
              "  <tbody>\n",
              "    <tr>\n",
              "      <th>0</th>\n",
              "      <td>50</td>\n",
              "    </tr>\n",
              "    <tr>\n",
              "      <th>1</th>\n",
              "      <td>25</td>\n",
              "    </tr>\n",
              "    <tr>\n",
              "      <th>2</th>\n",
              "      <td>50</td>\n",
              "    </tr>\n",
              "    <tr>\n",
              "      <th>3</th>\n",
              "      <td>110</td>\n",
              "    </tr>\n",
              "    <tr>\n",
              "      <th>4</th>\n",
              "      <td>370</td>\n",
              "    </tr>\n",
              "  </tbody>\n",
              "</table>\n",
              "</div>\n",
              "    <div class=\"colab-df-buttons\">\n",
              "\n",
              "  <div class=\"colab-df-container\">\n",
              "    <button class=\"colab-df-convert\" onclick=\"convertToInteractive('df-4ab8a426-80fd-4376-93aa-ac0c1769cd2e')\"\n",
              "            title=\"Convert this dataframe to an interactive table.\"\n",
              "            style=\"display:none;\">\n",
              "\n",
              "  <svg xmlns=\"http://www.w3.org/2000/svg\" height=\"24px\" viewBox=\"0 -960 960 960\">\n",
              "    <path d=\"M120-120v-720h720v720H120Zm60-500h600v-160H180v160Zm220 220h160v-160H400v160Zm0 220h160v-160H400v160ZM180-400h160v-160H180v160Zm440 0h160v-160H620v160ZM180-180h160v-160H180v160Zm440 0h160v-160H620v160Z\"/>\n",
              "  </svg>\n",
              "    </button>\n",
              "\n",
              "  <style>\n",
              "    .colab-df-container {\n",
              "      display:flex;\n",
              "      gap: 12px;\n",
              "    }\n",
              "\n",
              "    .colab-df-convert {\n",
              "      background-color: #E8F0FE;\n",
              "      border: none;\n",
              "      border-radius: 50%;\n",
              "      cursor: pointer;\n",
              "      display: none;\n",
              "      fill: #1967D2;\n",
              "      height: 32px;\n",
              "      padding: 0 0 0 0;\n",
              "      width: 32px;\n",
              "    }\n",
              "\n",
              "    .colab-df-convert:hover {\n",
              "      background-color: #E2EBFA;\n",
              "      box-shadow: 0px 1px 2px rgba(60, 64, 67, 0.3), 0px 1px 3px 1px rgba(60, 64, 67, 0.15);\n",
              "      fill: #174EA6;\n",
              "    }\n",
              "\n",
              "    .colab-df-buttons div {\n",
              "      margin-bottom: 4px;\n",
              "    }\n",
              "\n",
              "    [theme=dark] .colab-df-convert {\n",
              "      background-color: #3B4455;\n",
              "      fill: #D2E3FC;\n",
              "    }\n",
              "\n",
              "    [theme=dark] .colab-df-convert:hover {\n",
              "      background-color: #434B5C;\n",
              "      box-shadow: 0px 1px 3px 1px rgba(0, 0, 0, 0.15);\n",
              "      filter: drop-shadow(0px 1px 2px rgba(0, 0, 0, 0.3));\n",
              "      fill: #FFFFFF;\n",
              "    }\n",
              "  </style>\n",
              "\n",
              "    <script>\n",
              "      const buttonEl =\n",
              "        document.querySelector('#df-4ab8a426-80fd-4376-93aa-ac0c1769cd2e button.colab-df-convert');\n",
              "      buttonEl.style.display =\n",
              "        google.colab.kernel.accessAllowed ? 'block' : 'none';\n",
              "\n",
              "      async function convertToInteractive(key) {\n",
              "        const element = document.querySelector('#df-4ab8a426-80fd-4376-93aa-ac0c1769cd2e');\n",
              "        const dataTable =\n",
              "          await google.colab.kernel.invokeFunction('convertToInteractive',\n",
              "                                                    [key], {});\n",
              "        if (!dataTable) return;\n",
              "\n",
              "        const docLinkHtml = 'Like what you see? Visit the ' +\n",
              "          '<a target=\"_blank\" href=https://colab.research.google.com/notebooks/data_table.ipynb>data table notebook</a>'\n",
              "          + ' to learn more about interactive tables.';\n",
              "        element.innerHTML = '';\n",
              "        dataTable['output_type'] = 'display_data';\n",
              "        await google.colab.output.renderOutput(dataTable, element);\n",
              "        const docLink = document.createElement('div');\n",
              "        docLink.innerHTML = docLinkHtml;\n",
              "        element.appendChild(docLink);\n",
              "      }\n",
              "    </script>\n",
              "  </div>\n",
              "\n",
              "\n",
              "<div id=\"df-e7acec64-ab6b-47e3-af41-7ecbe78c3f4a\">\n",
              "  <button class=\"colab-df-quickchart\" onclick=\"quickchart('df-e7acec64-ab6b-47e3-af41-7ecbe78c3f4a')\"\n",
              "            title=\"Suggest charts\"\n",
              "            style=\"display:none;\">\n",
              "\n",
              "<svg xmlns=\"http://www.w3.org/2000/svg\" height=\"24px\"viewBox=\"0 0 24 24\"\n",
              "     width=\"24px\">\n",
              "    <g>\n",
              "        <path d=\"M19 3H5c-1.1 0-2 .9-2 2v14c0 1.1.9 2 2 2h14c1.1 0 2-.9 2-2V5c0-1.1-.9-2-2-2zM9 17H7v-7h2v7zm4 0h-2V7h2v10zm4 0h-2v-4h2v4z\"/>\n",
              "    </g>\n",
              "</svg>\n",
              "  </button>\n",
              "\n",
              "<style>\n",
              "  .colab-df-quickchart {\n",
              "      --bg-color: #E8F0FE;\n",
              "      --fill-color: #1967D2;\n",
              "      --hover-bg-color: #E2EBFA;\n",
              "      --hover-fill-color: #174EA6;\n",
              "      --disabled-fill-color: #AAA;\n",
              "      --disabled-bg-color: #DDD;\n",
              "  }\n",
              "\n",
              "  [theme=dark] .colab-df-quickchart {\n",
              "      --bg-color: #3B4455;\n",
              "      --fill-color: #D2E3FC;\n",
              "      --hover-bg-color: #434B5C;\n",
              "      --hover-fill-color: #FFFFFF;\n",
              "      --disabled-bg-color: #3B4455;\n",
              "      --disabled-fill-color: #666;\n",
              "  }\n",
              "\n",
              "  .colab-df-quickchart {\n",
              "    background-color: var(--bg-color);\n",
              "    border: none;\n",
              "    border-radius: 50%;\n",
              "    cursor: pointer;\n",
              "    display: none;\n",
              "    fill: var(--fill-color);\n",
              "    height: 32px;\n",
              "    padding: 0;\n",
              "    width: 32px;\n",
              "  }\n",
              "\n",
              "  .colab-df-quickchart:hover {\n",
              "    background-color: var(--hover-bg-color);\n",
              "    box-shadow: 0 1px 2px rgba(60, 64, 67, 0.3), 0 1px 3px 1px rgba(60, 64, 67, 0.15);\n",
              "    fill: var(--button-hover-fill-color);\n",
              "  }\n",
              "\n",
              "  .colab-df-quickchart-complete:disabled,\n",
              "  .colab-df-quickchart-complete:disabled:hover {\n",
              "    background-color: var(--disabled-bg-color);\n",
              "    fill: var(--disabled-fill-color);\n",
              "    box-shadow: none;\n",
              "  }\n",
              "\n",
              "  .colab-df-spinner {\n",
              "    border: 2px solid var(--fill-color);\n",
              "    border-color: transparent;\n",
              "    border-bottom-color: var(--fill-color);\n",
              "    animation:\n",
              "      spin 1s steps(1) infinite;\n",
              "  }\n",
              "\n",
              "  @keyframes spin {\n",
              "    0% {\n",
              "      border-color: transparent;\n",
              "      border-bottom-color: var(--fill-color);\n",
              "      border-left-color: var(--fill-color);\n",
              "    }\n",
              "    20% {\n",
              "      border-color: transparent;\n",
              "      border-left-color: var(--fill-color);\n",
              "      border-top-color: var(--fill-color);\n",
              "    }\n",
              "    30% {\n",
              "      border-color: transparent;\n",
              "      border-left-color: var(--fill-color);\n",
              "      border-top-color: var(--fill-color);\n",
              "      border-right-color: var(--fill-color);\n",
              "    }\n",
              "    40% {\n",
              "      border-color: transparent;\n",
              "      border-right-color: var(--fill-color);\n",
              "      border-top-color: var(--fill-color);\n",
              "    }\n",
              "    60% {\n",
              "      border-color: transparent;\n",
              "      border-right-color: var(--fill-color);\n",
              "    }\n",
              "    80% {\n",
              "      border-color: transparent;\n",
              "      border-right-color: var(--fill-color);\n",
              "      border-bottom-color: var(--fill-color);\n",
              "    }\n",
              "    90% {\n",
              "      border-color: transparent;\n",
              "      border-bottom-color: var(--fill-color);\n",
              "    }\n",
              "  }\n",
              "</style>\n",
              "\n",
              "  <script>\n",
              "    async function quickchart(key) {\n",
              "      const quickchartButtonEl =\n",
              "        document.querySelector('#' + key + ' button');\n",
              "      quickchartButtonEl.disabled = true;  // To prevent multiple clicks.\n",
              "      quickchartButtonEl.classList.add('colab-df-spinner');\n",
              "      try {\n",
              "        const charts = await google.colab.kernel.invokeFunction(\n",
              "            'suggestCharts', [key], {});\n",
              "      } catch (error) {\n",
              "        console.error('Error during call to suggestCharts:', error);\n",
              "      }\n",
              "      quickchartButtonEl.classList.remove('colab-df-spinner');\n",
              "      quickchartButtonEl.classList.add('colab-df-quickchart-complete');\n",
              "    }\n",
              "    (() => {\n",
              "      let quickchartButtonEl =\n",
              "        document.querySelector('#df-e7acec64-ab6b-47e3-af41-7ecbe78c3f4a button');\n",
              "      quickchartButtonEl.style.display =\n",
              "        google.colab.kernel.accessAllowed ? 'block' : 'none';\n",
              "    })();\n",
              "  </script>\n",
              "</div>\n",
              "    </div>\n",
              "  </div>\n"
            ]
          },
          "metadata": {},
          "execution_count": 90
        }
      ]
    },
    {
      "cell_type": "code",
      "source": [
        "Q1 = data['Spend'].quantile(0.25)\n",
        "Q2 = data['Spend'].quantile(0.50)  # Dette er også medianen\n",
        "Q3 = data['Spend'].quantile(0.75)\n",
        "\n",
        "print(\"1. kvartil (Q1):\", Q1)\n",
        "print(\"2. kvartil (Q2):\", Q2)\n",
        "print(\"3. kvartil (Q3):\", Q3)"
      ],
      "metadata": {
        "colab": {
          "base_uri": "https://localhost:8080/"
        },
        "id": "mR11p3qP6hLd",
        "outputId": "9740a280-c035-4955-80b6-d50416c0d581"
      },
      "execution_count": null,
      "outputs": [
        {
          "output_type": "stream",
          "name": "stdout",
          "text": [
            "1. kvartil (Q1): 50.0\n",
            "2. kvartil (Q2): 125.0\n",
            "3. kvartil (Q3): 260.0\n"
          ]
        }
      ]
    },
    {
      "cell_type": "markdown",
      "source": [
        "**Analyse og Implikationer:**\n",
        "\n",
        "***Bred Variation i Tidsforbrug:*** Disse kvartilværdier viser en betydelig spredning i tidsforbruget blandt gæster. Der er en stor forskel mellem Q1 og Q3, hvilket indikerer, at mens nogle gæster forlader restauranten relativt hurtigt (inden for 50 minutter), er der en betydelig andel af gæster, der bliver betydeligt længere (op til 260 minutter eller mere).\n",
        "\n",
        "***Langt Ophold for Nogle Gæster:*** Medianen (Q2) på 125 minutter tyder på, at halvdelen af gæsterne bruger mere end to timer i restauranten. Dette er en betydelig mængde tid, som potentielt kan påvirke restaurantens evne til at omsætte borde, særligt i travle perioder.\n",
        "\n",
        "**Strategiske Overvejelser:**\n",
        "\n",
        "***Forbedring af Bordomsætning:*** Restauranten kan overveje strategier for at forbedre bordomsætningen, specielt for gæster, der har tendens til at blive længere end medianen. Dette kan inkludere at indføre tidsbegrænsninger for borde under spidsbelastning eller tilbyde incitamenter for gæster til at forlade bordet hurtigere.\n",
        "\n",
        "***Tilpasning af Service:*** For gæster, der bruger lang tid i restauranten, kan der være muligheder for at øge salget, f.eks. ved at tilbyde yderligere drikkevarer, desserter eller specialmenuer for at forbedre gæstens oplevelse og samtidigt øge restaurantens indtjening.\n",
        "\n",
        "***Kapacitetsplanlægning:*** Den store variation i tidsforbrug understreger behovet for nøje kapacitetsplanlægning. Restauranten skal måske overveje fleksible seating-arrangementer eller justeringer i personalets arbejdsplaner for at imødekomme både korte og lange ophold."
      ],
      "metadata": {
        "id": "gdc2T64d6vML"
      }
    },
    {
      "cell_type": "markdown",
      "source": [
        "###4.81"
      ],
      "metadata": {
        "id": "5szMuPEsQhEk"
      }
    },
    {
      "cell_type": "markdown",
      "source": [
        "Referér til opgave 4.80 i bogen. Du ved nu, at de to standardafvigelser er 16 og 12. <br>  \n",
        "a) Beregn korrelationskoefficienten (r). Hvad kan du udlede af denne statistik omkring sammenhængen mellem de to variabler? <br>\n",
        "b) Beregn determinantkoefficienten (r2) og beskriv, hvad den viser om sammenhængen mellem de to variabler."
      ],
      "metadata": {
        "id": "gF4r9ojhmwZb"
      }
    },
    {
      "cell_type": "markdown",
      "source": [
        "#### Løsning"
      ],
      "metadata": {
        "id": "6_53kMpKigYC"
      }
    },
    {
      "cell_type": "code",
      "source": [
        "# Givne værdier\n",
        "cov_XY = -150\n",
        "s_X = 16\n",
        "s_Y = 12\n",
        "\n",
        "# Beregning af korrelationskoefficienten\n",
        "r = cov_XY / (s_X * s_Y)\n",
        "\n",
        "r"
      ],
      "metadata": {
        "colab": {
          "base_uri": "https://localhost:8080/"
        },
        "id": "-GZ5Ui5bQsDj",
        "outputId": "59635a8b-9f14-49aa-9828-7fd6b52f7edd"
      },
      "execution_count": null,
      "outputs": [
        {
          "output_type": "execute_result",
          "data": {
            "text/plain": [
              "-0.78125"
            ]
          },
          "metadata": {},
          "execution_count": 68
        }
      ]
    },
    {
      "cell_type": "markdown",
      "source": [
        "There is a moderately strong negative linear relationship."
      ],
      "metadata": {
        "id": "GUSkoobL-BrR"
      }
    },
    {
      "cell_type": "code",
      "source": [
        "# Beregning af determinantkoefficienten\n",
        "r_squared = r ** 2\n",
        "\n",
        "r_squared"
      ],
      "metadata": {
        "colab": {
          "base_uri": "https://localhost:8080/"
        },
        "id": "9t1CBjZl9YPK",
        "outputId": "47028dba-b93d-4d26-d51f-d348caaed85c"
      },
      "execution_count": null,
      "outputs": [
        {
          "output_type": "execute_result",
          "data": {
            "text/plain": [
              "0.6103515625"
            ]
          },
          "metadata": {},
          "execution_count": 69
        }
      ]
    },
    {
      "cell_type": "markdown",
      "source": [
        "61.04% of the variation in y is explained by the variation in x"
      ],
      "metadata": {
        "id": "b2Pb3TkS9_kv"
      }
    },
    {
      "cell_type": "markdown",
      "source": [
        "**a) Analyse af Korrelationskoefficienten (r)**\n",
        "Korrelationskoefficienten på -0.78125 indikerer en stærk negativ lineær sammenhæng mellem de to variabler. Det betyder, at når værdien af den ene variabel stiger, tenderer værdien af den anden variabel til at falde, og vice versa. Størrelsen af korrelationskoefficienten (absolut værdi tæt på 1) viser, at sammenhængen er relativ stærk.\n",
        "\n",
        "**b) Analyse af Determinantkoefficienten (r²)**\n",
        "Determinantkoefficienten på 0.6103515625 (eller 61.03%) indikerer, at ca. 61% af variationen i den ene variabel kan forklares af variationen i den anden variabel. Dette viser et signifikant niveau af fælles variation mellem de to variabler, hvilket understøtter den stærke sammenhæng indikeret af korrelationskoefficienten.\n",
        "\n",
        "**Samlet set** indikerer disse statistikker, at der er en stærk og negativ lineær relation mellem de to undersøgte variabler, og en betydelig del af variationen i den ene variabel kan forklares gennem dens relation til den anden variabel."
      ],
      "metadata": {
        "id": "AaqXlZSs9eDr"
      }
    },
    {
      "cell_type": "markdown",
      "source": [
        "###4.83"
      ],
      "metadata": {
        "id": "6zsJ6VNYQtIR"
      }
    },
    {
      "cell_type": "markdown",
      "source": [
        "Er den givne karakter i et fag relateret til mængden af tid, der er brugt på at studere? For at undersøge denne sandsynlighed tog en studerende en tilfældig stikprøve på 10 studerende, der havde ’Accounting’ på sidste semester. Den studerende bad dem hver især om at rapportere sin karakter i faget samt den totale mængde af timer, der er blevet brugt på at studere faget. Data findes i datasæt Xr04-83. Beregn følgende i Python (se eksempel 4.82):  <br> <br>\n",
        "a) Beregn kovarians <br> <br>\n",
        "b) Beregn korrelationskoefficienten (r) <br> <br>\n",
        "c) Beregn determinantkoefficienten (r2) <br> <br>\n",
        "d) Anvend ’Mindste kvadraters metode’ til at lave en tendenslinje (’the least squares line’) <br> <br>\n",
        "e) Hvad fortæller de udregnede statistikker om relationen mellem karakter og studietid?"
      ],
      "metadata": {
        "id": "5f1ulPUfmz23"
      }
    },
    {
      "cell_type": "markdown",
      "source": [
        "#### Løsning"
      ],
      "metadata": {
        "id": "sH9zRAuDihda"
      }
    },
    {
      "cell_type": "code",
      "source": [
        "data = pd.read_excel('https://raw.githubusercontent.com/louisehviid/km2023/main/data/Chapter4/Xr04-83.xlsx')"
      ],
      "metadata": {
        "id": "_aTBHgDlRCAt"
      },
      "execution_count": null,
      "outputs": []
    },
    {
      "cell_type": "code",
      "source": [
        "from scipy import stats\n",
        "import numpy as np"
      ],
      "metadata": {
        "id": "4FWfFDpV-ppO"
      },
      "execution_count": null,
      "outputs": []
    },
    {
      "cell_type": "code",
      "source": [
        "# a) Beregn kovarians\n",
        "cov_matrix = np.cov(data['Study time'], data['Marks'])\n",
        "covariance = cov_matrix[0, 1]\n",
        "print(covariance)"
      ],
      "metadata": {
        "colab": {
          "base_uri": "https://localhost:8080/"
        },
        "id": "atbZmfDW-pnS",
        "outputId": "ebf6c39e-438c-45b8-9064-dfeac7410279"
      },
      "execution_count": null,
      "outputs": [
        {
          "output_type": "stream",
          "name": "stdout",
          "text": [
            "98.52222222222223\n"
          ]
        }
      ]
    },
    {
      "cell_type": "code",
      "source": [
        "# b) Beregn korrelationskoefficienten (r)\n",
        "correlation_coefficient = np.corrcoef(data['Study time'], data['Marks'])[0, 1]\n",
        "print(correlation_coefficient)"
      ],
      "metadata": {
        "colab": {
          "base_uri": "https://localhost:8080/"
        },
        "id": "oznx48vU-plG",
        "outputId": "dc1a91e5-f4a0-4dd4-963f-3a38dfc73fb1"
      },
      "execution_count": null,
      "outputs": [
        {
          "output_type": "stream",
          "name": "stdout",
          "text": [
            "0.8811735631258528\n"
          ]
        }
      ]
    },
    {
      "cell_type": "code",
      "source": [
        "# c) Beregn determinantkoefficienten (r2)\n",
        "determinant_coefficient = correlation_coefficient ** 2\n",
        "print(determinant_coefficient)"
      ],
      "metadata": {
        "colab": {
          "base_uri": "https://localhost:8080/"
        },
        "id": "4KBqhZiZ-pi-",
        "outputId": "e43dd9e0-1eec-4b22-e7a4-4c92e302baad"
      },
      "execution_count": null,
      "outputs": [
        {
          "output_type": "stream",
          "name": "stdout",
          "text": [
            "0.7764668483519114\n"
          ]
        }
      ]
    },
    {
      "cell_type": "code",
      "source": [
        "# d) Anvend 'Mindste kvadraters metode' til at lave en tendenslinje\n",
        "slope, intercept, r_value, p_value, std_err = stats.linregress(data['Study time'], data['Marks'])\n",
        "tendenslinje = lambda x: slope * x + intercept"
      ],
      "metadata": {
        "id": "jJap7Hb--pg7"
      },
      "execution_count": null,
      "outputs": []
    },
    {
      "cell_type": "code",
      "source": [
        "# Plotter data og tendenslinjen\n",
        "plt.scatter(data['Study time'], data['Marks'], label='Data')\n",
        "plt.plot(data['Study time'], tendenslinje(data['Study time']), 'r-', label='Tendenslinje')\n",
        "plt.xlabel('Study time')\n",
        "plt.ylabel('Marks')\n",
        "plt.legend()\n",
        "plt.show()"
      ],
      "metadata": {
        "colab": {
          "base_uri": "https://localhost:8080/",
          "height": 54
        },
        "id": "5bJqltSg_E-d",
        "outputId": "e7f0ccc7-9d44-4df5-c09d-06f609c6a228"
      },
      "execution_count": null,
      "outputs": [
        {
          "output_type": "display_data",
          "data": {
            "text/plain": [
              "<Figure size 640x480 with 1 Axes>"
            ],
            "image/png": "[encoded data removed]"
          },
          "metadata": {}
        }
      ]
    },
    {
      "cell_type": "code",
      "source": [
        "print(f'Kovariansen: {covariance}')\n",
        "print(f'Korrelationskoefficienten (r): {correlation_coefficient}')\n",
        "print(f'Determinantkoefficienten (r²): {determinant_coefficient}')\n",
        "print(f'Hældning: {slope}')\n",
        "print(f'Skæringspunkt: {intercept}')"
      ],
      "metadata": {
        "colab": {
          "base_uri": "https://localhost:8080/"
        },
        "id": "uR2dWbcV_IK0",
        "outputId": "fbd2a3b9-0139-4358-f593-7165a8450369"
      },
      "execution_count": null,
      "outputs": [
        {
          "output_type": "stream",
          "name": "stdout",
          "text": [
            "Kovariansen: 98.52222222222223\n",
            "Korrelationskoefficienten (r): 0.8811735631258528\n",
            "Determinantkoefficienten (r²): 0.7764668483519114\n",
            "Hældning: 1.7048644491443958\n",
            "Skæringspunkt: 5.921745818111887\n"
          ]
        }
      ]
    },
    {
      "cell_type": "markdown",
      "source": [
        "**Kovariansen** giver os en idé om, hvordan de to variabler ændrer sig sammen. En positiv værdi indikerer, at højere studietid generelt er forbundet med højere karakterer, og omvendt. <br>\n",
        "\n",
        "**Korrelationskoefficienten (r)** måler styrken og retningen af den lineære sammenhæng mellem studietid og karakterer. En værdi tæt på 1 eller -1 indikerer en stærk lineær sammenhæng, mens en værdi tæt på 0 indikerer en svag sammenhæng.<br>\n",
        "\n",
        "**Determinantkoefficienten (r²)** fortæller os, hvor stor en del af variationen i karakterer, der kan forklares af deres lineære forhold til studietiden. Jo højere værdi, desto bedre er modellen til at forklare variationen i karakterer baseret på studietid.<br>\n",
        "\n",
        "**Mindste kvadraters metode** giver os en tendenslinje, der bedst passer til dataene. Hældningen (slope) af denne linje indikerer forholdet mellem studietid og karakter, og skæringen (intercept) indikerer den forventede karakter, når studietiden er 0.<br>\n",
        "\n",
        "De beregnede statistikker vil give indsigt i, hvorvidt der er en signifikant sammenhæng mellem mængden af studietid og de opnåede karakterer for studerende, der har taget 'Accounting'."
      ],
      "metadata": {
        "id": "UHsIuke8_tgm"
      }
    },
    {
      "cell_type": "markdown",
      "source": [
        "###4.130"
      ],
      "metadata": {
        "id": "_dxIZLafRCgz"
      }
    },
    {
      "cell_type": "markdown",
      "source": [
        "Referér til opgave 354 (se Python-eksempel fra workshop 2). Brug datasæt Xr03-54 til at beregne følgende i Python: <br>  \n",
        "a) Beregn tendenslinjens koefficienter (find a og b → y = ax + b)  <br>\n",
        " b) Beregn determinantkoefficienten (r2)"
      ],
      "metadata": {
        "id": "xlk_hSgmm4DB"
      }
    },
    {
      "cell_type": "markdown",
      "source": [
        "#### Løsning"
      ],
      "metadata": {
        "id": "U_P1UXb4iiEA"
      }
    },
    {
      "cell_type": "code",
      "source": [
        "data = pd.read_excel('https://raw.githubusercontent.com/louisehviid/km2023/main/data/Chapter3/Xr03-54.xlsx')"
      ],
      "metadata": {
        "id": "r9Qz3KZoRf5A"
      },
      "execution_count": null,
      "outputs": []
    },
    {
      "cell_type": "code",
      "source": [
        "data.columns"
      ],
      "metadata": {
        "colab": {
          "base_uri": "https://localhost:8080/"
        },
        "id": "ts7ylrhuAu4M",
        "outputId": "138cdb93-6a20-409d-8176-eb6df6c7570a"
      },
      "execution_count": null,
      "outputs": [
        {
          "output_type": "execute_result",
          "data": {
            "text/plain": [
              "Index(['Speed', 'Cost'], dtype='object')"
            ]
          },
          "metadata": {},
          "execution_count": 79
        }
      ]
    },
    {
      "cell_type": "code",
      "source": [
        "# a) Beregn tendenslinjens koefficienter (a og b)\n",
        "slope, intercept, r_value, p_value, std_err = stats.linregress(data['Speed'], data['Cost'])\n",
        "\n",
        "# b) Beregn determinantkoefficienten (r2)\n",
        "determinant_coefficient = r_value ** 2\n",
        "\n",
        "# Udskriv de beregnede værdier\n",
        "slope, intercept, determinant_coefficient"
      ],
      "metadata": {
        "colab": {
          "base_uri": "https://localhost:8080/"
        },
        "id": "X2beA7DcA2Y8",
        "outputId": "a7842d66-3dad-4f2c-d9e0-e0f6875e211d"
      },
      "execution_count": null,
      "outputs": [
        {
          "output_type": "execute_result",
          "data": {
            "text/plain": [
              "(77.68686868686869, -369.9333333333335, 0.9334032570102272)"
            ]
          },
          "metadata": {},
          "execution_count": 80
        }
      ]
    },
    {
      "cell_type": "markdown",
      "source": [
        "**Fortolkning:**\n",
        "\n",
        "**Tendenslinjens koefficienter:** Hældningen på ca. 77.69 angiver, at for hver ekstra enhed af 'Speed', øges 'Cost' med ca. 77.69 enheder. Skæringen med y-aksen på ca. -369.93 viser det forventede 'Cost', når 'Speed' er 0.\n",
        "\n",
        "**Determinantkoefficienten (r²)** på ca. 0.933 fortæller os, at ca. 93.34% af variationen i 'Cost' kan forklares af den lineære sammenhæng med 'Speed'. Dette er et meget højt forklaringsniveau, som indikerer, at 'Speed' er en stærk prædiktor for 'Cost'.\n",
        "\n",
        "**Disse resultater** indikerer en stærk, positiv lineær relation mellem 'Speed' og 'Cost'. Med en høj determinantkoefficient viser det, at en betydelig del af variationen i omkostningerne kan forklares ved ændringer i hastigheden. Dette betyder praktisk, at som hastigheden øges, gør omkostningerne det også, hvilket kunne antyde, at højere hastigheder medfører højere omkostninger, muligvis på grund af øgede brændstofomkostninger, slid, eller andre faktorer, der bidrager til den samlede 'Cost'."
      ],
      "metadata": {
        "id": "ZtQ7yNPvBeCz"
      }
    },
    {
      "cell_type": "markdown",
      "source": [
        "##Ekstra opgave  4.68"
      ],
      "metadata": {
        "id": "10SYbCqbRfRx"
      }
    },
    {
      "cell_type": "markdown",
      "source": [
        "Karriererådgivningscenteret på universitetet ønskede at vide mere om startlønnen blandt dimittender fra universitetet. De bad hver dimittend om at rapportere det højeste løntilbud, de havde modtaget. <br>\n",
        "I spørgeskemaet skulle dimittenderne også rapportere deres uddannelsesgrad samt startløn (kolonne A = BA (Bachelor of Arts), kolonne B = BSc (Bachelor of Science), kolonne C = BBA (Bachelor of Business Administration), kolonne D = andet). I datasæt Xr04-68 beregn kvartilerne for hver uddannelsesgrad og forklar, hvad de viser om de fire grupper af dimittender."
      ],
      "metadata": {
        "id": "y_uK1q_xnCXB"
      }
    },
    {
      "cell_type": "markdown",
      "source": [
        "### Løsning"
      ],
      "metadata": {
        "id": "Gmq-yBlsijEu"
      }
    },
    {
      "cell_type": "code",
      "source": [
        "data = pd.read_excel('https://raw.githubusercontent.com/louisehviid/km2023/main/data/Chapter4/Xr04-68.xlsx')"
      ],
      "metadata": {
        "id": "IUTUlmtkijVL"
      },
      "execution_count": null,
      "outputs": []
    },
    {
      "cell_type": "code",
      "source": [
        "data.columns"
      ],
      "metadata": {
        "colab": {
          "base_uri": "https://localhost:8080/"
        },
        "id": "wjFQoseOBvHg",
        "outputId": "7a100b18-7f3b-4018-afeb-b7379c970f02"
      },
      "execution_count": null,
      "outputs": [
        {
          "output_type": "execute_result",
          "data": {
            "text/plain": [
              "Index(['BA', 'BSc', 'BBA', 'Other'], dtype='object')"
            ]
          },
          "metadata": {},
          "execution_count": 82
        }
      ]
    },
    {
      "cell_type": "code",
      "source": [
        "# Beregning af kvartiler for hver uddannelsesgrad\n",
        "kvartiler = {}\n",
        "for grad in ['BA', 'BSc', 'BBA', 'Other']:\n",
        "    kvartiler[grad] = {\n",
        "        'Q1': data[grad].quantile(0.25),\n",
        "        'Q2': data[grad].quantile(0.50),  # Dette er også medianen\n",
        "        'Q3': data[grad].quantile(0.75)\n",
        "    }\n",
        "\n",
        "kvartiler"
      ],
      "metadata": {
        "colab": {
          "base_uri": "https://localhost:8080/"
        },
        "id": "-Z3dhCt9BwDc",
        "outputId": "924f6824-8dd6-4b54-d4c6-12c5a7d7b7c5"
      },
      "execution_count": null,
      "outputs": [
        {
          "output_type": "execute_result",
          "data": {
            "text/plain": [
              "{'BA': {'Q1': 25757.0, 'Q2': 27765.0, 'Q3': 29818.0},\n",
              " 'BSc': {'Q1': 30069.0, 'Q2': 33396.5, 'Q3': 36649.75},\n",
              " 'BBA': {'Q1': 31318.0, 'Q2': 34284.0, 'Q3': 39374.0},\n",
              " 'Other': {'Q1': 28265.0, 'Q2': 29950.5, 'Q3': 32594.75}}"
            ]
          },
          "metadata": {},
          "execution_count": 83
        }
      ]
    },
    {
      "cell_type": "markdown",
      "source": [
        "BA (Bachelor of Arts)\n",
        "1. kvartil (Q1): 25,757\n",
        "Median (Q2): 27,765\n",
        "3. kvartil (Q3): 29,818\n",
        "For BA-dimittender starter startlønnen for de nederste 25% under 25,757, medianlønnen er 27,765, og de øverste 25% har en startløn over 29,818.\n",
        "\n",
        "BSc (Bachelor of Science)\n",
        "1. kvartil (Q1): 30,069\n",
        "Median (Q2): 33,396.5\n",
        "3. kvartil (Q3): 36,649.75\n",
        "BSc-dimittender har generelt højere startløn sammenlignet med BA, med medianlønnen omkring 33,396.5, hvilket indikerer et højere lønniveau.\n",
        "\n",
        "BBA (Bachelor of Business Administration)\n",
        "1. kvartil (Q1): 31,318\n",
        "Median (Q2): 34,284\n",
        "3. kvartil (Q3): 39,374\n",
        "BBA-dimittender viser den højeste startløn blandt de undersøgte grupper, med en median på 34,284 og betydeligt højere løn i 3. kvartil.\n",
        "\n",
        "Andet\n",
        "1. kvartil (Q1): 28,265\n",
        "Median (Q2): 29,950.5\n",
        "3. kvartil (Q3): 32,594.75\n",
        "Dimittender med andre uddannelser har startlønninger, der ligger mellem BA og BSc/BBA grupperne, med en medianløn tættere på BA-dimittenderne.\n",
        "\n",
        "Analyse og Konklusion\n",
        "Lønniveau: BBA-dimittender har den højeste startløn, efterfulgt af BSc, \"Andet\", og til sidst BA. Dette kan indikere, at visse fagområder er mere lukrative end andre lige efter endt uddannelse.\n",
        "Lønspredning: Spredningen af startløn (forskellen mellem Q1 og Q3) er størst for BBA, hvilket antyder større variation i løntilbud inden for denne gruppe. BSc og \"Andet\" følger herefter, mens BA viser den mindste spredning."
      ],
      "metadata": {
        "id": "SehA_RlrCjvP"
      }
    },
    {
      "cell_type": "markdown",
      "source": [
        "Lad os visualisere fordelingerne som boksplots sat op ved siden af hinanden:"
      ],
      "metadata": {
        "id": "9hS4nUx9DHT1"
      }
    },
    {
      "cell_type": "code",
      "source": [
        "# Konverterer data til \"long\" format for lettere plotting med seaborn\n",
        "long_data = data.melt(var_name='Degree', value_name='Starting Salary')\n",
        "\n",
        "# Importerer seaborn for et mere avanceret plot\n",
        "import seaborn as sns\n",
        "\n",
        "# Sætter plotstil\n",
        "sns.set(style=\"whitegrid\")\n",
        "\n",
        "# Tegner boksplot\n",
        "plt.figure(figsize=(10, 6))\n",
        "boksplot = sns.boxplot(x='Degree', y='Starting Salary', data=long_data)\n",
        "\n",
        "# Sætter titel og labels\n",
        "boksplot.set_title('Startløn fordelt på Uddannelsesgrad')\n",
        "boksplot.set_xlabel('Uddannelsesgrad')\n",
        "boksplot.set_ylabel('Startløn')\n",
        "\n",
        "# Viser plottet\n",
        "plt.show()"
      ],
      "metadata": {
        "colab": {
          "base_uri": "https://localhost:8080/",
          "height": 54
        },
        "id": "QF02_uRRC-h3",
        "outputId": "0babba20-539c-4be3-bc4c-a5b938a3f4a7"
      },
      "execution_count": null,
      "outputs": [
        {
          "output_type": "display_data",
          "data": {
            "text/plain": [
              "<Figure size 1000x600 with 1 Axes>"
            ],
            "image/png": "[encoded data removed]"
          },
          "metadata": {}
        }
      ]
    }
  ]
}