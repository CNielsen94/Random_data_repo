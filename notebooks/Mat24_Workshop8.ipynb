{
  "nbformat": 4,
  "nbformat_minor": 0,
  "metadata": {
    "colab": {
      "provenance": [],
      "include_colab_link": true
    },
    "kernelspec": {
      "name": "python3",
      "display_name": "Python 3"
    },
    "language_info": {
      "name": "python"
    }
  },
  "cells": [
    {
      "cell_type": "markdown",
      "metadata": {
        "id": "view-in-github",
        "colab_type": "text"
      },
      "source": [
        "<a href=\"https://colab.research.google.com/github/CNielsen94/Random_data_repo/blob/main/notebooks/Mat24_Workshop8.ipynb\" target=\"_parent\"><img src=\"https://colab.research.google.com/assets/colab-badge.svg\" alt=\"Open In Colab\"/></a>"
      ]
    },
    {
      "cell_type": "markdown",
      "source": [
        "#9.10 X repræsenterer resultatet af at slå med en terning."
      ],
      "metadata": {
        "id": "RxKvWAK925D1"
      }
    },
    {
      "cell_type": "markdown",
      "source": [
        "##Tekst"
      ],
      "metadata": {
        "id": "fjsB_FOn44pV"
      }
    },
    {
      "cell_type": "code",
      "source": [],
      "metadata": {
        "id": "mEjVv0FzdS8C"
      },
      "execution_count": null,
      "outputs": []
    },
    {
      "cell_type": "markdown",
      "source": [
        "Find de følgende sandsynligheder:<br>\n",
        "a. $P(𝑋 = 1)$ <br>\n",
        "b. $P(𝑋 = 6)$"
      ],
      "metadata": {
        "id": "t2giehh13XXo"
      }
    },
    {
      "cell_type": "markdown",
      "source": [
        "$P(𝑋 = 1) = 1/6 = 0,1667$ <br>\n",
        "$P(𝑋 = 6) = 1/6 = 0,1667$"
      ],
      "metadata": {
        "id": "Kx13ZmCE4nwk"
      }
    },
    {
      "cell_type": "markdown",
      "source": [
        "##Python"
      ],
      "metadata": {
        "id": "G5RyDiiK42l1"
      }
    },
    {
      "cell_type": "code",
      "execution_count": 9,
      "metadata": {
        "colab": {
          "base_uri": "https://localhost:8080/"
        },
        "id": "p5COodDj22kW",
        "outputId": "d79b59f5-72a6-4e3d-88d9-5ba73f9c728c"
      },
      "outputs": [
        {
          "output_type": "stream",
          "name": "stdout",
          "text": [
            "\n",
            "Sandsynligheden for P(X=1): 1 / 6 = 0.1667 \n",
            "\n",
            "Sandsynligheden for P(X=6): 1 / 6 = 0.1667\n",
            "\n"
          ]
        }
      ],
      "source": [
        "from scipy . stats import binom,norm\n",
        "import numpy as np\n",
        "\n",
        "\n",
        "probability = round(binom.pmf(1, n=1, p=1/6), 4)\n",
        "\n",
        "print(f'''\n",
        "Sandsynligheden for P(X=1): 1 / 6 = {probability} \\n\n",
        "Sandsynligheden for P(X=6): 1 / 6 = {probability}\n",
        "''')"
      ]
    },
    {
      "cell_type": "markdown",
      "source": [
        "#9.11 X repræsenterer resultatet af at slå med to terninger. Brug sandsynlighederne, der er listet, i Tabel 9.2 (side 253), til at bestemme følgende sandsynligheder:"
      ],
      "metadata": {
        "id": "4zsDITLM25Yg"
      }
    },
    {
      "cell_type": "markdown",
      "source": [
        "##Tekst"
      ],
      "metadata": {
        "id": "pfGKactJ9K24"
      }
    },
    {
      "cell_type": "markdown",
      "source": [
        "a. $P(\\bar{𝑋̅} = 1) = P(1,1) = (1/6)^2 = 1/36 = 0,0278$  \n",
        "b. $P(\\bar{𝑋̅} = 6) = P(6,6) = (1/6)^2= 1/36 = 0,0278$"
      ],
      "metadata": {
        "id": "wYs1gbet8pDp"
      }
    },
    {
      "cell_type": "markdown",
      "source": [
        "##Python"
      ],
      "metadata": {
        "id": "7kN576YG9M1G"
      }
    },
    {
      "cell_type": "code",
      "source": [
        "# Step 1: Define the probability of success on a single trial.\n",
        "p_success = (1/6)**2\n",
        "\n",
        "# Step 2: Calculate the probability of exactly 1 success in 1 trial.\n",
        "probability = binom.pmf(1, n=1, p=p_success)\n",
        "\n",
        "# Step 3: Round the probability to 4 decimal places.\n",
        "rounded_probability = round(probability, 4)\n",
        "\n",
        "# Step 4: Print the rounded probability.\n",
        "print(rounded_probability)\n"
      ],
      "metadata": {
        "colab": {
          "base_uri": "https://localhost:8080/"
        },
        "id": "UgB57g8Qcjt1",
        "outputId": "a85a6074-ee6d-4fc0-fdd7-1accbdc3d73d"
      },
      "execution_count": 10,
      "outputs": [
        {
          "output_type": "stream",
          "name": "stdout",
          "text": [
            "0.0278\n"
          ]
        }
      ]
    },
    {
      "cell_type": "code",
      "source": [
        "\n",
        "print((round(binom.pmf(1, n=1, p=(1/6)**2), 4)))\n"
      ],
      "metadata": {
        "colab": {
          "base_uri": "https://localhost:8080/"
        },
        "id": "DC6KfXr724JQ",
        "outputId": "dd6f6f7d-50d5-499c-83a7-d0432a98f633"
      },
      "execution_count": 11,
      "outputs": [
        {
          "output_type": "stream",
          "name": "stdout",
          "text": [
            "0.0278\n"
          ]
        }
      ]
    },
    {
      "cell_type": "markdown",
      "source": [
        "#9.12 Et eksperiment går på at kaste fem terninger. Find de følgende sandsynligheder (bestem de eksakte sandsynligheder ligesom i Tabel 9.1 og 9.2 (side 253) for to terninger):"
      ],
      "metadata": {
        "id": "Elea3z8h25yK"
      }
    },
    {
      "cell_type": "markdown",
      "source": [
        "a. $P(\\bar{𝑋̅} = 1) = (1/6)^5 = 0,0001286$   \n",
        "b. $P(\\bar{𝑋̅} = 6) = (1/6)^5 = 0,0001286$"
      ],
      "metadata": {
        "id": "dTL03Keg9WHd"
      }
    },
    {
      "cell_type": "markdown",
      "source": [
        "##Python"
      ],
      "metadata": {
        "id": "W8WW5qjZ-PNd"
      }
    },
    {
      "cell_type": "code",
      "source": [
        "# Step 1: Define the probability of success on a single trial, with a very specific or rare event.\n",
        "p_success = (1/6)**5\n",
        "\n",
        "# Step 2: Calculate the probability of exactly 1 success in 1 trial.\n",
        "probability = binom.pmf(1, n=1, p=p_success)\n",
        "\n",
        "# Step 3: Round the probability to 4 decimal places.\n",
        "rounded_probability = round(probability, 4)\n",
        "\n",
        "# Step 4: Print the rounded probability.\n",
        "print(rounded_probability)\n"
      ],
      "metadata": {
        "colab": {
          "base_uri": "https://localhost:8080/"
        },
        "id": "Yu13rOu_dHw5",
        "outputId": "6975e40a-d8e4-4358-cdfe-3561f257e8a8"
      },
      "execution_count": 28,
      "outputs": [
        {
          "output_type": "stream",
          "name": "stdout",
          "text": [
            "0.0001\n"
          ]
        }
      ]
    },
    {
      "cell_type": "code",
      "source": [
        "print((round(binom.pmf(1, n=1, p=(1/6)**5), 4)))"
      ],
      "metadata": {
        "colab": {
          "base_uri": "https://localhost:8080/"
        },
        "id": "I-dmBhtL24H2",
        "outputId": "f82b8ede-40cc-4d6a-a1f1-20f82e31c088"
      },
      "execution_count": 29,
      "outputs": [
        {
          "output_type": "stream",
          "name": "stdout",
          "text": [
            "0.0001\n"
          ]
        }
      ]
    },
    {
      "cell_type": "markdown",
      "source": [
        "#9.14 En normalfordelt population har en middelværdi på 40 og en standardafvigelse på 12. Hvad siger den centrale grænseværdisætning om stikprøvefordelingen for gennemsnittet, hvis stikprøver med en størrelse på 100 tages fra denne population?"
      ],
      "metadata": {
        "id": "Vwjr30Zv26XJ"
      }
    },
    {
      "cell_type": "markdown",
      "source": [
        "##Tekst"
      ],
      "metadata": {
        "id": "0KNyf_lPAM-1"
      }
    },
    {
      "cell_type": "markdown",
      "source": [
        "Stikprøven er tilnærmelsesvis normalfordelt med en middelværdi på 40 og en standardafvigelse på <br>\n",
        "$𝟏𝟐 / √𝟏𝟎𝟎 = 1,2$"
      ],
      "metadata": {
        "id": "T6kjLhnZ-e0N"
      }
    },
    {
      "cell_type": "markdown",
      "source": [
        "##Python"
      ],
      "metadata": {
        "id": "XIU4QrcDAL6W"
      }
    },
    {
      "cell_type": "code",
      "source": [
        "# Givne værdier\n",
        "sigma = 12  # Populationens standardafvigelse\n",
        "n = 100  # Stikprøvestørrelse\n",
        "\n",
        "# Beregner standardafvigelsen for stikprøvefordelingen af gennemsnittet\n",
        "sigma_x_bar = sigma / (n**0.5)\n",
        "\n",
        "sigma_x_bar"
      ],
      "metadata": {
        "colab": {
          "base_uri": "https://localhost:8080/"
        },
        "id": "DUiqBgyz24Ga",
        "outputId": "703d4efb-6448-4b56-f35a-8e3b861082b0"
      },
      "execution_count": 13,
      "outputs": [
        {
          "output_type": "execute_result",
          "data": {
            "text/plain": [
              "1.2"
            ]
          },
          "metadata": {},
          "execution_count": 13
        }
      ]
    },
    {
      "cell_type": "code",
      "source": [
        "# Antagne værdier for eksempel\n",
        "mu = 100  # Antaget population middelværdi\n",
        "X = 105  # Værdien vi er interesserede i\n",
        "\n",
        "# Beregn Z-score\n",
        "Z = (X - mu) / sigma_x_bar\n",
        "\n",
        "# Beregn sandsynligheden for at stikprøvens gennemsnit er mindre end X\n",
        "P_less_than_X = norm.cdf(Z)\n",
        "\n",
        "Z, P_less_than_X"
      ],
      "metadata": {
        "colab": {
          "base_uri": "https://localhost:8080/"
        },
        "id": "FIzi8MfdI1TS",
        "outputId": "abf00fb4-5d7d-43f0-9f3e-39ed7b90480d"
      },
      "execution_count": 14,
      "outputs": [
        {
          "output_type": "execute_result",
          "data": {
            "text/plain": [
              "(4.166666666666667, 0.9999845457031177)"
            ]
          },
          "metadata": {},
          "execution_count": 14
        }
      ]
    },
    {
      "cell_type": "code",
      "source": [
        "norm.cdf(Z)"
      ],
      "metadata": {
        "colab": {
          "base_uri": "https://localhost:8080/"
        },
        "id": "T96KpFU_H-Qz",
        "outputId": "3f7475a6-aa11-4565-9e90-199d887f72bf"
      },
      "execution_count": 15,
      "outputs": [
        {
          "output_type": "execute_result",
          "data": {
            "text/plain": [
              "0.9999845457031177"
            ]
          },
          "metadata": {},
          "execution_count": 15
        }
      ]
    },
    {
      "cell_type": "markdown",
      "source": [
        "##9.15 Referér til opgave 9.14. Antag at populationen ikke er normalfordelt. Ændrer det dit svar? Forklar."
      ],
      "metadata": {
        "id": "Vxqtvd1127Ou"
      }
    },
    {
      "cell_type": "markdown",
      "source": [
        "Nej, selvom populationen ikke er normalfordelt, vil stikprøvefordelingen, ud fra den centrale grænseværdisætning, være tilnærmelsesvis normalfordelt med en stikprøve på 100.  "
      ],
      "metadata": {
        "id": "8uCdxqRiAZBb"
      }
    },
    {
      "cell_type": "markdown",
      "source": [
        "#9.16 En stikprøve på n = 16 observationer tages fra en normal population med mu = 1000 og  sigma = 200. Find følgende:"
      ],
      "metadata": {
        "id": "M2ur8_FKAjul"
      }
    },
    {
      "cell_type": "markdown",
      "source": [
        "a. $P(\\bar{𝑋̅} > 1.050)$  <br>\n",
        "b. $P(\\bar{𝑋̅} < 960)$ <br>\n",
        "c. $P(\\bar{𝑋̅} > 1.100)$\n",
        "\n"
      ],
      "metadata": {
        "id": "Wp6jVYB4Ald3"
      }
    },
    {
      "cell_type": "markdown",
      "source": [
        "##Python"
      ],
      "metadata": {
        "id": "7eGudX7qBsZ-"
      }
    },
    {
      "cell_type": "code",
      "source": [
        "from scipy.stats import norm\n",
        "import numpy as np\n",
        "# Givne værdier\n",
        "mu = 1000  # Populationens middelværdi\n",
        "sigma = 200  # Populationens standardafvigelse\n",
        "n = 16  # Stikprøvestørrelse\n",
        "sigma_x_bar = sigma / (n**0.5)  # Standardfejlen\n",
        "\n",
        "# Beregner Z-scores\n",
        "Z_1050 = (1050 - mu) / sigma_x_bar\n",
        "Z_960 = (960 - mu) / sigma_x_bar\n",
        "Z_1100 = (1100 - mu) / sigma_x_bar\n",
        "\n",
        "# Beregner sandsynlighederne\n",
        "P_1050 = 1 - norm.cdf(Z_1050)\n",
        "P_960 = norm.cdf(Z_960)\n",
        "P_1100 = 1 - norm.cdf(Z_1100)\n",
        "\n",
        "P_1050, P_960, P_1100"
      ],
      "metadata": {
        "colab": {
          "base_uri": "https://localhost:8080/"
        },
        "id": "InzNPN0wAg0q",
        "outputId": "8f2355a7-95f4-45f8-cd66-9a86075406d0"
      },
      "execution_count": 16,
      "outputs": [
        {
          "output_type": "execute_result",
          "data": {
            "text/plain": [
              "(0.15865525393145707, 0.2118553985833967, 0.02275013194817921)"
            ]
          },
          "metadata": {},
          "execution_count": 16
        }
      ]
    },
    {
      "cell_type": "markdown",
      "source": [
        "##Alternativt:"
      ],
      "metadata": {
        "id": "iv6MEgN5Bu-b"
      }
    },
    {
      "cell_type": "code",
      "source": [
        "print(round(1-norm.cdf(1050, loc=1000, scale=200/np.sqrt(16)), 4)) # 1 - norm.cdf() pga krokodillenæbet: >\n",
        "print(round(norm.cdf(960, loc=1000, scale=200/np.sqrt(16)), 4)) # Her bruger ikke 1 - norm.cdf() da næbet vender den anden vej: <\n",
        "print(round(1-norm.cdf(1100, loc=1000, scale=200/np.sqrt(16)), 4)) # 1 - norm.cdf() pga krokodillenæbet: >"
      ],
      "metadata": {
        "colab": {
          "base_uri": "https://localhost:8080/"
        },
        "id": "fXOHokWg24Ek",
        "outputId": "fc663fb4-bab0-4750-f4ff-ee79e49d41d0"
      },
      "execution_count": 17,
      "outputs": [
        {
          "output_type": "stream",
          "name": "stdout",
          "text": [
            "0.1587\n",
            "0.2119\n",
            "0.0228\n"
          ]
        }
      ]
    },
    {
      "cell_type": "markdown",
      "source": [
        "#9.39 Brug normalfordelingsapproksimationen uden den korrigerende faktor til at finde sandsynlighederne:"
      ],
      "metadata": {
        "id": "s8e39FZp27js"
      }
    },
    {
      "cell_type": "markdown",
      "source": [
        "a. Find sandsynligheden for at 𝑃̂ er større end 60 % i et binomialt eksperiment med n = 300 og p = 0,5   \n",
        "b. Gentag del a. med p = 0,55  \n",
        "c. Gentag del a. med p = 0,6"
      ],
      "metadata": {
        "id": "f9qgD0pwCnqW"
      }
    },
    {
      "cell_type": "code",
      "source": [
        "#Vi sætter de generelle parametre:\n",
        "p_hat = 0.6 # the sample proportion (60%)\n",
        "n = 300 # The number of trials"
      ],
      "metadata": {
        "id": "iJAAtZycE1lI"
      },
      "execution_count": 18,
      "outputs": []
    },
    {
      "cell_type": "code",
      "source": [
        "#For a.\n",
        "p_a=0.5 # the propability of sucess in the binomial experiment a\n",
        "resultat_a = round(1-norm.cdf((p_hat-p_a)/np.sqrt((p_a*(1-p_a))/n),loc=0, scale=1), 6)\n",
        "print(resultat_a)\n"
      ],
      "metadata": {
        "colab": {
          "base_uri": "https://localhost:8080/"
        },
        "id": "L3lZ7DEz24DK",
        "outputId": "b2ad84ed-4b72-40fe-df56-533656839a36"
      },
      "execution_count": 19,
      "outputs": [
        {
          "output_type": "stream",
          "name": "stdout",
          "text": [
            "0.000266\n"
          ]
        }
      ]
    },
    {
      "cell_type": "markdown",
      "source": [
        "\n",
        "\n",
        "```\n",
        "# in that function: norm.cdf(...) calculates the cumulative probability up to the Z_value\n",
        "# 1-norm.cdf(...) finds the probability of being greater than the Z-balue\n",
        "# round(...,4) rounds the results to four decimal places for readability\n",
        "```\n",
        "\n"
      ],
      "metadata": {
        "id": "vAmcvowccGhY"
      }
    },
    {
      "cell_type": "code",
      "source": [
        "#For b.\n",
        "p_b = 0.55\n",
        "resultat_b = round(1-norm.cdf((p_hat-p_a)/np.sqrt((p_a*(1-p_b))/n),loc=0, scale=1), 5)\n",
        "print(resultat_b)"
      ],
      "metadata": {
        "colab": {
          "base_uri": "https://localhost:8080/"
        },
        "id": "B-Zu8IytC8HT",
        "outputId": "73f589dc-cf98-4af2-cded-7c509e117225"
      },
      "execution_count": 20,
      "outputs": [
        {
          "output_type": "stream",
          "name": "stdout",
          "text": [
            "0.00013\n"
          ]
        }
      ]
    },
    {
      "cell_type": "code",
      "source": [
        "#For c.\n",
        "p_c = 0.6\n",
        "resultat_c = round(1-norm.cdf((p_hat-p_a)/np.sqrt((p_a*(1-p_c))/n),loc=0, scale=1), 4) # Afrunding over nærmeste 4 decimaler giver et scientific notation nummer som output\n",
        "print(resultat_c)"
      ],
      "metadata": {
        "colab": {
          "base_uri": "https://localhost:8080/"
        },
        "id": "iAsgQ44MDA17",
        "outputId": "d436ab2b-629e-4dea-c20a-4633415b0b39"
      },
      "execution_count": 21,
      "outputs": [
        {
          "output_type": "stream",
          "name": "stdout",
          "text": [
            "0.0001\n"
          ]
        }
      ]
    },
    {
      "cell_type": "markdown",
      "source": [
        "#9.44 Et samlebånd, der producerer en elektronisk komponent til et missilsystem, har historisk set haft en defektrate på 2 %. Der bliver taget en tilfældig stikprøve på 800 komponenter"
      ],
      "metadata": {
        "id": "pl9ZP5Wh2731"
      }
    },
    {
      "cell_type": "markdown",
      "source": [
        "a. Hvad er sandsynligheden for, at defektraten er større end 4 %? <br>\n",
        "b. Antag, at defektraten i den tilfældige stikprøve er 4 %. Hvad siger det, om defektraten på samlebåndet?"
      ],
      "metadata": {
        "id": "KRvnWumaC6UY"
      }
    },
    {
      "cell_type": "code",
      "source": [
        "p_hat=0.04 #The threshold proportion (4% defect rate) we're comparing against\n",
        "p=0.02 # The historical defect rate or the probability of finding a defective component.\n",
        "n=800 #  The number of components in the sample."
      ],
      "metadata": {
        "id": "qReE6qORDWsF"
      },
      "execution_count": 22,
      "outputs": []
    },
    {
      "cell_type": "code",
      "source": [
        "resultat_a = round(1-norm.cdf((p_hat-p)/np.sqrt((p*(1-p))/n),loc=0, scale=1), 4)\n",
        "print(resultat_a)"
      ],
      "metadata": {
        "id": "UlRtLB3B24Bn",
        "colab": {
          "base_uri": "https://localhost:8080/"
        },
        "outputId": "b7f011fa-6b15-4f88-a87e-deaa829bddec"
      },
      "execution_count": 23,
      "outputs": [
        {
          "output_type": "stream",
          "name": "stdout",
          "text": [
            "0.0\n"
          ]
        }
      ]
    },
    {
      "cell_type": "markdown",
      "source": [
        "\n",
        "\n",
        "```\n",
        "#norm.cdf(...): This function calculates the cumulative distribution function (CDF) up to the calculated Z-value for the standard normal distribution.\n",
        "\n",
        "#1-norm.cdf(...): Since the CDF gives us the probability of being less than or equal to a Z-value, subtracting this from 1 gives the probability of being greater than the Z-value.\n",
        "```\n",
        "\n"
      ],
      "metadata": {
        "id": "-WoF-V-_b4Yh"
      }
    },
    {
      "cell_type": "markdown",
      "source": [
        "b. Så tyder det på, at defektraten på samlebåndet er højere end de 2 %"
      ],
      "metadata": {
        "id": "iGrAKMBGGdGR"
      }
    },
    {
      "cell_type": "markdown",
      "source": [
        "#9.53 Fra to normale populationer tages uafhængige stikprøver med 10 observationer i hver.\n",
        "Parametrene i disse populationer er:\n",
        "\n",
        "Population 1: mu = 280, sigma = 25 <br>\n",
        "Population 2: mu = 270, sigma = 30"
      ],
      "metadata": {
        "id": "Da9yV3Z128Se"
      }
    },
    {
      "cell_type": "code",
      "source": [
        "mu_1=280; mu_2=270; #Means of the two populations\n",
        "sigma_1=25; sigma_2=30; #Standard deviations of the two populations\n",
        "n1=10; n2=10 # Sample sizes from the two populations\n",
        "\n",
        "\n",
        "print(round(1-norm.cdf((25-(mu_1-mu_2))/np.sqrt((sigma_1**2/n1)+(sigma_2**2/n2)),loc=0, scale=1), 4))"
      ],
      "metadata": {
        "id": "z-VcICY62371",
        "colab": {
          "base_uri": "https://localhost:8080/"
        },
        "outputId": "936d28c8-1f66-486f-de5e-4f6698c5dc03"
      },
      "execution_count": 24,
      "outputs": [
        {
          "output_type": "stream",
          "name": "stdout",
          "text": [
            "0.1122\n"
          ]
        }
      ]
    },
    {
      "cell_type": "markdown",
      "source": [
        "\n",
        "\n",
        "```\n",
        "# #25-(mu_1-mu_2): Represents the additional difference we're interested in beyond the natural difference in means.\n",
        "#np.sqrt((sigma_1**2/n1)+(sigma_2**2/n2)): Computes the standard error of the difference in sample means.\n",
        "#norm.cdf(...): This function calculates the cumulative probability up to the calculated Z-value for a standard normal distribution.\n",
        "#1-norm.cdf(...): Since the CDF provides the probability of being less than or equal to a Z-value, subtracting this from 1 gives the probability of being more than the Z-value.\n",
        "\n",
        "```\n",
        "\n"
      ],
      "metadata": {
        "id": "8fCIBKwvbq2o"
      }
    },
    {
      "cell_type": "markdown",
      "source": [
        "The result is the probability that the mean of Sample 1 is more than 25 units higher than the mean of Sample 2, considering the given parameters of both populations and the sample sizes."
      ],
      "metadata": {
        "id": "cETJGMkeYLtg"
      }
    },
    {
      "cell_type": "markdown",
      "source": [
        "##9.54 Gentag opgave 9.53 med stikprøvestørrelser på 50 observationer."
      ],
      "metadata": {
        "id": "N9kUvrzc284c"
      }
    },
    {
      "cell_type": "code",
      "source": [
        "mu_1=280; mu_2=270; sigma_1=25; sigma_2=30; n1=50; n2=50\n",
        "print(round(1-norm.cdf((25-(mu_1-mu_2))/np.sqrt((sigma_1**2/n1)+(sigma_2**2/n2)),loc=0, scale=1), 4))"
      ],
      "metadata": {
        "id": "k-J90898236Q",
        "colab": {
          "base_uri": "https://localhost:8080/"
        },
        "outputId": "4abf2e87-b95c-4ce7-d7c7-cb62a5b26eb9"
      },
      "execution_count": 25,
      "outputs": [
        {
          "output_type": "stream",
          "name": "stdout",
          "text": [
            "0.0033\n"
          ]
        }
      ]
    },
    {
      "cell_type": "markdown",
      "source": [
        "#9.60 En statistikprofessor har bemærket, at karaktererne i hans fag er normalfordelt.\n",
        "Han har også bemærket, at studerende på hans morgenhold har en gennemsnitsscore på 73 % med en\n",
        "standardafvigelse på 12 % i deres afsluttende eksamener. Hans eftermiddagshold har en\n",
        "gennemsnitsscore på 77 % med en standardafvigelse på 10 %. Hvad er sandsynligheden for, at\n",
        "den gennemsnitlige karakter for fire tilfældigt udvalgte studerende på morgenholdet er større\n",
        "end den gennemsnitlige karakter for fire tilfældigt udvalgte studerende på eftermiddagsholdet?"
      ],
      "metadata": {
        "id": "QDSmkbmJEDgw"
      }
    },
    {
      "cell_type": "code",
      "source": [
        "mu_1=0.73; mu_2=0.77; # Means of the monring and afernoon classes\n",
        "sigma_1=0.12; sigma_2=0.10; # standard deviations of teh mornin and afternoon classes\n",
        "n1=4; n2=4 # Sample sizes from the mornign and adternoon classes\n",
        "\n",
        "\n",
        "print(round(1-norm.cdf((0-(mu_1-mu_2))/np.sqrt(((sigma_1**2)/n1)+((sigma_2**2)/n2)),loc=0, scale=1), 4))"
      ],
      "metadata": {
        "id": "ekvT-f9s234w",
        "colab": {
          "base_uri": "https://localhost:8080/"
        },
        "outputId": "00b9b848-a46b-48eb-ae91-85a9e61b0c4f"
      },
      "execution_count": 26,
      "outputs": [
        {
          "output_type": "stream",
          "name": "stdout",
          "text": [
            "0.3043\n"
          ]
        }
      ]
    },
    {
      "cell_type": "markdown",
      "source": [
        "\n",
        "\n",
        "```\n",
        "# #1-norm.cdf(...): This expression calculates the probability of the mean grade of the morning class being greater than the mean grade of the afternoon class.\n",
        "```\n",
        "\n"
      ],
      "metadata": {
        "id": "UAIpegl8b1TH"
      }
    }
  ]
}